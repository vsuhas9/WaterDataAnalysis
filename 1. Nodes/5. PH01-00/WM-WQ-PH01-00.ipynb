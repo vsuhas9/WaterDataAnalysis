{
 "cells": [
  {
   "cell_type": "markdown",
   "metadata": {},
   "source": [
    "# Importing the Required Packages"
   ]
  },
  {
   "cell_type": "code",
   "execution_count": 1,
   "metadata": {},
   "outputs": [],
   "source": [
    "import pandas as pd"
   ]
  },
  {
   "cell_type": "code",
   "execution_count": 2,
   "metadata": {},
   "outputs": [],
   "source": [
    "import numpy as np"
   ]
  },
  {
   "cell_type": "code",
   "execution_count": 3,
   "metadata": {},
   "outputs": [],
   "source": [
    "import matplotlib.pyplot as plt"
   ]
  },
  {
   "cell_type": "markdown",
   "metadata": {},
   "source": [
    "# Importing the Feeds Data and Cleaning the data"
   ]
  },
  {
   "cell_type": "code",
   "execution_count": 4,
   "metadata": {},
   "outputs": [],
   "source": [
    "df=pd.read_csv(\"PH0100.csv\")"
   ]
  },
  {
   "cell_type": "code",
   "execution_count": 5,
   "metadata": {},
   "outputs": [
    {
     "data": {
      "text/html": [
       "<div>\n",
       "<style scoped>\n",
       "    .dataframe tbody tr th:only-of-type {\n",
       "        vertical-align: middle;\n",
       "    }\n",
       "\n",
       "    .dataframe tbody tr th {\n",
       "        vertical-align: top;\n",
       "    }\n",
       "\n",
       "    .dataframe thead th {\n",
       "        text-align: right;\n",
       "    }\n",
       "</style>\n",
       "<table border=\"1\" class=\"dataframe\">\n",
       "  <thead>\n",
       "    <tr style=\"text-align: right;\">\n",
       "      <th></th>\n",
       "      <th>created_at</th>\n",
       "      <th>entry_id</th>\n",
       "      <th>field1</th>\n",
       "      <th>field2</th>\n",
       "      <th>field3</th>\n",
       "      <th>field4</th>\n",
       "      <th>field5</th>\n",
       "      <th>latitude</th>\n",
       "      <th>longitude</th>\n",
       "      <th>elevation</th>\n",
       "      <th>status</th>\n",
       "    </tr>\n",
       "  </thead>\n",
       "  <tbody>\n",
       "    <tr>\n",
       "      <th>0</th>\n",
       "      <td>2020-12-23 17:21:20 IST</td>\n",
       "      <td>1</td>\n",
       "      <td>23.56</td>\n",
       "      <td>0.0</td>\n",
       "      <td>0.00</td>\n",
       "      <td>0.00</td>\n",
       "      <td>0.00</td>\n",
       "      <td>NaN</td>\n",
       "      <td>NaN</td>\n",
       "      <td>NaN</td>\n",
       "      <td>NaN</td>\n",
       "    </tr>\n",
       "    <tr>\n",
       "      <th>1</th>\n",
       "      <td>2020-12-23 18:39:28 IST</td>\n",
       "      <td>2</td>\n",
       "      <td>0.00</td>\n",
       "      <td>0.0</td>\n",
       "      <td>0.00</td>\n",
       "      <td>0.00</td>\n",
       "      <td>0.03</td>\n",
       "      <td>NaN</td>\n",
       "      <td>NaN</td>\n",
       "      <td>NaN</td>\n",
       "      <td>NaN</td>\n",
       "    </tr>\n",
       "    <tr>\n",
       "      <th>2</th>\n",
       "      <td>2020-12-23 18:44:40 IST</td>\n",
       "      <td>3</td>\n",
       "      <td>0.00</td>\n",
       "      <td>0.0</td>\n",
       "      <td>0.00</td>\n",
       "      <td>0.00</td>\n",
       "      <td>0.00</td>\n",
       "      <td>NaN</td>\n",
       "      <td>NaN</td>\n",
       "      <td>NaN</td>\n",
       "      <td>NaN</td>\n",
       "    </tr>\n",
       "    <tr>\n",
       "      <th>3</th>\n",
       "      <td>2020-12-24 00:58:12 IST</td>\n",
       "      <td>4</td>\n",
       "      <td>20.62</td>\n",
       "      <td>0.2</td>\n",
       "      <td>81.82</td>\n",
       "      <td>89.23</td>\n",
       "      <td>3.33</td>\n",
       "      <td>NaN</td>\n",
       "      <td>NaN</td>\n",
       "      <td>NaN</td>\n",
       "      <td>NaN</td>\n",
       "    </tr>\n",
       "    <tr>\n",
       "      <th>4</th>\n",
       "      <td>2020-12-24 01:10:33 IST</td>\n",
       "      <td>5</td>\n",
       "      <td>20.62</td>\n",
       "      <td>0.2</td>\n",
       "      <td>81.40</td>\n",
       "      <td>88.78</td>\n",
       "      <td>3.33</td>\n",
       "      <td>NaN</td>\n",
       "      <td>NaN</td>\n",
       "      <td>NaN</td>\n",
       "      <td>NaN</td>\n",
       "    </tr>\n",
       "  </tbody>\n",
       "</table>\n",
       "</div>"
      ],
      "text/plain": [
       "                created_at  entry_id  field1  field2  field3  field4  field5  \\\n",
       "0  2020-12-23 17:21:20 IST         1   23.56     0.0    0.00    0.00    0.00   \n",
       "1  2020-12-23 18:39:28 IST         2    0.00     0.0    0.00    0.00    0.03   \n",
       "2  2020-12-23 18:44:40 IST         3    0.00     0.0    0.00    0.00    0.00   \n",
       "3  2020-12-24 00:58:12 IST         4   20.62     0.2   81.82   89.23    3.33   \n",
       "4  2020-12-24 01:10:33 IST         5   20.62     0.2   81.40   88.78    3.33   \n",
       "\n",
       "   latitude  longitude  elevation  status  \n",
       "0       NaN        NaN        NaN     NaN  \n",
       "1       NaN        NaN        NaN     NaN  \n",
       "2       NaN        NaN        NaN     NaN  \n",
       "3       NaN        NaN        NaN     NaN  \n",
       "4       NaN        NaN        NaN     NaN  "
      ]
     },
     "execution_count": 5,
     "metadata": {},
     "output_type": "execute_result"
    }
   ],
   "source": [
    "df.head()"
   ]
  },
  {
   "cell_type": "code",
   "execution_count": 10,
   "metadata": {},
   "outputs": [],
   "source": [
    "headers=[\"Time_Stamp\",\"Entry_ID\",\"Temperature\",\"TDS_VOltage\",\"TDSwithoutT\",\"TDSwithT\",\"Water_Level\",\"Latitude\",\"Longitude\",\"Elevation\",\"Status\"]"
   ]
  },
  {
   "cell_type": "code",
   "execution_count": 11,
   "metadata": {},
   "outputs": [
    {
     "data": {
      "text/plain": [
       "['Time_Stamp',\n",
       " 'Entry_ID',\n",
       " 'Temperature',\n",
       " 'TDS_VOltage',\n",
       " 'TDSwithoutT',\n",
       " 'TDSwithT',\n",
       " 'Water_Level',\n",
       " 'Latitude',\n",
       " 'Longitude',\n",
       " 'Elevation',\n",
       " 'Status']"
      ]
     },
     "execution_count": 11,
     "metadata": {},
     "output_type": "execute_result"
    }
   ],
   "source": [
    "headers"
   ]
  },
  {
   "cell_type": "code",
   "execution_count": 12,
   "metadata": {},
   "outputs": [],
   "source": [
    "df.columns=headers"
   ]
  },
  {
   "cell_type": "code",
   "execution_count": 13,
   "metadata": {},
   "outputs": [
    {
     "data": {
      "text/html": [
       "<div>\n",
       "<style scoped>\n",
       "    .dataframe tbody tr th:only-of-type {\n",
       "        vertical-align: middle;\n",
       "    }\n",
       "\n",
       "    .dataframe tbody tr th {\n",
       "        vertical-align: top;\n",
       "    }\n",
       "\n",
       "    .dataframe thead th {\n",
       "        text-align: right;\n",
       "    }\n",
       "</style>\n",
       "<table border=\"1\" class=\"dataframe\">\n",
       "  <thead>\n",
       "    <tr style=\"text-align: right;\">\n",
       "      <th></th>\n",
       "      <th>Time_Stamp</th>\n",
       "      <th>Entry_ID</th>\n",
       "      <th>Temperature</th>\n",
       "      <th>TDS_VOltage</th>\n",
       "      <th>TDSwithoutT</th>\n",
       "      <th>TDSwithT</th>\n",
       "      <th>Water_Level</th>\n",
       "      <th>Latitude</th>\n",
       "      <th>Longitude</th>\n",
       "      <th>Elevation</th>\n",
       "      <th>Status</th>\n",
       "    </tr>\n",
       "  </thead>\n",
       "  <tbody>\n",
       "    <tr>\n",
       "      <th>0</th>\n",
       "      <td>2020-12-23 17:21:20 IST</td>\n",
       "      <td>1</td>\n",
       "      <td>23.56</td>\n",
       "      <td>0.0</td>\n",
       "      <td>0.00</td>\n",
       "      <td>0.00</td>\n",
       "      <td>0.00</td>\n",
       "      <td>NaN</td>\n",
       "      <td>NaN</td>\n",
       "      <td>NaN</td>\n",
       "      <td>NaN</td>\n",
       "    </tr>\n",
       "    <tr>\n",
       "      <th>1</th>\n",
       "      <td>2020-12-23 18:39:28 IST</td>\n",
       "      <td>2</td>\n",
       "      <td>0.00</td>\n",
       "      <td>0.0</td>\n",
       "      <td>0.00</td>\n",
       "      <td>0.00</td>\n",
       "      <td>0.03</td>\n",
       "      <td>NaN</td>\n",
       "      <td>NaN</td>\n",
       "      <td>NaN</td>\n",
       "      <td>NaN</td>\n",
       "    </tr>\n",
       "    <tr>\n",
       "      <th>2</th>\n",
       "      <td>2020-12-23 18:44:40 IST</td>\n",
       "      <td>3</td>\n",
       "      <td>0.00</td>\n",
       "      <td>0.0</td>\n",
       "      <td>0.00</td>\n",
       "      <td>0.00</td>\n",
       "      <td>0.00</td>\n",
       "      <td>NaN</td>\n",
       "      <td>NaN</td>\n",
       "      <td>NaN</td>\n",
       "      <td>NaN</td>\n",
       "    </tr>\n",
       "    <tr>\n",
       "      <th>3</th>\n",
       "      <td>2020-12-24 00:58:12 IST</td>\n",
       "      <td>4</td>\n",
       "      <td>20.62</td>\n",
       "      <td>0.2</td>\n",
       "      <td>81.82</td>\n",
       "      <td>89.23</td>\n",
       "      <td>3.33</td>\n",
       "      <td>NaN</td>\n",
       "      <td>NaN</td>\n",
       "      <td>NaN</td>\n",
       "      <td>NaN</td>\n",
       "    </tr>\n",
       "    <tr>\n",
       "      <th>4</th>\n",
       "      <td>2020-12-24 01:10:33 IST</td>\n",
       "      <td>5</td>\n",
       "      <td>20.62</td>\n",
       "      <td>0.2</td>\n",
       "      <td>81.40</td>\n",
       "      <td>88.78</td>\n",
       "      <td>3.33</td>\n",
       "      <td>NaN</td>\n",
       "      <td>NaN</td>\n",
       "      <td>NaN</td>\n",
       "      <td>NaN</td>\n",
       "    </tr>\n",
       "  </tbody>\n",
       "</table>\n",
       "</div>"
      ],
      "text/plain": [
       "                Time_Stamp  Entry_ID  Temperature  TDS_VOltage  TDSwithoutT  \\\n",
       "0  2020-12-23 17:21:20 IST         1        23.56          0.0         0.00   \n",
       "1  2020-12-23 18:39:28 IST         2         0.00          0.0         0.00   \n",
       "2  2020-12-23 18:44:40 IST         3         0.00          0.0         0.00   \n",
       "3  2020-12-24 00:58:12 IST         4        20.62          0.2        81.82   \n",
       "4  2020-12-24 01:10:33 IST         5        20.62          0.2        81.40   \n",
       "\n",
       "   TDSwithT  Water_Level  Latitude  Longitude  Elevation  Status  \n",
       "0      0.00         0.00       NaN        NaN        NaN     NaN  \n",
       "1      0.00         0.03       NaN        NaN        NaN     NaN  \n",
       "2      0.00         0.00       NaN        NaN        NaN     NaN  \n",
       "3     89.23         3.33       NaN        NaN        NaN     NaN  \n",
       "4     88.78         3.33       NaN        NaN        NaN     NaN  "
      ]
     },
     "execution_count": 13,
     "metadata": {},
     "output_type": "execute_result"
    }
   ],
   "source": [
    "df.head()"
   ]
  },
  {
   "cell_type": "code",
   "execution_count": 14,
   "metadata": {},
   "outputs": [],
   "source": [
    "dfplt=df[[\"Time_Stamp\",\"Temperature\",\"TDS_VOltage\",\"TDSwithoutT\",\"TDSwithT\"]]"
   ]
  },
  {
   "cell_type": "code",
   "execution_count": 15,
   "metadata": {},
   "outputs": [
    {
     "data": {
      "text/html": [
       "<div>\n",
       "<style scoped>\n",
       "    .dataframe tbody tr th:only-of-type {\n",
       "        vertical-align: middle;\n",
       "    }\n",
       "\n",
       "    .dataframe tbody tr th {\n",
       "        vertical-align: top;\n",
       "    }\n",
       "\n",
       "    .dataframe thead th {\n",
       "        text-align: right;\n",
       "    }\n",
       "</style>\n",
       "<table border=\"1\" class=\"dataframe\">\n",
       "  <thead>\n",
       "    <tr style=\"text-align: right;\">\n",
       "      <th></th>\n",
       "      <th>Time_Stamp</th>\n",
       "      <th>Temperature</th>\n",
       "      <th>TDS_VOltage</th>\n",
       "      <th>TDSwithoutT</th>\n",
       "      <th>TDSwithT</th>\n",
       "    </tr>\n",
       "  </thead>\n",
       "  <tbody>\n",
       "    <tr>\n",
       "      <th>0</th>\n",
       "      <td>2020-12-23 17:21:20 IST</td>\n",
       "      <td>23.56</td>\n",
       "      <td>0.00</td>\n",
       "      <td>0.00</td>\n",
       "      <td>0.00</td>\n",
       "    </tr>\n",
       "    <tr>\n",
       "      <th>1</th>\n",
       "      <td>2020-12-23 18:39:28 IST</td>\n",
       "      <td>0.00</td>\n",
       "      <td>0.00</td>\n",
       "      <td>0.00</td>\n",
       "      <td>0.00</td>\n",
       "    </tr>\n",
       "    <tr>\n",
       "      <th>2</th>\n",
       "      <td>2020-12-23 18:44:40 IST</td>\n",
       "      <td>0.00</td>\n",
       "      <td>0.00</td>\n",
       "      <td>0.00</td>\n",
       "      <td>0.00</td>\n",
       "    </tr>\n",
       "    <tr>\n",
       "      <th>3</th>\n",
       "      <td>2020-12-24 00:58:12 IST</td>\n",
       "      <td>20.62</td>\n",
       "      <td>0.20</td>\n",
       "      <td>81.82</td>\n",
       "      <td>89.23</td>\n",
       "    </tr>\n",
       "    <tr>\n",
       "      <th>4</th>\n",
       "      <td>2020-12-24 01:10:33 IST</td>\n",
       "      <td>20.62</td>\n",
       "      <td>0.20</td>\n",
       "      <td>81.40</td>\n",
       "      <td>88.78</td>\n",
       "    </tr>\n",
       "    <tr>\n",
       "      <th>...</th>\n",
       "      <td>...</td>\n",
       "      <td>...</td>\n",
       "      <td>...</td>\n",
       "      <td>...</td>\n",
       "      <td>...</td>\n",
       "    </tr>\n",
       "    <tr>\n",
       "      <th>1295</th>\n",
       "      <td>2021-01-04 11:33:26 IST</td>\n",
       "      <td>0.00</td>\n",
       "      <td>0.55</td>\n",
       "      <td>208.30</td>\n",
       "      <td>-12.20</td>\n",
       "    </tr>\n",
       "    <tr>\n",
       "      <th>1296</th>\n",
       "      <td>2021-01-04 11:43:51 IST</td>\n",
       "      <td>0.00</td>\n",
       "      <td>0.55</td>\n",
       "      <td>208.58</td>\n",
       "      <td>-12.22</td>\n",
       "    </tr>\n",
       "    <tr>\n",
       "      <th>1297</th>\n",
       "      <td>2021-01-04 11:54:17 IST</td>\n",
       "      <td>0.00</td>\n",
       "      <td>0.55</td>\n",
       "      <td>208.47</td>\n",
       "      <td>-12.21</td>\n",
       "    </tr>\n",
       "    <tr>\n",
       "      <th>1298</th>\n",
       "      <td>2021-01-04 12:04:42 IST</td>\n",
       "      <td>0.00</td>\n",
       "      <td>0.55</td>\n",
       "      <td>208.63</td>\n",
       "      <td>-12.22</td>\n",
       "    </tr>\n",
       "    <tr>\n",
       "      <th>1299</th>\n",
       "      <td>2021-01-04 12:15:07 IST</td>\n",
       "      <td>0.00</td>\n",
       "      <td>0.55</td>\n",
       "      <td>208.63</td>\n",
       "      <td>-12.22</td>\n",
       "    </tr>\n",
       "  </tbody>\n",
       "</table>\n",
       "<p>1300 rows × 5 columns</p>\n",
       "</div>"
      ],
      "text/plain": [
       "                   Time_Stamp  Temperature  TDS_VOltage  TDSwithoutT  TDSwithT\n",
       "0     2020-12-23 17:21:20 IST        23.56         0.00         0.00      0.00\n",
       "1     2020-12-23 18:39:28 IST         0.00         0.00         0.00      0.00\n",
       "2     2020-12-23 18:44:40 IST         0.00         0.00         0.00      0.00\n",
       "3     2020-12-24 00:58:12 IST        20.62         0.20        81.82     89.23\n",
       "4     2020-12-24 01:10:33 IST        20.62         0.20        81.40     88.78\n",
       "...                       ...          ...          ...          ...       ...\n",
       "1295  2021-01-04 11:33:26 IST         0.00         0.55       208.30    -12.20\n",
       "1296  2021-01-04 11:43:51 IST         0.00         0.55       208.58    -12.22\n",
       "1297  2021-01-04 11:54:17 IST         0.00         0.55       208.47    -12.21\n",
       "1298  2021-01-04 12:04:42 IST         0.00         0.55       208.63    -12.22\n",
       "1299  2021-01-04 12:15:07 IST         0.00         0.55       208.63    -12.22\n",
       "\n",
       "[1300 rows x 5 columns]"
      ]
     },
     "execution_count": 15,
     "metadata": {},
     "output_type": "execute_result"
    }
   ],
   "source": [
    "dfplt\n"
   ]
  },
  {
   "cell_type": "code",
   "execution_count": 16,
   "metadata": {},
   "outputs": [],
   "source": [
    "df_plot=dfplt[dfplt[\"TDSwithoutT\"]>170]"
   ]
  },
  {
   "cell_type": "code",
   "execution_count": 17,
   "metadata": {},
   "outputs": [],
   "source": [
    "df_plot=df_plot[df_plot[\"TDSwithoutT\"]<300]"
   ]
  },
  {
   "cell_type": "code",
   "execution_count": 18,
   "metadata": {},
   "outputs": [],
   "source": [
    "df_plot[\"Temperature\"]=df_plot[\"Temperature\"].astype(\"float\")\n"
   ]
  },
  {
   "cell_type": "code",
   "execution_count": 19,
   "metadata": {},
   "outputs": [],
   "source": [
    "df_plot=df_plot[df_plot[\"Temperature\"]>20]"
   ]
  },
  {
   "cell_type": "code",
   "execution_count": 20,
   "metadata": {},
   "outputs": [],
   "source": [
    "df_plot=df_plot[df_plot[\"Temperature\"]<30]"
   ]
  },
  {
   "cell_type": "markdown",
   "metadata": {},
   "source": [
    "# Plotting the data from last 15 days"
   ]
  },
  {
   "cell_type": "code",
   "execution_count": 21,
   "metadata": {},
   "outputs": [
    {
     "data": {
      "text/plain": [
       "Time_Stamp      object\n",
       "Temperature    float64\n",
       "TDS_VOltage    float64\n",
       "TDSwithoutT    float64\n",
       "TDSwithT       float64\n",
       "dtype: object"
      ]
     },
     "execution_count": 21,
     "metadata": {},
     "output_type": "execute_result"
    }
   ],
   "source": [
    "df_plot.dtypes"
   ]
  },
  {
   "cell_type": "code",
   "execution_count": 22,
   "metadata": {},
   "outputs": [
    {
     "name": "stderr",
     "output_type": "stream",
     "text": [
      "C:\\Users\\suhas\\anaconda3\\lib\\site-packages\\dateutil\\parser\\_parser.py:1213: UnknownTimezoneWarning: tzname IST identified but not understood.  Pass `tzinfos` argument in order to correctly return a timezone-aware datetime.  In a future version, this will raise an exception.\n",
      "  warnings.warn(\"tzname {tzname} identified but not understood.  \"\n"
     ]
    }
   ],
   "source": [
    "df_plot[\"Time_Stamp\"]=df_plot[\"Time_Stamp\"].astype('datetime64[ns, US/Eastern]')"
   ]
  },
  {
   "cell_type": "code",
   "execution_count": 23,
   "metadata": {},
   "outputs": [
    {
     "data": {
      "text/plain": [
       "Time_Stamp     datetime64[ns, US/Eastern]\n",
       "Temperature                       float64\n",
       "TDS_VOltage                       float64\n",
       "TDSwithoutT                       float64\n",
       "TDSwithT                          float64\n",
       "dtype: object"
      ]
     },
     "execution_count": 23,
     "metadata": {},
     "output_type": "execute_result"
    }
   ],
   "source": [
    "df_plot.dtypes"
   ]
  },
  {
   "cell_type": "code",
   "execution_count": 24,
   "metadata": {},
   "outputs": [],
   "source": [
    "df_plot.to_csv(\"FFEED_PH0100.csv\")"
   ]
  },
  {
   "cell_type": "code",
   "execution_count": 25,
   "metadata": {},
   "outputs": [
    {
     "data": {
      "image/png": "[encoded data removed]",
      "text/plain": [
       "<Figure size 432x288 with 2 Axes>"
      ]
     },
     "metadata": {
      "needs_background": "light"
     },
     "output_type": "display_data"
    }
   ],
   "source": [
    "df_plot_main=df_plot.set_index('Time_Stamp')\n",
    "ax1 = df_plot_main[\"TDSwithT\"].plot()\n",
    "plt.ylabel(\"TDS in PPM\")\n",
    "ax2 = ax1.twinx()\n",
    "ax2.spines['right'].set_position(('axes', 1.0))\n",
    "df_plot_main[\"Temperature\"].plot(ax=ax2, color=\"red\")\n",
    "plt.ylabel(\"Temperature\")\n",
    "plt.title(\"WM-WQ-PH01-00\")\n",
    "plt.savefig('WM-WQ-PH01-01', dpi=600)"
   ]
  },
  {
   "cell_type": "code",
   "execution_count": 26,
   "metadata": {
    "scrolled": true
   },
   "outputs": [
    {
     "data": {
      "text/html": [
       "<div>\n",
       "<style scoped>\n",
       "    .dataframe tbody tr th:only-of-type {\n",
       "        vertical-align: middle;\n",
       "    }\n",
       "\n",
       "    .dataframe tbody tr th {\n",
       "        vertical-align: top;\n",
       "    }\n",
       "\n",
       "    .dataframe thead th {\n",
       "        text-align: right;\n",
       "    }\n",
       "</style>\n",
       "<table border=\"1\" class=\"dataframe\">\n",
       "  <thead>\n",
       "    <tr style=\"text-align: right;\">\n",
       "      <th></th>\n",
       "      <th>Temperature</th>\n",
       "      <th>TDS_VOltage</th>\n",
       "      <th>TDSwithoutT</th>\n",
       "      <th>TDSwithT</th>\n",
       "    </tr>\n",
       "  </thead>\n",
       "  <tbody>\n",
       "    <tr>\n",
       "      <th>count</th>\n",
       "      <td>459.000000</td>\n",
       "      <td>459.000000</td>\n",
       "      <td>459.000000</td>\n",
       "      <td>459.000000</td>\n",
       "    </tr>\n",
       "    <tr>\n",
       "      <th>mean</th>\n",
       "      <td>26.037124</td>\n",
       "      <td>0.559390</td>\n",
       "      <td>211.414662</td>\n",
       "      <td>207.449020</td>\n",
       "    </tr>\n",
       "    <tr>\n",
       "      <th>std</th>\n",
       "      <td>0.043819</td>\n",
       "      <td>0.009893</td>\n",
       "      <td>3.047920</td>\n",
       "      <td>2.976849</td>\n",
       "    </tr>\n",
       "    <tr>\n",
       "      <th>min</th>\n",
       "      <td>25.880000</td>\n",
       "      <td>0.530000</td>\n",
       "      <td>201.050000</td>\n",
       "      <td>197.200000</td>\n",
       "    </tr>\n",
       "    <tr>\n",
       "      <th>25%</th>\n",
       "      <td>26.000000</td>\n",
       "      <td>0.550000</td>\n",
       "      <td>209.740000</td>\n",
       "      <td>205.745000</td>\n",
       "    </tr>\n",
       "    <tr>\n",
       "      <th>50%</th>\n",
       "      <td>26.060000</td>\n",
       "      <td>0.560000</td>\n",
       "      <td>212.240000</td>\n",
       "      <td>208.250000</td>\n",
       "    </tr>\n",
       "    <tr>\n",
       "      <th>75%</th>\n",
       "      <td>26.060000</td>\n",
       "      <td>0.570000</td>\n",
       "      <td>214.100000</td>\n",
       "      <td>210.025000</td>\n",
       "    </tr>\n",
       "    <tr>\n",
       "      <th>max</th>\n",
       "      <td>26.120000</td>\n",
       "      <td>0.570000</td>\n",
       "      <td>215.270000</td>\n",
       "      <td>211.380000</td>\n",
       "    </tr>\n",
       "  </tbody>\n",
       "</table>\n",
       "</div>"
      ],
      "text/plain": [
       "       Temperature  TDS_VOltage  TDSwithoutT    TDSwithT\n",
       "count   459.000000   459.000000   459.000000  459.000000\n",
       "mean     26.037124     0.559390   211.414662  207.449020\n",
       "std       0.043819     0.009893     3.047920    2.976849\n",
       "min      25.880000     0.530000   201.050000  197.200000\n",
       "25%      26.000000     0.550000   209.740000  205.745000\n",
       "50%      26.060000     0.560000   212.240000  208.250000\n",
       "75%      26.060000     0.570000   214.100000  210.025000\n",
       "max      26.120000     0.570000   215.270000  211.380000"
      ]
     },
     "execution_count": 26,
     "metadata": {},
     "output_type": "execute_result"
    }
   ],
   "source": [
    "df_plot.describe()"
   ]
  },
  {
   "cell_type": "markdown",
   "metadata": {},
   "source": [
    "# Plotting 1 Day Data :"
   ]
  },
  {
   "cell_type": "code",
   "execution_count": 27,
   "metadata": {},
   "outputs": [],
   "source": [
    "df_oneday=df_plot_main.tail(144)"
   ]
  },
  {
   "cell_type": "code",
   "execution_count": 28,
   "metadata": {},
   "outputs": [
    {
     "data": {
      "text/html": [
       "<div>\n",
       "<style scoped>\n",
       "    .dataframe tbody tr th:only-of-type {\n",
       "        vertical-align: middle;\n",
       "    }\n",
       "\n",
       "    .dataframe tbody tr th {\n",
       "        vertical-align: top;\n",
       "    }\n",
       "\n",
       "    .dataframe thead th {\n",
       "        text-align: right;\n",
       "    }\n",
       "</style>\n",
       "<table border=\"1\" class=\"dataframe\">\n",
       "  <thead>\n",
       "    <tr style=\"text-align: right;\">\n",
       "      <th></th>\n",
       "      <th>Temperature</th>\n",
       "      <th>TDS_VOltage</th>\n",
       "      <th>TDSwithoutT</th>\n",
       "      <th>TDSwithT</th>\n",
       "    </tr>\n",
       "  </thead>\n",
       "  <tbody>\n",
       "    <tr>\n",
       "      <th>count</th>\n",
       "      <td>144.000000</td>\n",
       "      <td>144.000000</td>\n",
       "      <td>144.000000</td>\n",
       "      <td>144.000000</td>\n",
       "    </tr>\n",
       "    <tr>\n",
       "      <th>mean</th>\n",
       "      <td>26.009167</td>\n",
       "      <td>0.566875</td>\n",
       "      <td>213.861736</td>\n",
       "      <td>209.959653</td>\n",
       "    </tr>\n",
       "    <tr>\n",
       "      <th>std</th>\n",
       "      <td>0.031986</td>\n",
       "      <td>0.004651</td>\n",
       "      <td>0.980235</td>\n",
       "      <td>0.929722</td>\n",
       "    </tr>\n",
       "    <tr>\n",
       "      <th>min</th>\n",
       "      <td>25.940000</td>\n",
       "      <td>0.560000</td>\n",
       "      <td>210.540000</td>\n",
       "      <td>206.970000</td>\n",
       "    </tr>\n",
       "    <tr>\n",
       "      <th>25%</th>\n",
       "      <td>26.000000</td>\n",
       "      <td>0.560000</td>\n",
       "      <td>213.255000</td>\n",
       "      <td>209.260000</td>\n",
       "    </tr>\n",
       "    <tr>\n",
       "      <th>50%</th>\n",
       "      <td>26.000000</td>\n",
       "      <td>0.570000</td>\n",
       "      <td>214.140000</td>\n",
       "      <td>210.270000</td>\n",
       "    </tr>\n",
       "    <tr>\n",
       "      <th>75%</th>\n",
       "      <td>26.000000</td>\n",
       "      <td>0.570000</td>\n",
       "      <td>214.560000</td>\n",
       "      <td>210.712500</td>\n",
       "    </tr>\n",
       "    <tr>\n",
       "      <th>max</th>\n",
       "      <td>26.060000</td>\n",
       "      <td>0.570000</td>\n",
       "      <td>215.270000</td>\n",
       "      <td>211.380000</td>\n",
       "    </tr>\n",
       "  </tbody>\n",
       "</table>\n",
       "</div>"
      ],
      "text/plain": [
       "       Temperature  TDS_VOltage  TDSwithoutT    TDSwithT\n",
       "count   144.000000   144.000000   144.000000  144.000000\n",
       "mean     26.009167     0.566875   213.861736  209.959653\n",
       "std       0.031986     0.004651     0.980235    0.929722\n",
       "min      25.940000     0.560000   210.540000  206.970000\n",
       "25%      26.000000     0.560000   213.255000  209.260000\n",
       "50%      26.000000     0.570000   214.140000  210.270000\n",
       "75%      26.000000     0.570000   214.560000  210.712500\n",
       "max      26.060000     0.570000   215.270000  211.380000"
      ]
     },
     "execution_count": 28,
     "metadata": {},
     "output_type": "execute_result"
    }
   ],
   "source": [
    "df_oneday.describe()"
   ]
  },
  {
   "cell_type": "code",
   "execution_count": 29,
   "metadata": {},
   "outputs": [
    {
     "data": {
      "text/plain": [
       "Text(0.5, 1.0, 'TDS Variation in One day')"
      ]
     },
     "execution_count": 29,
     "metadata": {},
     "output_type": "execute_result"
    },
    {
     "data": {
      "image/png": "[encoded data removed]",
      "text/plain": [
       "<Figure size 432x288 with 1 Axes>"
      ]
     },
     "metadata": {
      "needs_background": "light"
     },
     "output_type": "display_data"
    }
   ],
   "source": [
    "df_oneday[\"TDSwithT\"].plot()\n",
    "plt.xlabel(\"Time Stamp\")\n",
    "plt.ylabel(\"TDS in PPM\")\n",
    "plt.title(\"TDS Variation in One day\")"
   ]
  },
  {
   "cell_type": "code",
   "execution_count": 30,
   "metadata": {},
   "outputs": [
    {
     "data": {
      "text/plain": [
       "Text(0.5, 1.0, 'Temperature Variation in One day')"
      ]
     },
     "execution_count": 30,
     "metadata": {},
     "output_type": "execute_result"
    },
    {
     "data": {
      "image/png": "[encoded data removed]",
      "text/plain": [
       "<Figure size 432x288 with 1 Axes>"
      ]
     },
     "metadata": {
      "needs_background": "light"
     },
     "output_type": "display_data"
    }
   ],
   "source": [
    "df_oneday[\"Temperature\"].plot()\n",
    "plt.xlabel(\"Time Stamp\")\n",
    "plt.ylabel(\"Temperature in Degree Centigrade\")\n",
    "plt.title(\"Temperature Variation in One day\")"
   ]
  },
  {
   "cell_type": "code",
   "execution_count": 31,
   "metadata": {},
   "outputs": [
    {
     "data": {
      "image/png": "[encoded data removed]",
      "text/plain": [
       "<Figure size 432x288 with 2 Axes>"
      ]
     },
     "metadata": {
      "needs_background": "light"
     },
     "output_type": "display_data"
    }
   ],
   "source": [
    "\n",
    "ax1 = df_oneday[\"TDSwithoutT\"].plot()\n",
    "plt.ylabel(\"TDS in PPM\")\n",
    "ax2 = ax1.twinx()\n",
    "ax2.spines['right'].set_position(('axes', 1.0))\n",
    "df_oneday[\"Temperature\"].plot(ax=ax2, color=\"red\")\n",
    "plt.ylabel(\"Temperature\")\n",
    "plt.title(\"WM-WQ-VN-01-00- 1 Day\")\n",
    "plt.savefig('WM-WQ-VN-01-01- 1 Day', dpi=600)"
   ]
  },
  {
   "cell_type": "code",
   "execution_count": 124,
   "metadata": {},
   "outputs": [
    {
     "data": {
      "text/html": [
       "<div>\n",
       "<style scoped>\n",
       "    .dataframe tbody tr th:only-of-type {\n",
       "        vertical-align: middle;\n",
       "    }\n",
       "\n",
       "    .dataframe tbody tr th {\n",
       "        vertical-align: top;\n",
       "    }\n",
       "\n",
       "    .dataframe thead th {\n",
       "        text-align: right;\n",
       "    }\n",
       "</style>\n",
       "<table border=\"1\" class=\"dataframe\">\n",
       "  <thead>\n",
       "    <tr style=\"text-align: right;\">\n",
       "      <th></th>\n",
       "      <th>Temperature</th>\n",
       "      <th>TDS_VOltage</th>\n",
       "      <th>TDSwithoutT</th>\n",
       "      <th>TDSwithT</th>\n",
       "    </tr>\n",
       "  </thead>\n",
       "  <tbody>\n",
       "    <tr>\n",
       "      <th>Temperature</th>\n",
       "      <td>1.000000</td>\n",
       "      <td>0.059761</td>\n",
       "      <td>-0.616229</td>\n",
       "      <td>-0.674612</td>\n",
       "    </tr>\n",
       "    <tr>\n",
       "      <th>TDS_VOltage</th>\n",
       "      <td>0.059761</td>\n",
       "      <td>1.000000</td>\n",
       "      <td>0.671234</td>\n",
       "      <td>0.622873</td>\n",
       "    </tr>\n",
       "    <tr>\n",
       "      <th>TDSwithoutT</th>\n",
       "      <td>-0.616229</td>\n",
       "      <td>0.671234</td>\n",
       "      <td>1.000000</td>\n",
       "      <td>0.997075</td>\n",
       "    </tr>\n",
       "    <tr>\n",
       "      <th>TDSwithT</th>\n",
       "      <td>-0.674612</td>\n",
       "      <td>0.622873</td>\n",
       "      <td>0.997075</td>\n",
       "      <td>1.000000</td>\n",
       "    </tr>\n",
       "  </tbody>\n",
       "</table>\n",
       "</div>"
      ],
      "text/plain": [
       "             Temperature  TDS_VOltage  TDSwithoutT  TDSwithT\n",
       "Temperature     1.000000     0.059761    -0.616229 -0.674612\n",
       "TDS_VOltage     0.059761     1.000000     0.671234  0.622873\n",
       "TDSwithoutT    -0.616229     0.671234     1.000000  0.997075\n",
       "TDSwithT       -0.674612     0.622873     0.997075  1.000000"
      ]
     },
     "execution_count": 124,
     "metadata": {},
     "output_type": "execute_result"
    }
   ],
   "source": [
    "df_oneday.corr()"
   ]
  },
  {
   "cell_type": "code",
   "execution_count": null,
   "metadata": {},
   "outputs": [],
   "source": []
  },
  {
   "cell_type": "code",
   "execution_count": null,
   "metadata": {},
   "outputs": [],
   "source": []
  }
 ],
 "metadata": {
  "kernelspec": {
   "display_name": "Python 3",
   "language": "python",
   "name": "python3"
  },
  "language_info": {
   "codemirror_mode": {
    "name": "ipython",
    "version": 3
   },
   "file_extension": ".py",
   "mimetype": "text/x-python",
   "name": "python",
   "nbconvert_exporter": "python",
   "pygments_lexer": "ipython3",
   "version": "3.8.3"
  }
 },
 "nbformat": 4,
 "nbformat_minor": 4
}
