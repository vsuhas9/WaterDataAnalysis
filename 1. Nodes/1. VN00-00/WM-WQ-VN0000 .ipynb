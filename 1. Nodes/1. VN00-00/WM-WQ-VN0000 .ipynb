{
 "cells": [
  {
   "cell_type": "markdown",
   "metadata": {},
   "source": [
    "# Importing the Required Packages"
   ]
  },
  {
   "cell_type": "code",
   "execution_count": 1,
   "metadata": {},
   "outputs": [],
   "source": [
    "import pandas as pd"
   ]
  },
  {
   "cell_type": "code",
   "execution_count": 2,
   "metadata": {},
   "outputs": [],
   "source": [
    "import numpy as np"
   ]
  },
  {
   "cell_type": "code",
   "execution_count": 3,
   "metadata": {},
   "outputs": [],
   "source": [
    "import matplotlib.pyplot as plt"
   ]
  },
  {
   "cell_type": "markdown",
   "metadata": {},
   "source": [
    "# Importing the Feeds Data and Cleaning the data"
   ]
  },
  {
   "cell_type": "code",
   "execution_count": 4,
   "metadata": {},
   "outputs": [],
   "source": [
    "df=pd.read_csv(\"VN0000.csv\")"
   ]
  },
  {
   "cell_type": "code",
   "execution_count": 5,
   "metadata": {},
   "outputs": [
    {
     "data": {
      "text/html": [
       "<div>\n",
       "<style scoped>\n",
       "    .dataframe tbody tr th:only-of-type {\n",
       "        vertical-align: middle;\n",
       "    }\n",
       "\n",
       "    .dataframe tbody tr th {\n",
       "        vertical-align: top;\n",
       "    }\n",
       "\n",
       "    .dataframe thead th {\n",
       "        text-align: right;\n",
       "    }\n",
       "</style>\n",
       "<table border=\"1\" class=\"dataframe\">\n",
       "  <thead>\n",
       "    <tr style=\"text-align: right;\">\n",
       "      <th></th>\n",
       "      <th>created_at</th>\n",
       "      <th>entry_id</th>\n",
       "      <th>field1</th>\n",
       "      <th>field2</th>\n",
       "      <th>field3</th>\n",
       "      <th>field4</th>\n",
       "      <th>field5</th>\n",
       "      <th>latitude</th>\n",
       "      <th>longitude</th>\n",
       "      <th>elevation</th>\n",
       "      <th>status</th>\n",
       "    </tr>\n",
       "  </thead>\n",
       "  <tbody>\n",
       "    <tr>\n",
       "      <th>0</th>\n",
       "      <td>2020-12-14 01:46:20 IST</td>\n",
       "      <td>1</td>\n",
       "      <td>0.0</td>\n",
       "      <td>0.00</td>\n",
       "      <td>0.51</td>\n",
       "      <td>-0.03</td>\n",
       "      <td>0.00</td>\n",
       "      <td>NaN</td>\n",
       "      <td>NaN</td>\n",
       "      <td>NaN</td>\n",
       "      <td>NaN</td>\n",
       "    </tr>\n",
       "    <tr>\n",
       "      <th>1</th>\n",
       "      <td>2020-12-14 11:34:10 IST</td>\n",
       "      <td>2</td>\n",
       "      <td>85.0</td>\n",
       "      <td>0.15</td>\n",
       "      <td>62.72</td>\n",
       "      <td>29.16</td>\n",
       "      <td>11.31</td>\n",
       "      <td>NaN</td>\n",
       "      <td>NaN</td>\n",
       "      <td>NaN</td>\n",
       "      <td>NaN</td>\n",
       "    </tr>\n",
       "    <tr>\n",
       "      <th>2</th>\n",
       "      <td>2020-12-14 11:34:27 IST</td>\n",
       "      <td>3</td>\n",
       "      <td>24.0</td>\n",
       "      <td>0.15</td>\n",
       "      <td>63.08</td>\n",
       "      <td>64.31</td>\n",
       "      <td>11.27</td>\n",
       "      <td>NaN</td>\n",
       "      <td>NaN</td>\n",
       "      <td>NaN</td>\n",
       "      <td>NaN</td>\n",
       "    </tr>\n",
       "    <tr>\n",
       "      <th>3</th>\n",
       "      <td>2020-12-14 11:34:46 IST</td>\n",
       "      <td>4</td>\n",
       "      <td>24.0</td>\n",
       "      <td>0.15</td>\n",
       "      <td>62.64</td>\n",
       "      <td>63.87</td>\n",
       "      <td>11.27</td>\n",
       "      <td>NaN</td>\n",
       "      <td>NaN</td>\n",
       "      <td>NaN</td>\n",
       "      <td>NaN</td>\n",
       "    </tr>\n",
       "    <tr>\n",
       "      <th>4</th>\n",
       "      <td>2020-12-14 11:37:47 IST</td>\n",
       "      <td>5</td>\n",
       "      <td>85.0</td>\n",
       "      <td>0.14</td>\n",
       "      <td>57.65</td>\n",
       "      <td>-3.08</td>\n",
       "      <td>12.24</td>\n",
       "      <td>NaN</td>\n",
       "      <td>NaN</td>\n",
       "      <td>NaN</td>\n",
       "      <td>NaN</td>\n",
       "    </tr>\n",
       "  </tbody>\n",
       "</table>\n",
       "</div>"
      ],
      "text/plain": [
       "                created_at  entry_id  field1  field2  field3  field4  field5  \\\n",
       "0  2020-12-14 01:46:20 IST         1     0.0    0.00    0.51   -0.03    0.00   \n",
       "1  2020-12-14 11:34:10 IST         2    85.0    0.15   62.72   29.16   11.31   \n",
       "2  2020-12-14 11:34:27 IST         3    24.0    0.15   63.08   64.31   11.27   \n",
       "3  2020-12-14 11:34:46 IST         4    24.0    0.15   62.64   63.87   11.27   \n",
       "4  2020-12-14 11:37:47 IST         5    85.0    0.14   57.65   -3.08   12.24   \n",
       "\n",
       "   latitude  longitude  elevation  status  \n",
       "0       NaN        NaN        NaN     NaN  \n",
       "1       NaN        NaN        NaN     NaN  \n",
       "2       NaN        NaN        NaN     NaN  \n",
       "3       NaN        NaN        NaN     NaN  \n",
       "4       NaN        NaN        NaN     NaN  "
      ]
     },
     "execution_count": 5,
     "metadata": {},
     "output_type": "execute_result"
    }
   ],
   "source": [
    "df.head()"
   ]
  },
  {
   "cell_type": "code",
   "execution_count": 6,
   "metadata": {},
   "outputs": [],
   "source": [
    "headers=[\"Time_Stamp\",\"Entry_ID\",\"Temperature\",\"TDS-Voltage\",\"TDSwithoutT\",\"TDSwithT\",\"Water_Level\",\"Latitude\",\"Longitude\",\"Elevation\",\"Status\"]"
   ]
  },
  {
   "cell_type": "code",
   "execution_count": 7,
   "metadata": {},
   "outputs": [
    {
     "data": {
      "text/plain": [
       "['Time_Stamp',\n",
       " 'Entry_ID',\n",
       " 'Temperature',\n",
       " 'TDS-Voltage',\n",
       " 'TDSwithoutT',\n",
       " 'TDSwithT',\n",
       " 'Water_Level',\n",
       " 'Latitude',\n",
       " 'Longitude',\n",
       " 'Elevation',\n",
       " 'Status']"
      ]
     },
     "execution_count": 7,
     "metadata": {},
     "output_type": "execute_result"
    }
   ],
   "source": [
    "headers"
   ]
  },
  {
   "cell_type": "code",
   "execution_count": 8,
   "metadata": {},
   "outputs": [],
   "source": [
    "df.columns=headers"
   ]
  },
  {
   "cell_type": "code",
   "execution_count": 9,
   "metadata": {},
   "outputs": [
    {
     "data": {
      "text/html": [
       "<div>\n",
       "<style scoped>\n",
       "    .dataframe tbody tr th:only-of-type {\n",
       "        vertical-align: middle;\n",
       "    }\n",
       "\n",
       "    .dataframe tbody tr th {\n",
       "        vertical-align: top;\n",
       "    }\n",
       "\n",
       "    .dataframe thead th {\n",
       "        text-align: right;\n",
       "    }\n",
       "</style>\n",
       "<table border=\"1\" class=\"dataframe\">\n",
       "  <thead>\n",
       "    <tr style=\"text-align: right;\">\n",
       "      <th></th>\n",
       "      <th>Time_Stamp</th>\n",
       "      <th>Entry_ID</th>\n",
       "      <th>Temperature</th>\n",
       "      <th>TDS-Voltage</th>\n",
       "      <th>TDSwithoutT</th>\n",
       "      <th>TDSwithT</th>\n",
       "      <th>Water_Level</th>\n",
       "      <th>Latitude</th>\n",
       "      <th>Longitude</th>\n",
       "      <th>Elevation</th>\n",
       "      <th>Status</th>\n",
       "    </tr>\n",
       "  </thead>\n",
       "  <tbody>\n",
       "    <tr>\n",
       "      <th>0</th>\n",
       "      <td>2020-12-14 01:46:20 IST</td>\n",
       "      <td>1</td>\n",
       "      <td>0.0</td>\n",
       "      <td>0.00</td>\n",
       "      <td>0.51</td>\n",
       "      <td>-0.03</td>\n",
       "      <td>0.00</td>\n",
       "      <td>NaN</td>\n",
       "      <td>NaN</td>\n",
       "      <td>NaN</td>\n",
       "      <td>NaN</td>\n",
       "    </tr>\n",
       "    <tr>\n",
       "      <th>1</th>\n",
       "      <td>2020-12-14 11:34:10 IST</td>\n",
       "      <td>2</td>\n",
       "      <td>85.0</td>\n",
       "      <td>0.15</td>\n",
       "      <td>62.72</td>\n",
       "      <td>29.16</td>\n",
       "      <td>11.31</td>\n",
       "      <td>NaN</td>\n",
       "      <td>NaN</td>\n",
       "      <td>NaN</td>\n",
       "      <td>NaN</td>\n",
       "    </tr>\n",
       "    <tr>\n",
       "      <th>2</th>\n",
       "      <td>2020-12-14 11:34:27 IST</td>\n",
       "      <td>3</td>\n",
       "      <td>24.0</td>\n",
       "      <td>0.15</td>\n",
       "      <td>63.08</td>\n",
       "      <td>64.31</td>\n",
       "      <td>11.27</td>\n",
       "      <td>NaN</td>\n",
       "      <td>NaN</td>\n",
       "      <td>NaN</td>\n",
       "      <td>NaN</td>\n",
       "    </tr>\n",
       "    <tr>\n",
       "      <th>3</th>\n",
       "      <td>2020-12-14 11:34:46 IST</td>\n",
       "      <td>4</td>\n",
       "      <td>24.0</td>\n",
       "      <td>0.15</td>\n",
       "      <td>62.64</td>\n",
       "      <td>63.87</td>\n",
       "      <td>11.27</td>\n",
       "      <td>NaN</td>\n",
       "      <td>NaN</td>\n",
       "      <td>NaN</td>\n",
       "      <td>NaN</td>\n",
       "    </tr>\n",
       "    <tr>\n",
       "      <th>4</th>\n",
       "      <td>2020-12-14 11:37:47 IST</td>\n",
       "      <td>5</td>\n",
       "      <td>85.0</td>\n",
       "      <td>0.14</td>\n",
       "      <td>57.65</td>\n",
       "      <td>-3.08</td>\n",
       "      <td>12.24</td>\n",
       "      <td>NaN</td>\n",
       "      <td>NaN</td>\n",
       "      <td>NaN</td>\n",
       "      <td>NaN</td>\n",
       "    </tr>\n",
       "  </tbody>\n",
       "</table>\n",
       "</div>"
      ],
      "text/plain": [
       "                Time_Stamp  Entry_ID  Temperature  TDS-Voltage  TDSwithoutT  \\\n",
       "0  2020-12-14 01:46:20 IST         1          0.0         0.00         0.51   \n",
       "1  2020-12-14 11:34:10 IST         2         85.0         0.15        62.72   \n",
       "2  2020-12-14 11:34:27 IST         3         24.0         0.15        63.08   \n",
       "3  2020-12-14 11:34:46 IST         4         24.0         0.15        62.64   \n",
       "4  2020-12-14 11:37:47 IST         5         85.0         0.14        57.65   \n",
       "\n",
       "   TDSwithT  Water_Level  Latitude  Longitude  Elevation  Status  \n",
       "0     -0.03         0.00       NaN        NaN        NaN     NaN  \n",
       "1     29.16        11.31       NaN        NaN        NaN     NaN  \n",
       "2     64.31        11.27       NaN        NaN        NaN     NaN  \n",
       "3     63.87        11.27       NaN        NaN        NaN     NaN  \n",
       "4     -3.08        12.24       NaN        NaN        NaN     NaN  "
      ]
     },
     "execution_count": 9,
     "metadata": {},
     "output_type": "execute_result"
    }
   ],
   "source": [
    "df.head()"
   ]
  },
  {
   "cell_type": "code",
   "execution_count": 10,
   "metadata": {},
   "outputs": [],
   "source": [
    "dfplt=df[[\"Time_Stamp\",\"Temperature\",\"TDS-Voltage\",\"TDSwithoutT\",\"TDSwithT\",\"Water_Level\"]]"
   ]
  },
  {
   "cell_type": "code",
   "execution_count": 11,
   "metadata": {},
   "outputs": [
    {
     "data": {
      "text/html": [
       "<div>\n",
       "<style scoped>\n",
       "    .dataframe tbody tr th:only-of-type {\n",
       "        vertical-align: middle;\n",
       "    }\n",
       "\n",
       "    .dataframe tbody tr th {\n",
       "        vertical-align: top;\n",
       "    }\n",
       "\n",
       "    .dataframe thead th {\n",
       "        text-align: right;\n",
       "    }\n",
       "</style>\n",
       "<table border=\"1\" class=\"dataframe\">\n",
       "  <thead>\n",
       "    <tr style=\"text-align: right;\">\n",
       "      <th></th>\n",
       "      <th>Time_Stamp</th>\n",
       "      <th>Temperature</th>\n",
       "      <th>TDS-Voltage</th>\n",
       "      <th>TDSwithoutT</th>\n",
       "      <th>TDSwithT</th>\n",
       "      <th>Water_Level</th>\n",
       "    </tr>\n",
       "  </thead>\n",
       "  <tbody>\n",
       "    <tr>\n",
       "      <th>0</th>\n",
       "      <td>2020-12-14 01:46:20 IST</td>\n",
       "      <td>0.0</td>\n",
       "      <td>0.00</td>\n",
       "      <td>0.51</td>\n",
       "      <td>-0.03</td>\n",
       "      <td>0.00</td>\n",
       "    </tr>\n",
       "    <tr>\n",
       "      <th>1</th>\n",
       "      <td>2020-12-14 11:34:10 IST</td>\n",
       "      <td>85.0</td>\n",
       "      <td>0.15</td>\n",
       "      <td>62.72</td>\n",
       "      <td>29.16</td>\n",
       "      <td>11.31</td>\n",
       "    </tr>\n",
       "    <tr>\n",
       "      <th>2</th>\n",
       "      <td>2020-12-14 11:34:27 IST</td>\n",
       "      <td>24.0</td>\n",
       "      <td>0.15</td>\n",
       "      <td>63.08</td>\n",
       "      <td>64.31</td>\n",
       "      <td>11.27</td>\n",
       "    </tr>\n",
       "    <tr>\n",
       "      <th>3</th>\n",
       "      <td>2020-12-14 11:34:46 IST</td>\n",
       "      <td>24.0</td>\n",
       "      <td>0.15</td>\n",
       "      <td>62.64</td>\n",
       "      <td>63.87</td>\n",
       "      <td>11.27</td>\n",
       "    </tr>\n",
       "    <tr>\n",
       "      <th>4</th>\n",
       "      <td>2020-12-14 11:37:47 IST</td>\n",
       "      <td>85.0</td>\n",
       "      <td>0.14</td>\n",
       "      <td>57.65</td>\n",
       "      <td>-3.08</td>\n",
       "      <td>12.24</td>\n",
       "    </tr>\n",
       "    <tr>\n",
       "      <th>...</th>\n",
       "      <td>...</td>\n",
       "      <td>...</td>\n",
       "      <td>...</td>\n",
       "      <td>...</td>\n",
       "      <td>...</td>\n",
       "      <td>...</td>\n",
       "    </tr>\n",
       "    <tr>\n",
       "      <th>3094</th>\n",
       "      <td>2020-12-29 15:09:51 IST</td>\n",
       "      <td>23.5</td>\n",
       "      <td>0.14</td>\n",
       "      <td>57.95</td>\n",
       "      <td>59.67</td>\n",
       "      <td>6.44</td>\n",
       "    </tr>\n",
       "    <tr>\n",
       "      <th>3095</th>\n",
       "      <td>2020-12-29 15:11:59 IST</td>\n",
       "      <td>0.0</td>\n",
       "      <td>0.14</td>\n",
       "      <td>58.79</td>\n",
       "      <td>60.54</td>\n",
       "      <td>6.44</td>\n",
       "    </tr>\n",
       "    <tr>\n",
       "      <th>3096</th>\n",
       "      <td>2020-12-29 15:14:04 IST</td>\n",
       "      <td>23.5</td>\n",
       "      <td>0.14</td>\n",
       "      <td>58.82</td>\n",
       "      <td>60.57</td>\n",
       "      <td>6.44</td>\n",
       "    </tr>\n",
       "    <tr>\n",
       "      <th>3097</th>\n",
       "      <td>2020-12-29 15:16:13 IST</td>\n",
       "      <td>0.0</td>\n",
       "      <td>0.14</td>\n",
       "      <td>58.83</td>\n",
       "      <td>60.58</td>\n",
       "      <td>6.44</td>\n",
       "    </tr>\n",
       "    <tr>\n",
       "      <th>3098</th>\n",
       "      <td>2020-12-29 15:18:20 IST</td>\n",
       "      <td>23.5</td>\n",
       "      <td>0.14</td>\n",
       "      <td>58.90</td>\n",
       "      <td>-3.15</td>\n",
       "      <td>6.44</td>\n",
       "    </tr>\n",
       "  </tbody>\n",
       "</table>\n",
       "<p>3099 rows × 6 columns</p>\n",
       "</div>"
      ],
      "text/plain": [
       "                   Time_Stamp  Temperature  TDS-Voltage  TDSwithoutT  \\\n",
       "0     2020-12-14 01:46:20 IST          0.0         0.00         0.51   \n",
       "1     2020-12-14 11:34:10 IST         85.0         0.15        62.72   \n",
       "2     2020-12-14 11:34:27 IST         24.0         0.15        63.08   \n",
       "3     2020-12-14 11:34:46 IST         24.0         0.15        62.64   \n",
       "4     2020-12-14 11:37:47 IST         85.0         0.14        57.65   \n",
       "...                       ...          ...          ...          ...   \n",
       "3094  2020-12-29 15:09:51 IST         23.5         0.14        57.95   \n",
       "3095  2020-12-29 15:11:59 IST          0.0         0.14        58.79   \n",
       "3096  2020-12-29 15:14:04 IST         23.5         0.14        58.82   \n",
       "3097  2020-12-29 15:16:13 IST          0.0         0.14        58.83   \n",
       "3098  2020-12-29 15:18:20 IST         23.5         0.14        58.90   \n",
       "\n",
       "      TDSwithT  Water_Level  \n",
       "0        -0.03         0.00  \n",
       "1        29.16        11.31  \n",
       "2        64.31        11.27  \n",
       "3        63.87        11.27  \n",
       "4        -3.08        12.24  \n",
       "...        ...          ...  \n",
       "3094     59.67         6.44  \n",
       "3095     60.54         6.44  \n",
       "3096     60.57         6.44  \n",
       "3097     60.58         6.44  \n",
       "3098     -3.15         6.44  \n",
       "\n",
       "[3099 rows x 6 columns]"
      ]
     },
     "execution_count": 11,
     "metadata": {},
     "output_type": "execute_result"
    }
   ],
   "source": [
    "dfplt\n"
   ]
  },
  {
   "cell_type": "code",
   "execution_count": 14,
   "metadata": {},
   "outputs": [],
   "source": [
    "df_plot=dfplt[dfplt[\"TDSwithT\"]>20]"
   ]
  },
  {
   "cell_type": "code",
   "execution_count": 15,
   "metadata": {},
   "outputs": [],
   "source": [
    "df_plot=df_plot[df_plot[\"TDSwithT\"]<100]"
   ]
  },
  {
   "cell_type": "code",
   "execution_count": 16,
   "metadata": {},
   "outputs": [],
   "source": [
    "df_plot=df_plot[df_plot[\"Water_Level\"]>3]"
   ]
  },
  {
   "cell_type": "code",
   "execution_count": 17,
   "metadata": {},
   "outputs": [],
   "source": [
    "df_plot=df_plot[df_plot[\"Water_Level\"]<=15]"
   ]
  },
  {
   "cell_type": "code",
   "execution_count": 18,
   "metadata": {},
   "outputs": [],
   "source": [
    "df_plot[\"Temperature\"]=df_plot[\"Temperature\"].astype(\"float\")\n"
   ]
  },
  {
   "cell_type": "code",
   "execution_count": 19,
   "metadata": {},
   "outputs": [],
   "source": [
    "df_plot=df_plot[df_plot[\"Temperature\"]>20]"
   ]
  },
  {
   "cell_type": "code",
   "execution_count": 20,
   "metadata": {},
   "outputs": [],
   "source": [
    "df_plot=df_plot[df_plot[\"Temperature\"]<30]"
   ]
  },
  {
   "cell_type": "markdown",
   "metadata": {},
   "source": [
    "# Plotting the data from last 15 days"
   ]
  },
  {
   "cell_type": "code",
   "execution_count": 21,
   "metadata": {},
   "outputs": [
    {
     "data": {
      "text/plain": [
       "Time_Stamp      object\n",
       "Temperature    float64\n",
       "TDS-Voltage    float64\n",
       "TDSwithoutT    float64\n",
       "TDSwithT       float64\n",
       "Water_Level    float64\n",
       "dtype: object"
      ]
     },
     "execution_count": 21,
     "metadata": {},
     "output_type": "execute_result"
    }
   ],
   "source": [
    "df_plot.dtypes"
   ]
  },
  {
   "cell_type": "code",
   "execution_count": 22,
   "metadata": {},
   "outputs": [
    {
     "name": "stderr",
     "output_type": "stream",
     "text": [
      "C:\\Users\\suhas\\anaconda3\\lib\\site-packages\\dateutil\\parser\\_parser.py:1213: UnknownTimezoneWarning: tzname IST identified but not understood.  Pass `tzinfos` argument in order to correctly return a timezone-aware datetime.  In a future version, this will raise an exception.\n",
      "  warnings.warn(\"tzname {tzname} identified but not understood.  \"\n"
     ]
    }
   ],
   "source": [
    "df_plot[\"Time_Stamp\"]=df_plot[\"Time_Stamp\"].astype('datetime64[ns, US/Eastern]')"
   ]
  },
  {
   "cell_type": "code",
   "execution_count": 23,
   "metadata": {},
   "outputs": [
    {
     "data": {
      "text/plain": [
       "Time_Stamp     datetime64[ns, US/Eastern]\n",
       "Temperature                       float64\n",
       "TDS-Voltage                       float64\n",
       "TDSwithoutT                       float64\n",
       "TDSwithT                          float64\n",
       "Water_Level                       float64\n",
       "dtype: object"
      ]
     },
     "execution_count": 23,
     "metadata": {},
     "output_type": "execute_result"
    }
   ],
   "source": [
    "df_plot.dtypes"
   ]
  },
  {
   "cell_type": "code",
   "execution_count": 24,
   "metadata": {},
   "outputs": [],
   "source": [
    "df_plot.to_csv(\"FFEED_0100.csv\")"
   ]
  },
  {
   "cell_type": "code",
   "execution_count": 25,
   "metadata": {},
   "outputs": [
    {
     "data": {
      "image/png": "[encoded data removed]",
      "text/plain": [
       "<Figure size 432x288 with 2 Axes>"
      ]
     },
     "metadata": {
      "needs_background": "light"
     },
     "output_type": "display_data"
    }
   ],
   "source": [
    "df_plot_main=df_plot.set_index('Time_Stamp')\n",
    "ax1 = df_plot_main[\"TDSwithT\"].plot()\n",
    "plt.ylabel(\"TDS in PPM\")\n",
    "ax2 = ax1.twinx()\n",
    "ax2.spines['right'].set_position(('axes', 1.0))\n",
    "df_plot_main[\"Temperature\"].plot(ax=ax2, color=\"red\")\n",
    "plt.ylabel(\"Temperature\")\n",
    "plt.title(\"WM-WQ-VN01-00\")\n",
    "plt.savefig('WM-WQ-VN01-00', dpi=600)"
   ]
  },
  {
   "cell_type": "code",
   "execution_count": 26,
   "metadata": {},
   "outputs": [
    {
     "data": {
      "text/html": [
       "<div>\n",
       "<style scoped>\n",
       "    .dataframe tbody tr th:only-of-type {\n",
       "        vertical-align: middle;\n",
       "    }\n",
       "\n",
       "    .dataframe tbody tr th {\n",
       "        vertical-align: top;\n",
       "    }\n",
       "\n",
       "    .dataframe thead th {\n",
       "        text-align: right;\n",
       "    }\n",
       "</style>\n",
       "<table border=\"1\" class=\"dataframe\">\n",
       "  <thead>\n",
       "    <tr style=\"text-align: right;\">\n",
       "      <th></th>\n",
       "      <th>Temperature</th>\n",
       "      <th>TDS-Voltage</th>\n",
       "      <th>TDSwithoutT</th>\n",
       "      <th>TDSwithT</th>\n",
       "      <th>Water_Level</th>\n",
       "    </tr>\n",
       "  </thead>\n",
       "  <tbody>\n",
       "    <tr>\n",
       "      <th>count</th>\n",
       "      <td>1276.000000</td>\n",
       "      <td>1276.000000</td>\n",
       "      <td>1276.000000</td>\n",
       "      <td>1276.000000</td>\n",
       "      <td>1276.000000</td>\n",
       "    </tr>\n",
       "    <tr>\n",
       "      <th>mean</th>\n",
       "      <td>23.704953</td>\n",
       "      <td>0.129208</td>\n",
       "      <td>53.191771</td>\n",
       "      <td>54.619122</td>\n",
       "      <td>12.360611</td>\n",
       "    </tr>\n",
       "    <tr>\n",
       "      <th>std</th>\n",
       "      <td>0.830976</td>\n",
       "      <td>0.030767</td>\n",
       "      <td>12.278232</td>\n",
       "      <td>12.858600</td>\n",
       "      <td>1.812631</td>\n",
       "    </tr>\n",
       "    <tr>\n",
       "      <th>min</th>\n",
       "      <td>21.870000</td>\n",
       "      <td>0.050000</td>\n",
       "      <td>19.980000</td>\n",
       "      <td>20.130000</td>\n",
       "      <td>4.390000</td>\n",
       "    </tr>\n",
       "    <tr>\n",
       "      <th>25%</th>\n",
       "      <td>23.120000</td>\n",
       "      <td>0.120000</td>\n",
       "      <td>48.277500</td>\n",
       "      <td>49.957500</td>\n",
       "      <td>12.770000</td>\n",
       "    </tr>\n",
       "    <tr>\n",
       "      <th>50%</th>\n",
       "      <td>23.560000</td>\n",
       "      <td>0.130000</td>\n",
       "      <td>54.185000</td>\n",
       "      <td>55.070000</td>\n",
       "      <td>12.890000</td>\n",
       "    </tr>\n",
       "    <tr>\n",
       "      <th>75%</th>\n",
       "      <td>24.250000</td>\n",
       "      <td>0.150000</td>\n",
       "      <td>62.072500</td>\n",
       "      <td>63.880000</td>\n",
       "      <td>13.020000</td>\n",
       "    </tr>\n",
       "    <tr>\n",
       "      <th>max</th>\n",
       "      <td>25.620000</td>\n",
       "      <td>0.250000</td>\n",
       "      <td>99.510000</td>\n",
       "      <td>99.740000</td>\n",
       "      <td>13.480000</td>\n",
       "    </tr>\n",
       "  </tbody>\n",
       "</table>\n",
       "</div>"
      ],
      "text/plain": [
       "       Temperature  TDS-Voltage  TDSwithoutT     TDSwithT  Water_Level\n",
       "count  1276.000000  1276.000000  1276.000000  1276.000000  1276.000000\n",
       "mean     23.704953     0.129208    53.191771    54.619122    12.360611\n",
       "std       0.830976     0.030767    12.278232    12.858600     1.812631\n",
       "min      21.870000     0.050000    19.980000    20.130000     4.390000\n",
       "25%      23.120000     0.120000    48.277500    49.957500    12.770000\n",
       "50%      23.560000     0.130000    54.185000    55.070000    12.890000\n",
       "75%      24.250000     0.150000    62.072500    63.880000    13.020000\n",
       "max      25.620000     0.250000    99.510000    99.740000    13.480000"
      ]
     },
     "execution_count": 26,
     "metadata": {},
     "output_type": "execute_result"
    }
   ],
   "source": [
    "df_plot.describe()"
   ]
  },
  {
   "cell_type": "markdown",
   "metadata": {},
   "source": [
    "# Plotting 1 Day Data :"
   ]
  },
  {
   "cell_type": "code",
   "execution_count": 27,
   "metadata": {},
   "outputs": [],
   "source": [
    "df_oneday=df_plot_main.tail(144)"
   ]
  },
  {
   "cell_type": "code",
   "execution_count": 28,
   "metadata": {},
   "outputs": [
    {
     "data": {
      "text/html": [
       "<div>\n",
       "<style scoped>\n",
       "    .dataframe tbody tr th:only-of-type {\n",
       "        vertical-align: middle;\n",
       "    }\n",
       "\n",
       "    .dataframe tbody tr th {\n",
       "        vertical-align: top;\n",
       "    }\n",
       "\n",
       "    .dataframe thead th {\n",
       "        text-align: right;\n",
       "    }\n",
       "</style>\n",
       "<table border=\"1\" class=\"dataframe\">\n",
       "  <thead>\n",
       "    <tr style=\"text-align: right;\">\n",
       "      <th></th>\n",
       "      <th>Temperature</th>\n",
       "      <th>TDS-Voltage</th>\n",
       "      <th>TDSwithoutT</th>\n",
       "      <th>TDSwithT</th>\n",
       "      <th>Water_Level</th>\n",
       "    </tr>\n",
       "  </thead>\n",
       "  <tbody>\n",
       "    <tr>\n",
       "      <th>count</th>\n",
       "      <td>144.000000</td>\n",
       "      <td>144.000000</td>\n",
       "      <td>144.000000</td>\n",
       "      <td>144.000000</td>\n",
       "      <td>144.000000</td>\n",
       "    </tr>\n",
       "    <tr>\n",
       "      <th>mean</th>\n",
       "      <td>23.175625</td>\n",
       "      <td>0.123750</td>\n",
       "      <td>50.967014</td>\n",
       "      <td>52.941875</td>\n",
       "      <td>8.114861</td>\n",
       "    </tr>\n",
       "    <tr>\n",
       "      <th>std</th>\n",
       "      <td>0.764291</td>\n",
       "      <td>0.038264</td>\n",
       "      <td>15.442758</td>\n",
       "      <td>16.494252</td>\n",
       "      <td>2.874819</td>\n",
       "    </tr>\n",
       "    <tr>\n",
       "      <th>min</th>\n",
       "      <td>22.310000</td>\n",
       "      <td>0.050000</td>\n",
       "      <td>19.980000</td>\n",
       "      <td>20.130000</td>\n",
       "      <td>4.390000</td>\n",
       "    </tr>\n",
       "    <tr>\n",
       "      <th>25%</th>\n",
       "      <td>22.620000</td>\n",
       "      <td>0.130000</td>\n",
       "      <td>54.232500</td>\n",
       "      <td>57.130000</td>\n",
       "      <td>6.440000</td>\n",
       "    </tr>\n",
       "    <tr>\n",
       "      <th>50%</th>\n",
       "      <td>22.940000</td>\n",
       "      <td>0.140000</td>\n",
       "      <td>59.220000</td>\n",
       "      <td>61.520000</td>\n",
       "      <td>6.440000</td>\n",
       "    </tr>\n",
       "    <tr>\n",
       "      <th>75%</th>\n",
       "      <td>23.380000</td>\n",
       "      <td>0.150000</td>\n",
       "      <td>60.000000</td>\n",
       "      <td>62.850000</td>\n",
       "      <td>11.610000</td>\n",
       "    </tr>\n",
       "    <tr>\n",
       "      <th>max</th>\n",
       "      <td>24.810000</td>\n",
       "      <td>0.150000</td>\n",
       "      <td>61.400000</td>\n",
       "      <td>64.260000</td>\n",
       "      <td>13.400000</td>\n",
       "    </tr>\n",
       "  </tbody>\n",
       "</table>\n",
       "</div>"
      ],
      "text/plain": [
       "       Temperature  TDS-Voltage  TDSwithoutT    TDSwithT  Water_Level\n",
       "count   144.000000   144.000000   144.000000  144.000000   144.000000\n",
       "mean     23.175625     0.123750    50.967014   52.941875     8.114861\n",
       "std       0.764291     0.038264    15.442758   16.494252     2.874819\n",
       "min      22.310000     0.050000    19.980000   20.130000     4.390000\n",
       "25%      22.620000     0.130000    54.232500   57.130000     6.440000\n",
       "50%      22.940000     0.140000    59.220000   61.520000     6.440000\n",
       "75%      23.380000     0.150000    60.000000   62.850000    11.610000\n",
       "max      24.810000     0.150000    61.400000   64.260000    13.400000"
      ]
     },
     "execution_count": 28,
     "metadata": {},
     "output_type": "execute_result"
    }
   ],
   "source": [
    "df_oneday.describe()"
   ]
  },
  {
   "cell_type": "code",
   "execution_count": 29,
   "metadata": {},
   "outputs": [
    {
     "data": {
      "text/plain": [
       "Text(0.5, 1.0, 'TDS Variation in One day')"
      ]
     },
     "execution_count": 29,
     "metadata": {},
     "output_type": "execute_result"
    },
    {
     "data": {
      "image/png": "[encoded data removed]",
      "text/plain": [
       "<Figure size 432x288 with 1 Axes>"
      ]
     },
     "metadata": {
      "needs_background": "light"
     },
     "output_type": "display_data"
    }
   ],
   "source": [
    "df_oneday[\"TDSwithT\"].plot()\n",
    "plt.xlabel(\"Time Stamp\")\n",
    "plt.ylabel(\"TDS in PPM\")\n",
    "plt.title(\"TDS Variation in One day\")"
   ]
  },
  {
   "cell_type": "code",
   "execution_count": 30,
   "metadata": {},
   "outputs": [
    {
     "data": {
      "text/plain": [
       "Text(0.5, 1.0, 'Temperature Variation in One day')"
      ]
     },
     "execution_count": 30,
     "metadata": {},
     "output_type": "execute_result"
    },
    {
     "data": {
      "image/png": "[encoded data removed]",
      "text/plain": [
       "<Figure size 432x288 with 1 Axes>"
      ]
     },
     "metadata": {
      "needs_background": "light"
     },
     "output_type": "display_data"
    }
   ],
   "source": [
    "df_oneday[\"Temperature\"].plot()\n",
    "plt.xlabel(\"Time Stamp\")\n",
    "plt.ylabel(\"Temperature in Degree Centigrade\")\n",
    "plt.title(\"Temperature Variation in One day\")"
   ]
  },
  {
   "cell_type": "code",
   "execution_count": 31,
   "metadata": {},
   "outputs": [
    {
     "data": {
      "image/png": "[encoded data removed]",
      "text/plain": [
       "<Figure size 432x288 with 2 Axes>"
      ]
     },
     "metadata": {
      "needs_background": "light"
     },
     "output_type": "display_data"
    }
   ],
   "source": [
    "\n",
    "ax1 = df_oneday[\"TDSwithT\"].plot()\n",
    "plt.ylabel(\"TDS in PPM\")\n",
    "ax2 = ax1.twinx()\n",
    "ax2.spines['right'].set_position(('axes', 1.0))\n",
    "df_oneday[\"Temperature\"].plot(ax=ax2, color=\"red\")\n",
    "plt.ylabel(\"Temperature\")\n",
    "plt.title(\"WM-WQ-VN-01-00- 1 Day\")\n",
    "plt.savefig('WM-WQ-VN-01-00- 1 Day', dpi=600)"
   ]
  },
  {
   "cell_type": "code",
   "execution_count": 32,
   "metadata": {},
   "outputs": [
    {
     "data": {
      "text/plain": [
       "Text(0.5, 1.0, 'Water Level Variation in One day')"
      ]
     },
     "execution_count": 32,
     "metadata": {},
     "output_type": "execute_result"
    },
    {
     "data": {
      "image/png": "[encoded data removed]",
      "text/plain": [
       "<Figure size 432x288 with 1 Axes>"
      ]
     },
     "metadata": {
      "needs_background": "light"
     },
     "output_type": "display_data"
    }
   ],
   "source": [
    "df_oneday[\"Water_Level\"].plot()\n",
    "plt.xlabel(\"Time Stamp\")\n",
    "plt.ylabel(\"Water Level in Cms\")\n",
    "plt.title(\"Water Level Variation in One day\")"
   ]
  },
  {
   "cell_type": "code",
   "execution_count": 33,
   "metadata": {},
   "outputs": [
    {
     "data": {
      "text/html": [
       "<div>\n",
       "<style scoped>\n",
       "    .dataframe tbody tr th:only-of-type {\n",
       "        vertical-align: middle;\n",
       "    }\n",
       "\n",
       "    .dataframe tbody tr th {\n",
       "        vertical-align: top;\n",
       "    }\n",
       "\n",
       "    .dataframe thead th {\n",
       "        text-align: right;\n",
       "    }\n",
       "</style>\n",
       "<table border=\"1\" class=\"dataframe\">\n",
       "  <thead>\n",
       "    <tr style=\"text-align: right;\">\n",
       "      <th></th>\n",
       "      <th>Temperature</th>\n",
       "      <th>TDS-Voltage</th>\n",
       "      <th>TDSwithoutT</th>\n",
       "      <th>TDSwithT</th>\n",
       "      <th>Water_Level</th>\n",
       "    </tr>\n",
       "  </thead>\n",
       "  <tbody>\n",
       "    <tr>\n",
       "      <th>Temperature</th>\n",
       "      <td>1.000000</td>\n",
       "      <td>-0.833117</td>\n",
       "      <td>-0.823742</td>\n",
       "      <td>-0.831926</td>\n",
       "      <td>0.746730</td>\n",
       "    </tr>\n",
       "    <tr>\n",
       "      <th>TDS-Voltage</th>\n",
       "      <td>-0.833117</td>\n",
       "      <td>1.000000</td>\n",
       "      <td>0.996121</td>\n",
       "      <td>0.996007</td>\n",
       "      <td>-0.920599</td>\n",
       "    </tr>\n",
       "    <tr>\n",
       "      <th>TDSwithoutT</th>\n",
       "      <td>-0.823742</td>\n",
       "      <td>0.996121</td>\n",
       "      <td>1.000000</td>\n",
       "      <td>0.999031</td>\n",
       "      <td>-0.928606</td>\n",
       "    </tr>\n",
       "    <tr>\n",
       "      <th>TDSwithT</th>\n",
       "      <td>-0.831926</td>\n",
       "      <td>0.996007</td>\n",
       "      <td>0.999031</td>\n",
       "      <td>1.000000</td>\n",
       "      <td>-0.922517</td>\n",
       "    </tr>\n",
       "    <tr>\n",
       "      <th>Water_Level</th>\n",
       "      <td>0.746730</td>\n",
       "      <td>-0.920599</td>\n",
       "      <td>-0.928606</td>\n",
       "      <td>-0.922517</td>\n",
       "      <td>1.000000</td>\n",
       "    </tr>\n",
       "  </tbody>\n",
       "</table>\n",
       "</div>"
      ],
      "text/plain": [
       "             Temperature  TDS-Voltage  TDSwithoutT  TDSwithT  Water_Level\n",
       "Temperature     1.000000    -0.833117    -0.823742 -0.831926     0.746730\n",
       "TDS-Voltage    -0.833117     1.000000     0.996121  0.996007    -0.920599\n",
       "TDSwithoutT    -0.823742     0.996121     1.000000  0.999031    -0.928606\n",
       "TDSwithT       -0.831926     0.996007     0.999031  1.000000    -0.922517\n",
       "Water_Level     0.746730    -0.920599    -0.928606 -0.922517     1.000000"
      ]
     },
     "execution_count": 33,
     "metadata": {},
     "output_type": "execute_result"
    }
   ],
   "source": [
    "df_oneday.corr()"
   ]
  },
  {
   "cell_type": "code",
   "execution_count": null,
   "metadata": {},
   "outputs": [],
   "source": []
  },
  {
   "cell_type": "code",
   "execution_count": null,
   "metadata": {},
   "outputs": [],
   "source": []
  }
 ],
 "metadata": {
  "kernelspec": {
   "display_name": "Python 3",
   "language": "python",
   "name": "python3"
  },
  "language_info": {
   "codemirror_mode": {
    "name": "ipython",
    "version": 3
   },
   "file_extension": ".py",
   "mimetype": "text/x-python",
   "name": "python",
   "nbconvert_exporter": "python",
   "pygments_lexer": "ipython3",
   "version": "3.8.3"
  }
 },
 "nbformat": 4,
 "nbformat_minor": 4
}
