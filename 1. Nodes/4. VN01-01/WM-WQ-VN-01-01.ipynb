{
 "cells": [
  {
   "cell_type": "markdown",
   "metadata": {},
   "source": [
    "# Importing the Required Packages"
   ]
  },
  {
   "cell_type": "code",
   "execution_count": 2,
   "metadata": {},
   "outputs": [],
   "source": [
    "import pandas as pd"
   ]
  },
  {
   "cell_type": "code",
   "execution_count": 3,
   "metadata": {},
   "outputs": [],
   "source": [
    "import numpy as np"
   ]
  },
  {
   "cell_type": "code",
   "execution_count": 4,
   "metadata": {},
   "outputs": [],
   "source": [
    "import matplotlib.pyplot as plt"
   ]
  },
  {
   "cell_type": "markdown",
   "metadata": {},
   "source": [
    "# Importing the Feeds Data and Cleaning the data"
   ]
  },
  {
   "cell_type": "code",
   "execution_count": 5,
   "metadata": {},
   "outputs": [],
   "source": [
    "df=pd.read_csv(\"VN0101.csv\")"
   ]
  },
  {
   "cell_type": "code",
   "execution_count": 6,
   "metadata": {},
   "outputs": [
    {
     "data": {
      "text/html": [
       "<div>\n",
       "<style scoped>\n",
       "    .dataframe tbody tr th:only-of-type {\n",
       "        vertical-align: middle;\n",
       "    }\n",
       "\n",
       "    .dataframe tbody tr th {\n",
       "        vertical-align: top;\n",
       "    }\n",
       "\n",
       "    .dataframe thead th {\n",
       "        text-align: right;\n",
       "    }\n",
       "</style>\n",
       "<table border=\"1\" class=\"dataframe\">\n",
       "  <thead>\n",
       "    <tr style=\"text-align: right;\">\n",
       "      <th></th>\n",
       "      <th>created_at</th>\n",
       "      <th>entry_id</th>\n",
       "      <th>field1</th>\n",
       "      <th>field2</th>\n",
       "      <th>field3</th>\n",
       "      <th>field4</th>\n",
       "      <th>field5</th>\n",
       "      <th>latitude</th>\n",
       "      <th>longitude</th>\n",
       "      <th>elevation</th>\n",
       "      <th>status</th>\n",
       "    </tr>\n",
       "  </thead>\n",
       "  <tbody>\n",
       "    <tr>\n",
       "      <th>0</th>\n",
       "      <td>1970-01-01 05:31:51 IST</td>\n",
       "      <td>1</td>\n",
       "      <td>85.00</td>\n",
       "      <td>0.0</td>\n",
       "      <td>0.0</td>\n",
       "      <td>0.0</td>\n",
       "      <td>7.0</td>\n",
       "      <td>NaN</td>\n",
       "      <td>NaN</td>\n",
       "      <td>NaN</td>\n",
       "      <td>NaN</td>\n",
       "    </tr>\n",
       "    <tr>\n",
       "      <th>1</th>\n",
       "      <td>1970-01-01 05:32:09 IST</td>\n",
       "      <td>2</td>\n",
       "      <td>24.37</td>\n",
       "      <td>0.0</td>\n",
       "      <td>0.0</td>\n",
       "      <td>0.0</td>\n",
       "      <td>7.0</td>\n",
       "      <td>NaN</td>\n",
       "      <td>NaN</td>\n",
       "      <td>NaN</td>\n",
       "      <td>NaN</td>\n",
       "    </tr>\n",
       "    <tr>\n",
       "      <th>2</th>\n",
       "      <td>1970-01-01 05:32:27 IST</td>\n",
       "      <td>3</td>\n",
       "      <td>24.37</td>\n",
       "      <td>0.0</td>\n",
       "      <td>0.0</td>\n",
       "      <td>0.0</td>\n",
       "      <td>7.0</td>\n",
       "      <td>NaN</td>\n",
       "      <td>NaN</td>\n",
       "      <td>NaN</td>\n",
       "      <td>NaN</td>\n",
       "    </tr>\n",
       "    <tr>\n",
       "      <th>3</th>\n",
       "      <td>1970-01-01 05:32:47 IST</td>\n",
       "      <td>4</td>\n",
       "      <td>24.37</td>\n",
       "      <td>0.0</td>\n",
       "      <td>0.0</td>\n",
       "      <td>0.0</td>\n",
       "      <td>7.0</td>\n",
       "      <td>NaN</td>\n",
       "      <td>NaN</td>\n",
       "      <td>NaN</td>\n",
       "      <td>NaN</td>\n",
       "    </tr>\n",
       "    <tr>\n",
       "      <th>4</th>\n",
       "      <td>1970-01-01 05:33:02 IST</td>\n",
       "      <td>5</td>\n",
       "      <td>24.37</td>\n",
       "      <td>0.0</td>\n",
       "      <td>0.0</td>\n",
       "      <td>0.0</td>\n",
       "      <td>7.0</td>\n",
       "      <td>NaN</td>\n",
       "      <td>NaN</td>\n",
       "      <td>NaN</td>\n",
       "      <td>NaN</td>\n",
       "    </tr>\n",
       "  </tbody>\n",
       "</table>\n",
       "</div>"
      ],
      "text/plain": [
       "                created_at  entry_id  field1  field2  field3  field4  field5  \\\n",
       "0  1970-01-01 05:31:51 IST         1   85.00     0.0     0.0     0.0     7.0   \n",
       "1  1970-01-01 05:32:09 IST         2   24.37     0.0     0.0     0.0     7.0   \n",
       "2  1970-01-01 05:32:27 IST         3   24.37     0.0     0.0     0.0     7.0   \n",
       "3  1970-01-01 05:32:47 IST         4   24.37     0.0     0.0     0.0     7.0   \n",
       "4  1970-01-01 05:33:02 IST         5   24.37     0.0     0.0     0.0     7.0   \n",
       "\n",
       "   latitude  longitude  elevation  status  \n",
       "0       NaN        NaN        NaN     NaN  \n",
       "1       NaN        NaN        NaN     NaN  \n",
       "2       NaN        NaN        NaN     NaN  \n",
       "3       NaN        NaN        NaN     NaN  \n",
       "4       NaN        NaN        NaN     NaN  "
      ]
     },
     "execution_count": 6,
     "metadata": {},
     "output_type": "execute_result"
    }
   ],
   "source": [
    "df.head()"
   ]
  },
  {
   "cell_type": "code",
   "execution_count": 8,
   "metadata": {},
   "outputs": [],
   "source": [
    "headers=[\"Time_Stamp\",\"Entry_ID\",\"Temperature\",\"TDS_VOltage\",\"TDSwithoutT\",\"TDSwithT\",\"Water_Level\",\"Latitude\",\"Longitude\",\"Elevation\",\"Status\"]"
   ]
  },
  {
   "cell_type": "code",
   "execution_count": 9,
   "metadata": {},
   "outputs": [
    {
     "data": {
      "text/plain": [
       "['Time_Stamp',\n",
       " 'Entry_ID',\n",
       " 'Temperature',\n",
       " 'TDS_VOltage',\n",
       " 'TDSwithoutT',\n",
       " 'TDSwithT',\n",
       " 'Water_Level',\n",
       " 'Latitude',\n",
       " 'Longitude',\n",
       " 'Elevation',\n",
       " 'Status']"
      ]
     },
     "execution_count": 9,
     "metadata": {},
     "output_type": "execute_result"
    }
   ],
   "source": [
    "headers"
   ]
  },
  {
   "cell_type": "code",
   "execution_count": 10,
   "metadata": {},
   "outputs": [],
   "source": [
    "df.columns=headers"
   ]
  },
  {
   "cell_type": "code",
   "execution_count": 11,
   "metadata": {},
   "outputs": [
    {
     "data": {
      "text/html": [
       "<div>\n",
       "<style scoped>\n",
       "    .dataframe tbody tr th:only-of-type {\n",
       "        vertical-align: middle;\n",
       "    }\n",
       "\n",
       "    .dataframe tbody tr th {\n",
       "        vertical-align: top;\n",
       "    }\n",
       "\n",
       "    .dataframe thead th {\n",
       "        text-align: right;\n",
       "    }\n",
       "</style>\n",
       "<table border=\"1\" class=\"dataframe\">\n",
       "  <thead>\n",
       "    <tr style=\"text-align: right;\">\n",
       "      <th></th>\n",
       "      <th>Time_Stamp</th>\n",
       "      <th>Entry_ID</th>\n",
       "      <th>Temperature</th>\n",
       "      <th>TDS_VOltage</th>\n",
       "      <th>TDSwithoutT</th>\n",
       "      <th>TDSwithT</th>\n",
       "      <th>Water_Level</th>\n",
       "      <th>Latitude</th>\n",
       "      <th>Longitude</th>\n",
       "      <th>Elevation</th>\n",
       "      <th>Status</th>\n",
       "    </tr>\n",
       "  </thead>\n",
       "  <tbody>\n",
       "    <tr>\n",
       "      <th>0</th>\n",
       "      <td>1970-01-01 05:31:51 IST</td>\n",
       "      <td>1</td>\n",
       "      <td>85.00</td>\n",
       "      <td>0.0</td>\n",
       "      <td>0.0</td>\n",
       "      <td>0.0</td>\n",
       "      <td>7.0</td>\n",
       "      <td>NaN</td>\n",
       "      <td>NaN</td>\n",
       "      <td>NaN</td>\n",
       "      <td>NaN</td>\n",
       "    </tr>\n",
       "    <tr>\n",
       "      <th>1</th>\n",
       "      <td>1970-01-01 05:32:09 IST</td>\n",
       "      <td>2</td>\n",
       "      <td>24.37</td>\n",
       "      <td>0.0</td>\n",
       "      <td>0.0</td>\n",
       "      <td>0.0</td>\n",
       "      <td>7.0</td>\n",
       "      <td>NaN</td>\n",
       "      <td>NaN</td>\n",
       "      <td>NaN</td>\n",
       "      <td>NaN</td>\n",
       "    </tr>\n",
       "    <tr>\n",
       "      <th>2</th>\n",
       "      <td>1970-01-01 05:32:27 IST</td>\n",
       "      <td>3</td>\n",
       "      <td>24.37</td>\n",
       "      <td>0.0</td>\n",
       "      <td>0.0</td>\n",
       "      <td>0.0</td>\n",
       "      <td>7.0</td>\n",
       "      <td>NaN</td>\n",
       "      <td>NaN</td>\n",
       "      <td>NaN</td>\n",
       "      <td>NaN</td>\n",
       "    </tr>\n",
       "    <tr>\n",
       "      <th>3</th>\n",
       "      <td>1970-01-01 05:32:47 IST</td>\n",
       "      <td>4</td>\n",
       "      <td>24.37</td>\n",
       "      <td>0.0</td>\n",
       "      <td>0.0</td>\n",
       "      <td>0.0</td>\n",
       "      <td>7.0</td>\n",
       "      <td>NaN</td>\n",
       "      <td>NaN</td>\n",
       "      <td>NaN</td>\n",
       "      <td>NaN</td>\n",
       "    </tr>\n",
       "    <tr>\n",
       "      <th>4</th>\n",
       "      <td>1970-01-01 05:33:02 IST</td>\n",
       "      <td>5</td>\n",
       "      <td>24.37</td>\n",
       "      <td>0.0</td>\n",
       "      <td>0.0</td>\n",
       "      <td>0.0</td>\n",
       "      <td>7.0</td>\n",
       "      <td>NaN</td>\n",
       "      <td>NaN</td>\n",
       "      <td>NaN</td>\n",
       "      <td>NaN</td>\n",
       "    </tr>\n",
       "  </tbody>\n",
       "</table>\n",
       "</div>"
      ],
      "text/plain": [
       "                Time_Stamp  Entry_ID  Temperature  TDS_VOltage  TDSwithoutT  \\\n",
       "0  1970-01-01 05:31:51 IST         1        85.00          0.0          0.0   \n",
       "1  1970-01-01 05:32:09 IST         2        24.37          0.0          0.0   \n",
       "2  1970-01-01 05:32:27 IST         3        24.37          0.0          0.0   \n",
       "3  1970-01-01 05:32:47 IST         4        24.37          0.0          0.0   \n",
       "4  1970-01-01 05:33:02 IST         5        24.37          0.0          0.0   \n",
       "\n",
       "   TDSwithT  Water_Level  Latitude  Longitude  Elevation  Status  \n",
       "0       0.0          7.0       NaN        NaN        NaN     NaN  \n",
       "1       0.0          7.0       NaN        NaN        NaN     NaN  \n",
       "2       0.0          7.0       NaN        NaN        NaN     NaN  \n",
       "3       0.0          7.0       NaN        NaN        NaN     NaN  \n",
       "4       0.0          7.0       NaN        NaN        NaN     NaN  "
      ]
     },
     "execution_count": 11,
     "metadata": {},
     "output_type": "execute_result"
    }
   ],
   "source": [
    "df.head()"
   ]
  },
  {
   "cell_type": "code",
   "execution_count": 12,
   "metadata": {},
   "outputs": [],
   "source": [
    "dfplt=df[[\"Time_Stamp\",\"Temperature\",\"TDS_VOltage\",\"TDSwithoutT\",\"TDSwithT\",\"Water_Level\"]]"
   ]
  },
  {
   "cell_type": "code",
   "execution_count": 13,
   "metadata": {},
   "outputs": [
    {
     "data": {
      "text/html": [
       "<div>\n",
       "<style scoped>\n",
       "    .dataframe tbody tr th:only-of-type {\n",
       "        vertical-align: middle;\n",
       "    }\n",
       "\n",
       "    .dataframe tbody tr th {\n",
       "        vertical-align: top;\n",
       "    }\n",
       "\n",
       "    .dataframe thead th {\n",
       "        text-align: right;\n",
       "    }\n",
       "</style>\n",
       "<table border=\"1\" class=\"dataframe\">\n",
       "  <thead>\n",
       "    <tr style=\"text-align: right;\">\n",
       "      <th></th>\n",
       "      <th>Time_Stamp</th>\n",
       "      <th>Temperature</th>\n",
       "      <th>TDS_VOltage</th>\n",
       "      <th>TDSwithoutT</th>\n",
       "      <th>TDSwithT</th>\n",
       "      <th>Water_Level</th>\n",
       "    </tr>\n",
       "  </thead>\n",
       "  <tbody>\n",
       "    <tr>\n",
       "      <th>0</th>\n",
       "      <td>1970-01-01 05:31:51 IST</td>\n",
       "      <td>85.00</td>\n",
       "      <td>0.0</td>\n",
       "      <td>0.0</td>\n",
       "      <td>0.0</td>\n",
       "      <td>7.0</td>\n",
       "    </tr>\n",
       "    <tr>\n",
       "      <th>1</th>\n",
       "      <td>1970-01-01 05:32:09 IST</td>\n",
       "      <td>24.37</td>\n",
       "      <td>0.0</td>\n",
       "      <td>0.0</td>\n",
       "      <td>0.0</td>\n",
       "      <td>7.0</td>\n",
       "    </tr>\n",
       "    <tr>\n",
       "      <th>2</th>\n",
       "      <td>1970-01-01 05:32:27 IST</td>\n",
       "      <td>24.37</td>\n",
       "      <td>0.0</td>\n",
       "      <td>0.0</td>\n",
       "      <td>0.0</td>\n",
       "      <td>7.0</td>\n",
       "    </tr>\n",
       "    <tr>\n",
       "      <th>3</th>\n",
       "      <td>1970-01-01 05:32:47 IST</td>\n",
       "      <td>24.37</td>\n",
       "      <td>0.0</td>\n",
       "      <td>0.0</td>\n",
       "      <td>0.0</td>\n",
       "      <td>7.0</td>\n",
       "    </tr>\n",
       "    <tr>\n",
       "      <th>4</th>\n",
       "      <td>1970-01-01 05:33:02 IST</td>\n",
       "      <td>24.37</td>\n",
       "      <td>0.0</td>\n",
       "      <td>0.0</td>\n",
       "      <td>0.0</td>\n",
       "      <td>7.0</td>\n",
       "    </tr>\n",
       "    <tr>\n",
       "      <th>...</th>\n",
       "      <td>...</td>\n",
       "      <td>...</td>\n",
       "      <td>...</td>\n",
       "      <td>...</td>\n",
       "      <td>...</td>\n",
       "      <td>...</td>\n",
       "    </tr>\n",
       "    <tr>\n",
       "      <th>1945</th>\n",
       "      <td>2020-12-11 11:04:12 IST</td>\n",
       "      <td>22.87</td>\n",
       "      <td>0.0</td>\n",
       "      <td>0.0</td>\n",
       "      <td>0.0</td>\n",
       "      <td>14.0</td>\n",
       "    </tr>\n",
       "    <tr>\n",
       "      <th>1946</th>\n",
       "      <td>2020-12-11 11:06:37 IST</td>\n",
       "      <td>22.87</td>\n",
       "      <td>0.0</td>\n",
       "      <td>0.0</td>\n",
       "      <td>0.0</td>\n",
       "      <td>14.0</td>\n",
       "    </tr>\n",
       "    <tr>\n",
       "      <th>1947</th>\n",
       "      <td>2020-12-11 11:09:07 IST</td>\n",
       "      <td>22.94</td>\n",
       "      <td>0.0</td>\n",
       "      <td>0.0</td>\n",
       "      <td>0.0</td>\n",
       "      <td>14.0</td>\n",
       "    </tr>\n",
       "    <tr>\n",
       "      <th>1948</th>\n",
       "      <td>2020-12-11 11:11:47 IST</td>\n",
       "      <td>22.94</td>\n",
       "      <td>0.0</td>\n",
       "      <td>0.0</td>\n",
       "      <td>0.0</td>\n",
       "      <td>14.0</td>\n",
       "    </tr>\n",
       "    <tr>\n",
       "      <th>1949</th>\n",
       "      <td>2020-12-11 11:14:17 IST</td>\n",
       "      <td>23.00</td>\n",
       "      <td>0.0</td>\n",
       "      <td>0.0</td>\n",
       "      <td>0.0</td>\n",
       "      <td>14.0</td>\n",
       "    </tr>\n",
       "  </tbody>\n",
       "</table>\n",
       "<p>1950 rows × 6 columns</p>\n",
       "</div>"
      ],
      "text/plain": [
       "                   Time_Stamp  Temperature  TDS_VOltage  TDSwithoutT  \\\n",
       "0     1970-01-01 05:31:51 IST        85.00          0.0          0.0   \n",
       "1     1970-01-01 05:32:09 IST        24.37          0.0          0.0   \n",
       "2     1970-01-01 05:32:27 IST        24.37          0.0          0.0   \n",
       "3     1970-01-01 05:32:47 IST        24.37          0.0          0.0   \n",
       "4     1970-01-01 05:33:02 IST        24.37          0.0          0.0   \n",
       "...                       ...          ...          ...          ...   \n",
       "1945  2020-12-11 11:04:12 IST        22.87          0.0          0.0   \n",
       "1946  2020-12-11 11:06:37 IST        22.87          0.0          0.0   \n",
       "1947  2020-12-11 11:09:07 IST        22.94          0.0          0.0   \n",
       "1948  2020-12-11 11:11:47 IST        22.94          0.0          0.0   \n",
       "1949  2020-12-11 11:14:17 IST        23.00          0.0          0.0   \n",
       "\n",
       "      TDSwithT  Water_Level  \n",
       "0          0.0          7.0  \n",
       "1          0.0          7.0  \n",
       "2          0.0          7.0  \n",
       "3          0.0          7.0  \n",
       "4          0.0          7.0  \n",
       "...        ...          ...  \n",
       "1945       0.0         14.0  \n",
       "1946       0.0         14.0  \n",
       "1947       0.0         14.0  \n",
       "1948       0.0         14.0  \n",
       "1949       0.0         14.0  \n",
       "\n",
       "[1950 rows x 6 columns]"
      ]
     },
     "execution_count": 13,
     "metadata": {},
     "output_type": "execute_result"
    }
   ],
   "source": [
    "dfplt\n"
   ]
  },
  {
   "cell_type": "code",
   "execution_count": 15,
   "metadata": {},
   "outputs": [],
   "source": [
    "df_plot=dfplt[dfplt[\"TDSwithoutT\"]>40]"
   ]
  },
  {
   "cell_type": "code",
   "execution_count": 16,
   "metadata": {},
   "outputs": [],
   "source": [
    "df_plot=df_plot[df_plot[\"TDSwithoutT\"]<100]"
   ]
  },
  {
   "cell_type": "code",
   "execution_count": 17,
   "metadata": {},
   "outputs": [],
   "source": [
    "df_plot=df_plot[df_plot[\"Water_Level\"]>0]"
   ]
  },
  {
   "cell_type": "code",
   "execution_count": 18,
   "metadata": {},
   "outputs": [],
   "source": [
    "df_plot=df_plot[df_plot[\"Water_Level\"]<=20]"
   ]
  },
  {
   "cell_type": "code",
   "execution_count": 19,
   "metadata": {},
   "outputs": [],
   "source": [
    "df_plot[\"Temperature\"]=df_plot[\"Temperature\"].astype(\"float\")\n"
   ]
  },
  {
   "cell_type": "code",
   "execution_count": 20,
   "metadata": {},
   "outputs": [],
   "source": [
    "df_plot=df_plot[df_plot[\"Temperature\"]>20]"
   ]
  },
  {
   "cell_type": "code",
   "execution_count": 21,
   "metadata": {},
   "outputs": [],
   "source": [
    "df_plot=df_plot[df_plot[\"Temperature\"]<30]"
   ]
  },
  {
   "cell_type": "markdown",
   "metadata": {},
   "source": [
    "# Plotting the data from last 15 days"
   ]
  },
  {
   "cell_type": "code",
   "execution_count": 22,
   "metadata": {},
   "outputs": [
    {
     "data": {
      "text/plain": [
       "Time_Stamp      object\n",
       "Temperature    float64\n",
       "TDS_VOltage    float64\n",
       "TDSwithoutT    float64\n",
       "TDSwithT       float64\n",
       "Water_Level    float64\n",
       "dtype: object"
      ]
     },
     "execution_count": 22,
     "metadata": {},
     "output_type": "execute_result"
    }
   ],
   "source": [
    "df_plot.dtypes"
   ]
  },
  {
   "cell_type": "code",
   "execution_count": 23,
   "metadata": {},
   "outputs": [
    {
     "name": "stderr",
     "output_type": "stream",
     "text": [
      "C:\\Users\\suhas\\anaconda3\\lib\\site-packages\\dateutil\\parser\\_parser.py:1213: UnknownTimezoneWarning: tzname IST identified but not understood.  Pass `tzinfos` argument in order to correctly return a timezone-aware datetime.  In a future version, this will raise an exception.\n",
      "  warnings.warn(\"tzname {tzname} identified but not understood.  \"\n"
     ]
    }
   ],
   "source": [
    "df_plot[\"Time_Stamp\"]=df_plot[\"Time_Stamp\"].astype('datetime64[ns, US/Eastern]')"
   ]
  },
  {
   "cell_type": "code",
   "execution_count": 24,
   "metadata": {},
   "outputs": [
    {
     "data": {
      "text/plain": [
       "Time_Stamp     datetime64[ns, US/Eastern]\n",
       "Temperature                       float64\n",
       "TDS_VOltage                       float64\n",
       "TDSwithoutT                       float64\n",
       "TDSwithT                          float64\n",
       "Water_Level                       float64\n",
       "dtype: object"
      ]
     },
     "execution_count": 24,
     "metadata": {},
     "output_type": "execute_result"
    }
   ],
   "source": [
    "df_plot.dtypes"
   ]
  },
  {
   "cell_type": "code",
   "execution_count": 25,
   "metadata": {},
   "outputs": [],
   "source": [
    "df_plot.to_csv(\"FFEED_0101.csv\")"
   ]
  },
  {
   "cell_type": "code",
   "execution_count": 28,
   "metadata": {},
   "outputs": [
    {
     "data": {
      "image/png": "[encoded data removed]",
      "text/plain": [
       "<Figure size 432x288 with 2 Axes>"
      ]
     },
     "metadata": {
      "needs_background": "light"
     },
     "output_type": "display_data"
    }
   ],
   "source": [
    "df_plot_main=df_plot.set_index('Time_Stamp')\n",
    "ax1 = df_plot_main[\"TDSwithoutT\"].plot()\n",
    "plt.ylabel(\"TDS in PPM\")\n",
    "ax2 = ax1.twinx()\n",
    "ax2.spines['right'].set_position(('axes', 1.0))\n",
    "df_plot_main[\"Temperature\"].plot(ax=ax2, color=\"red\")\n",
    "plt.ylabel(\"Temperature\")\n",
    "plt.title(\"WM-WQ-VN-01-00\")\n",
    "plt.savefig('WM-WQ-VN-01-01', dpi=600)"
   ]
  },
  {
   "cell_type": "code",
   "execution_count": 29,
   "metadata": {},
   "outputs": [
    {
     "data": {
      "text/html": [
       "<div>\n",
       "<style scoped>\n",
       "    .dataframe tbody tr th:only-of-type {\n",
       "        vertical-align: middle;\n",
       "    }\n",
       "\n",
       "    .dataframe tbody tr th {\n",
       "        vertical-align: top;\n",
       "    }\n",
       "\n",
       "    .dataframe thead th {\n",
       "        text-align: right;\n",
       "    }\n",
       "</style>\n",
       "<table border=\"1\" class=\"dataframe\">\n",
       "  <thead>\n",
       "    <tr style=\"text-align: right;\">\n",
       "      <th></th>\n",
       "      <th>Temperature</th>\n",
       "      <th>TDS_VOltage</th>\n",
       "      <th>TDSwithoutT</th>\n",
       "      <th>TDSwithT</th>\n",
       "      <th>Water_Level</th>\n",
       "    </tr>\n",
       "  </thead>\n",
       "  <tbody>\n",
       "    <tr>\n",
       "      <th>count</th>\n",
       "      <td>864.000000</td>\n",
       "      <td>864.000000</td>\n",
       "      <td>864.000000</td>\n",
       "      <td>864.000000</td>\n",
       "      <td>864.000000</td>\n",
       "    </tr>\n",
       "    <tr>\n",
       "      <th>mean</th>\n",
       "      <td>21.527315</td>\n",
       "      <td>0.205637</td>\n",
       "      <td>89.090718</td>\n",
       "      <td>89.090718</td>\n",
       "      <td>6.123843</td>\n",
       "    </tr>\n",
       "    <tr>\n",
       "      <th>std</th>\n",
       "      <td>0.795999</td>\n",
       "      <td>0.008561</td>\n",
       "      <td>2.335608</td>\n",
       "      <td>2.335608</td>\n",
       "      <td>0.336551</td>\n",
       "    </tr>\n",
       "    <tr>\n",
       "      <th>min</th>\n",
       "      <td>20.120000</td>\n",
       "      <td>0.190000</td>\n",
       "      <td>80.380000</td>\n",
       "      <td>80.380000</td>\n",
       "      <td>5.000000</td>\n",
       "    </tr>\n",
       "    <tr>\n",
       "      <th>25%</th>\n",
       "      <td>20.810000</td>\n",
       "      <td>0.200000</td>\n",
       "      <td>88.370000</td>\n",
       "      <td>88.370000</td>\n",
       "      <td>6.000000</td>\n",
       "    </tr>\n",
       "    <tr>\n",
       "      <th>50%</th>\n",
       "      <td>21.590000</td>\n",
       "      <td>0.210000</td>\n",
       "      <td>89.665000</td>\n",
       "      <td>89.665000</td>\n",
       "      <td>6.000000</td>\n",
       "    </tr>\n",
       "    <tr>\n",
       "      <th>75%</th>\n",
       "      <td>22.130000</td>\n",
       "      <td>0.210000</td>\n",
       "      <td>90.752500</td>\n",
       "      <td>90.752500</td>\n",
       "      <td>6.000000</td>\n",
       "    </tr>\n",
       "    <tr>\n",
       "      <th>max</th>\n",
       "      <td>23.120000</td>\n",
       "      <td>0.220000</td>\n",
       "      <td>92.900000</td>\n",
       "      <td>92.900000</td>\n",
       "      <td>8.000000</td>\n",
       "    </tr>\n",
       "  </tbody>\n",
       "</table>\n",
       "</div>"
      ],
      "text/plain": [
       "       Temperature  TDS_VOltage  TDSwithoutT    TDSwithT  Water_Level\n",
       "count   864.000000   864.000000   864.000000  864.000000   864.000000\n",
       "mean     21.527315     0.205637    89.090718   89.090718     6.123843\n",
       "std       0.795999     0.008561     2.335608    2.335608     0.336551\n",
       "min      20.120000     0.190000    80.380000   80.380000     5.000000\n",
       "25%      20.810000     0.200000    88.370000   88.370000     6.000000\n",
       "50%      21.590000     0.210000    89.665000   89.665000     6.000000\n",
       "75%      22.130000     0.210000    90.752500   90.752500     6.000000\n",
       "max      23.120000     0.220000    92.900000   92.900000     8.000000"
      ]
     },
     "execution_count": 29,
     "metadata": {},
     "output_type": "execute_result"
    }
   ],
   "source": [
    "df_plot.describe()"
   ]
  },
  {
   "cell_type": "markdown",
   "metadata": {},
   "source": [
    "# Plotting 1 Day Data :"
   ]
  },
  {
   "cell_type": "code",
   "execution_count": 30,
   "metadata": {},
   "outputs": [],
   "source": [
    "df_oneday=df_plot_main.tail(823)"
   ]
  },
  {
   "cell_type": "code",
   "execution_count": 31,
   "metadata": {},
   "outputs": [
    {
     "data": {
      "text/html": [
       "<div>\n",
       "<style scoped>\n",
       "    .dataframe tbody tr th:only-of-type {\n",
       "        vertical-align: middle;\n",
       "    }\n",
       "\n",
       "    .dataframe tbody tr th {\n",
       "        vertical-align: top;\n",
       "    }\n",
       "\n",
       "    .dataframe thead th {\n",
       "        text-align: right;\n",
       "    }\n",
       "</style>\n",
       "<table border=\"1\" class=\"dataframe\">\n",
       "  <thead>\n",
       "    <tr style=\"text-align: right;\">\n",
       "      <th></th>\n",
       "      <th>Temperature</th>\n",
       "      <th>TDS_VOltage</th>\n",
       "      <th>TDSwithoutT</th>\n",
       "      <th>TDSwithT</th>\n",
       "      <th>Water_Level</th>\n",
       "    </tr>\n",
       "  </thead>\n",
       "  <tbody>\n",
       "    <tr>\n",
       "      <th>count</th>\n",
       "      <td>823.000000</td>\n",
       "      <td>823.000000</td>\n",
       "      <td>823.000000</td>\n",
       "      <td>823.000000</td>\n",
       "      <td>823.000000</td>\n",
       "    </tr>\n",
       "    <tr>\n",
       "      <th>mean</th>\n",
       "      <td>21.480401</td>\n",
       "      <td>0.205443</td>\n",
       "      <td>89.105504</td>\n",
       "      <td>89.105504</td>\n",
       "      <td>6.128797</td>\n",
       "    </tr>\n",
       "    <tr>\n",
       "      <th>std</th>\n",
       "      <td>0.786023</td>\n",
       "      <td>0.008700</td>\n",
       "      <td>2.370583</td>\n",
       "      <td>2.370583</td>\n",
       "      <td>0.335179</td>\n",
       "    </tr>\n",
       "    <tr>\n",
       "      <th>min</th>\n",
       "      <td>20.120000</td>\n",
       "      <td>0.190000</td>\n",
       "      <td>82.180000</td>\n",
       "      <td>82.180000</td>\n",
       "      <td>6.000000</td>\n",
       "    </tr>\n",
       "    <tr>\n",
       "      <th>25%</th>\n",
       "      <td>20.750000</td>\n",
       "      <td>0.200000</td>\n",
       "      <td>88.330000</td>\n",
       "      <td>88.330000</td>\n",
       "      <td>6.000000</td>\n",
       "    </tr>\n",
       "    <tr>\n",
       "      <th>50%</th>\n",
       "      <td>21.560000</td>\n",
       "      <td>0.210000</td>\n",
       "      <td>89.740000</td>\n",
       "      <td>89.740000</td>\n",
       "      <td>6.000000</td>\n",
       "    </tr>\n",
       "    <tr>\n",
       "      <th>75%</th>\n",
       "      <td>22.060000</td>\n",
       "      <td>0.210000</td>\n",
       "      <td>90.780000</td>\n",
       "      <td>90.780000</td>\n",
       "      <td>6.000000</td>\n",
       "    </tr>\n",
       "    <tr>\n",
       "      <th>max</th>\n",
       "      <td>23.120000</td>\n",
       "      <td>0.220000</td>\n",
       "      <td>92.900000</td>\n",
       "      <td>92.900000</td>\n",
       "      <td>7.000000</td>\n",
       "    </tr>\n",
       "  </tbody>\n",
       "</table>\n",
       "</div>"
      ],
      "text/plain": [
       "       Temperature  TDS_VOltage  TDSwithoutT    TDSwithT  Water_Level\n",
       "count   823.000000   823.000000   823.000000  823.000000   823.000000\n",
       "mean     21.480401     0.205443    89.105504   89.105504     6.128797\n",
       "std       0.786023     0.008700     2.370583    2.370583     0.335179\n",
       "min      20.120000     0.190000    82.180000   82.180000     6.000000\n",
       "25%      20.750000     0.200000    88.330000   88.330000     6.000000\n",
       "50%      21.560000     0.210000    89.740000   89.740000     6.000000\n",
       "75%      22.060000     0.210000    90.780000   90.780000     6.000000\n",
       "max      23.120000     0.220000    92.900000   92.900000     7.000000"
      ]
     },
     "execution_count": 31,
     "metadata": {},
     "output_type": "execute_result"
    }
   ],
   "source": [
    "df_oneday.describe()"
   ]
  },
  {
   "cell_type": "code",
   "execution_count": 32,
   "metadata": {},
   "outputs": [
    {
     "data": {
      "text/plain": [
       "Text(0.5, 1.0, 'TDS Variation in One day')"
      ]
     },
     "execution_count": 32,
     "metadata": {},
     "output_type": "execute_result"
    },
    {
     "data": {
      "image/png": "[encoded data removed]",
      "text/plain": [
       "<Figure size 432x288 with 1 Axes>"
      ]
     },
     "metadata": {
      "needs_background": "light"
     },
     "output_type": "display_data"
    }
   ],
   "source": [
    "df_oneday[\"TDSwithoutT\"].plot()\n",
    "plt.xlabel(\"Time Stamp\")\n",
    "plt.ylabel(\"TDS in PPM\")\n",
    "plt.title(\"TDS Variation in One day\")"
   ]
  },
  {
   "cell_type": "code",
   "execution_count": 33,
   "metadata": {},
   "outputs": [
    {
     "data": {
      "text/plain": [
       "Text(0.5, 1.0, 'Temperature Variation in One day')"
      ]
     },
     "execution_count": 33,
     "metadata": {},
     "output_type": "execute_result"
    },
    {
     "data": {
      "image/png": "[encoded data removed]",
      "text/plain": [
       "<Figure size 432x288 with 1 Axes>"
      ]
     },
     "metadata": {
      "needs_background": "light"
     },
     "output_type": "display_data"
    }
   ],
   "source": [
    "df_oneday[\"Temperature\"].plot()\n",
    "plt.xlabel(\"Time Stamp\")\n",
    "plt.ylabel(\"Temperature in Degree Centigrade\")\n",
    "plt.title(\"Temperature Variation in One day\")"
   ]
  },
  {
   "cell_type": "code",
   "execution_count": 36,
   "metadata": {},
   "outputs": [
    {
     "data": {
      "image/png": "[encoded data removed]",
      "text/plain": [
       "<Figure size 432x288 with 2 Axes>"
      ]
     },
     "metadata": {
      "needs_background": "light"
     },
     "output_type": "display_data"
    }
   ],
   "source": [
    "\n",
    "ax1 = df_oneday[\"TDSwithoutT\"].plot()\n",
    "plt.ylabel(\"TDS in PPM\")\n",
    "ax2 = ax1.twinx()\n",
    "ax2.spines['right'].set_position(('axes', 1.0))\n",
    "df_oneday[\"Temperature\"].plot(ax=ax2, color=\"red\")\n",
    "plt.ylabel(\"Temperature\")\n",
    "plt.title(\"WM-WQ-VN-01-00- 1 Day\")\n",
    "plt.savefig('WM-WQ-VN-01-01- 1 Day', dpi=600)"
   ]
  },
  {
   "cell_type": "code",
   "execution_count": 37,
   "metadata": {},
   "outputs": [
    {
     "data": {
      "text/plain": [
       "Text(0.5, 1.0, 'Water Level Variation in One day')"
      ]
     },
     "execution_count": 37,
     "metadata": {},
     "output_type": "execute_result"
    },
    {
     "data": {
      "image/png": "[encoded data removed]",
      "text/plain": [
       "<Figure size 432x288 with 1 Axes>"
      ]
     },
     "metadata": {
      "needs_background": "light"
     },
     "output_type": "display_data"
    }
   ],
   "source": [
    "df_oneday[\"Water_Level\"].plot()\n",
    "plt.xlabel(\"Time Stamp\")\n",
    "plt.ylabel(\"Water Level in Cms\")\n",
    "plt.title(\"Water Level Variation in One day\")"
   ]
  },
  {
   "cell_type": "code",
   "execution_count": 38,
   "metadata": {},
   "outputs": [
    {
     "data": {
      "text/html": [
       "<div>\n",
       "<style scoped>\n",
       "    .dataframe tbody tr th:only-of-type {\n",
       "        vertical-align: middle;\n",
       "    }\n",
       "\n",
       "    .dataframe tbody tr th {\n",
       "        vertical-align: top;\n",
       "    }\n",
       "\n",
       "    .dataframe thead th {\n",
       "        text-align: right;\n",
       "    }\n",
       "</style>\n",
       "<table border=\"1\" class=\"dataframe\">\n",
       "  <thead>\n",
       "    <tr style=\"text-align: right;\">\n",
       "      <th></th>\n",
       "      <th>Temperature</th>\n",
       "      <th>TDS_VOltage</th>\n",
       "      <th>TDSwithoutT</th>\n",
       "      <th>TDSwithT</th>\n",
       "      <th>Water_Level</th>\n",
       "    </tr>\n",
       "  </thead>\n",
       "  <tbody>\n",
       "    <tr>\n",
       "      <th>Temperature</th>\n",
       "      <td>1.000000</td>\n",
       "      <td>0.807226</td>\n",
       "      <td>0.563760</td>\n",
       "      <td>0.563760</td>\n",
       "      <td>-0.314609</td>\n",
       "    </tr>\n",
       "    <tr>\n",
       "      <th>TDS_VOltage</th>\n",
       "      <td>0.807226</td>\n",
       "      <td>1.000000</td>\n",
       "      <td>0.859667</td>\n",
       "      <td>0.859667</td>\n",
       "      <td>-0.065505</td>\n",
       "    </tr>\n",
       "    <tr>\n",
       "      <th>TDSwithoutT</th>\n",
       "      <td>0.563760</td>\n",
       "      <td>0.859667</td>\n",
       "      <td>1.000000</td>\n",
       "      <td>1.000000</td>\n",
       "      <td>0.168367</td>\n",
       "    </tr>\n",
       "    <tr>\n",
       "      <th>TDSwithT</th>\n",
       "      <td>0.563760</td>\n",
       "      <td>0.859667</td>\n",
       "      <td>1.000000</td>\n",
       "      <td>1.000000</td>\n",
       "      <td>0.168367</td>\n",
       "    </tr>\n",
       "    <tr>\n",
       "      <th>Water_Level</th>\n",
       "      <td>-0.314609</td>\n",
       "      <td>-0.065505</td>\n",
       "      <td>0.168367</td>\n",
       "      <td>0.168367</td>\n",
       "      <td>1.000000</td>\n",
       "    </tr>\n",
       "  </tbody>\n",
       "</table>\n",
       "</div>"
      ],
      "text/plain": [
       "             Temperature  TDS_VOltage  TDSwithoutT  TDSwithT  Water_Level\n",
       "Temperature     1.000000     0.807226     0.563760  0.563760    -0.314609\n",
       "TDS_VOltage     0.807226     1.000000     0.859667  0.859667    -0.065505\n",
       "TDSwithoutT     0.563760     0.859667     1.000000  1.000000     0.168367\n",
       "TDSwithT        0.563760     0.859667     1.000000  1.000000     0.168367\n",
       "Water_Level    -0.314609    -0.065505     0.168367  0.168367     1.000000"
      ]
     },
     "execution_count": 38,
     "metadata": {},
     "output_type": "execute_result"
    }
   ],
   "source": [
    "df_oneday.corr()"
   ]
  },
  {
   "cell_type": "code",
   "execution_count": null,
   "metadata": {},
   "outputs": [],
   "source": []
  },
  {
   "cell_type": "code",
   "execution_count": null,
   "metadata": {},
   "outputs": [],
   "source": []
  }
 ],
 "metadata": {
  "kernelspec": {
   "display_name": "Python 3",
   "language": "python",
   "name": "python3"
  },
  "language_info": {
   "codemirror_mode": {
    "name": "ipython",
    "version": 3
   },
   "file_extension": ".py",
   "mimetype": "text/x-python",
   "name": "python",
   "nbconvert_exporter": "python",
   "pygments_lexer": "ipython3",
   "version": "3.8.3"
  }
 },
 "nbformat": 4,
 "nbformat_minor": 4
}
