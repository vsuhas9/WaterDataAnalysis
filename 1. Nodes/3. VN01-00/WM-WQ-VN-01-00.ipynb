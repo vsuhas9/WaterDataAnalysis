{
 "cells": [
  {
   "cell_type": "markdown",
   "metadata": {},
   "source": [
    "# Importing the Required Packages"
   ]
  },
  {
   "cell_type": "code",
   "execution_count": 1,
   "metadata": {},
   "outputs": [],
   "source": [
    "import pandas as pd"
   ]
  },
  {
   "cell_type": "code",
   "execution_count": 2,
   "metadata": {},
   "outputs": [],
   "source": [
    "import numpy as np"
   ]
  },
  {
   "cell_type": "code",
   "execution_count": 3,
   "metadata": {},
   "outputs": [],
   "source": [
    "import matplotlib.pyplot as plt"
   ]
  },
  {
   "cell_type": "markdown",
   "metadata": {},
   "source": [
    "# Importing the Feeds Data and Cleaning the data"
   ]
  },
  {
   "cell_type": "code",
   "execution_count": 6,
   "metadata": {},
   "outputs": [],
   "source": [
    "df=pd.read_csv(\"VN0100.csv\")"
   ]
  },
  {
   "cell_type": "code",
   "execution_count": 5,
   "metadata": {},
   "outputs": [
    {
     "data": {
      "text/html": [
       "<div>\n",
       "<style scoped>\n",
       "    .dataframe tbody tr th:only-of-type {\n",
       "        vertical-align: middle;\n",
       "    }\n",
       "\n",
       "    .dataframe tbody tr th {\n",
       "        vertical-align: top;\n",
       "    }\n",
       "\n",
       "    .dataframe thead th {\n",
       "        text-align: right;\n",
       "    }\n",
       "</style>\n",
       "<table border=\"1\" class=\"dataframe\">\n",
       "  <thead>\n",
       "    <tr style=\"text-align: right;\">\n",
       "      <th></th>\n",
       "      <th>created_at</th>\n",
       "      <th>entry_id</th>\n",
       "      <th>field1</th>\n",
       "      <th>field2</th>\n",
       "      <th>field3</th>\n",
       "      <th>field4</th>\n",
       "      <th>field5</th>\n",
       "      <th>latitude</th>\n",
       "      <th>longitude</th>\n",
       "      <th>elevation</th>\n",
       "      <th>status</th>\n",
       "    </tr>\n",
       "  </thead>\n",
       "  <tbody>\n",
       "    <tr>\n",
       "      <th>0</th>\n",
       "      <td>1970-01-01 05:40:00 IST</td>\n",
       "      <td>1</td>\n",
       "      <td>22.75</td>\n",
       "      <td>0.00</td>\n",
       "      <td>0.00</td>\n",
       "      <td>0.00</td>\n",
       "      <td>13.12</td>\n",
       "      <td>NaN</td>\n",
       "      <td>NaN</td>\n",
       "      <td>NaN</td>\n",
       "      <td>NaN</td>\n",
       "    </tr>\n",
       "    <tr>\n",
       "      <th>1</th>\n",
       "      <td>1970-01-01 05:50:01 IST</td>\n",
       "      <td>2</td>\n",
       "      <td>22.31</td>\n",
       "      <td>0.00</td>\n",
       "      <td>0.26</td>\n",
       "      <td>0.28</td>\n",
       "      <td>12.73</td>\n",
       "      <td>NaN</td>\n",
       "      <td>NaN</td>\n",
       "      <td>NaN</td>\n",
       "      <td>NaN</td>\n",
       "    </tr>\n",
       "    <tr>\n",
       "      <th>2</th>\n",
       "      <td>2020-12-17 00:29:38 IST</td>\n",
       "      <td>3</td>\n",
       "      <td>22.13</td>\n",
       "      <td>0.18</td>\n",
       "      <td>72.43</td>\n",
       "      <td>76.64</td>\n",
       "      <td>3.74</td>\n",
       "      <td>NaN</td>\n",
       "      <td>NaN</td>\n",
       "      <td>NaN</td>\n",
       "      <td>NaN</td>\n",
       "    </tr>\n",
       "    <tr>\n",
       "      <th>3</th>\n",
       "      <td>2020-12-17 00:39:39 IST</td>\n",
       "      <td>4</td>\n",
       "      <td>22.19</td>\n",
       "      <td>0.18</td>\n",
       "      <td>72.72</td>\n",
       "      <td>76.85</td>\n",
       "      <td>3.79</td>\n",
       "      <td>NaN</td>\n",
       "      <td>NaN</td>\n",
       "      <td>NaN</td>\n",
       "      <td>NaN</td>\n",
       "    </tr>\n",
       "    <tr>\n",
       "      <th>4</th>\n",
       "      <td>2020-12-17 00:49:42 IST</td>\n",
       "      <td>5</td>\n",
       "      <td>22.25</td>\n",
       "      <td>0.18</td>\n",
       "      <td>72.45</td>\n",
       "      <td>76.47</td>\n",
       "      <td>3.84</td>\n",
       "      <td>NaN</td>\n",
       "      <td>NaN</td>\n",
       "      <td>NaN</td>\n",
       "      <td>NaN</td>\n",
       "    </tr>\n",
       "  </tbody>\n",
       "</table>\n",
       "</div>"
      ],
      "text/plain": [
       "                created_at  entry_id  field1  field2  field3  field4  field5  \\\n",
       "0  1970-01-01 05:40:00 IST         1   22.75    0.00    0.00    0.00   13.12   \n",
       "1  1970-01-01 05:50:01 IST         2   22.31    0.00    0.26    0.28   12.73   \n",
       "2  2020-12-17 00:29:38 IST         3   22.13    0.18   72.43   76.64    3.74   \n",
       "3  2020-12-17 00:39:39 IST         4   22.19    0.18   72.72   76.85    3.79   \n",
       "4  2020-12-17 00:49:42 IST         5   22.25    0.18   72.45   76.47    3.84   \n",
       "\n",
       "   latitude  longitude  elevation  status  \n",
       "0       NaN        NaN        NaN     NaN  \n",
       "1       NaN        NaN        NaN     NaN  \n",
       "2       NaN        NaN        NaN     NaN  \n",
       "3       NaN        NaN        NaN     NaN  \n",
       "4       NaN        NaN        NaN     NaN  "
      ]
     },
     "execution_count": 5,
     "metadata": {},
     "output_type": "execute_result"
    }
   ],
   "source": [
    "df.head()"
   ]
  },
  {
   "cell_type": "code",
   "execution_count": 7,
   "metadata": {},
   "outputs": [],
   "source": [
    "headers=[\"Time_Stamp\",\"Entry_ID\",\"Temperature\",\"TDS-Voltage\",\"TDSwithoutT\",\"TDSwithT\",\"Water_Level\",\"Latitude\",\"Longitude\",\"Elevation\",\"Status\"]"
   ]
  },
  {
   "cell_type": "code",
   "execution_count": 8,
   "metadata": {},
   "outputs": [
    {
     "data": {
      "text/plain": [
       "['Time_Stamp',\n",
       " 'Entry_ID',\n",
       " 'Temperature',\n",
       " 'TDS-Voltage',\n",
       " 'TDSwithoutT',\n",
       " 'TDSwithT',\n",
       " 'Water_Level',\n",
       " 'Latitude',\n",
       " 'Longitude',\n",
       " 'Elevation',\n",
       " 'Status']"
      ]
     },
     "execution_count": 8,
     "metadata": {},
     "output_type": "execute_result"
    }
   ],
   "source": [
    "headers"
   ]
  },
  {
   "cell_type": "code",
   "execution_count": 9,
   "metadata": {},
   "outputs": [],
   "source": [
    "df.columns=headers"
   ]
  },
  {
   "cell_type": "code",
   "execution_count": 10,
   "metadata": {},
   "outputs": [
    {
     "data": {
      "text/html": [
       "<div>\n",
       "<style scoped>\n",
       "    .dataframe tbody tr th:only-of-type {\n",
       "        vertical-align: middle;\n",
       "    }\n",
       "\n",
       "    .dataframe tbody tr th {\n",
       "        vertical-align: top;\n",
       "    }\n",
       "\n",
       "    .dataframe thead th {\n",
       "        text-align: right;\n",
       "    }\n",
       "</style>\n",
       "<table border=\"1\" class=\"dataframe\">\n",
       "  <thead>\n",
       "    <tr style=\"text-align: right;\">\n",
       "      <th></th>\n",
       "      <th>Time_Stamp</th>\n",
       "      <th>Entry_ID</th>\n",
       "      <th>Temperature</th>\n",
       "      <th>TDS-Voltage</th>\n",
       "      <th>TDSwithoutT</th>\n",
       "      <th>TDSwithT</th>\n",
       "      <th>Water_Level</th>\n",
       "      <th>Latitude</th>\n",
       "      <th>Longitude</th>\n",
       "      <th>Elevation</th>\n",
       "      <th>Status</th>\n",
       "    </tr>\n",
       "  </thead>\n",
       "  <tbody>\n",
       "    <tr>\n",
       "      <th>0</th>\n",
       "      <td>1970-01-01 05:40:00 IST</td>\n",
       "      <td>1</td>\n",
       "      <td>22.75</td>\n",
       "      <td>0.00</td>\n",
       "      <td>0.00</td>\n",
       "      <td>0.00</td>\n",
       "      <td>13.12</td>\n",
       "      <td>NaN</td>\n",
       "      <td>NaN</td>\n",
       "      <td>NaN</td>\n",
       "      <td>NaN</td>\n",
       "    </tr>\n",
       "    <tr>\n",
       "      <th>1</th>\n",
       "      <td>1970-01-01 05:50:01 IST</td>\n",
       "      <td>2</td>\n",
       "      <td>22.31</td>\n",
       "      <td>0.00</td>\n",
       "      <td>0.26</td>\n",
       "      <td>0.28</td>\n",
       "      <td>12.73</td>\n",
       "      <td>NaN</td>\n",
       "      <td>NaN</td>\n",
       "      <td>NaN</td>\n",
       "      <td>NaN</td>\n",
       "    </tr>\n",
       "    <tr>\n",
       "      <th>2</th>\n",
       "      <td>2020-12-17 00:29:38 IST</td>\n",
       "      <td>3</td>\n",
       "      <td>22.13</td>\n",
       "      <td>0.18</td>\n",
       "      <td>72.43</td>\n",
       "      <td>76.64</td>\n",
       "      <td>3.74</td>\n",
       "      <td>NaN</td>\n",
       "      <td>NaN</td>\n",
       "      <td>NaN</td>\n",
       "      <td>NaN</td>\n",
       "    </tr>\n",
       "    <tr>\n",
       "      <th>3</th>\n",
       "      <td>2020-12-17 00:39:39 IST</td>\n",
       "      <td>4</td>\n",
       "      <td>22.19</td>\n",
       "      <td>0.18</td>\n",
       "      <td>72.72</td>\n",
       "      <td>76.85</td>\n",
       "      <td>3.79</td>\n",
       "      <td>NaN</td>\n",
       "      <td>NaN</td>\n",
       "      <td>NaN</td>\n",
       "      <td>NaN</td>\n",
       "    </tr>\n",
       "    <tr>\n",
       "      <th>4</th>\n",
       "      <td>2020-12-17 00:49:42 IST</td>\n",
       "      <td>5</td>\n",
       "      <td>22.25</td>\n",
       "      <td>0.18</td>\n",
       "      <td>72.45</td>\n",
       "      <td>76.47</td>\n",
       "      <td>3.84</td>\n",
       "      <td>NaN</td>\n",
       "      <td>NaN</td>\n",
       "      <td>NaN</td>\n",
       "      <td>NaN</td>\n",
       "    </tr>\n",
       "  </tbody>\n",
       "</table>\n",
       "</div>"
      ],
      "text/plain": [
       "                Time_Stamp  Entry_ID  Temperature  TDS-Voltage  TDSwithoutT  \\\n",
       "0  1970-01-01 05:40:00 IST         1        22.75         0.00         0.00   \n",
       "1  1970-01-01 05:50:01 IST         2        22.31         0.00         0.26   \n",
       "2  2020-12-17 00:29:38 IST         3        22.13         0.18        72.43   \n",
       "3  2020-12-17 00:39:39 IST         4        22.19         0.18        72.72   \n",
       "4  2020-12-17 00:49:42 IST         5        22.25         0.18        72.45   \n",
       "\n",
       "   TDSwithT  Water_Level  Latitude  Longitude  Elevation  Status  \n",
       "0      0.00        13.12       NaN        NaN        NaN     NaN  \n",
       "1      0.28        12.73       NaN        NaN        NaN     NaN  \n",
       "2     76.64         3.74       NaN        NaN        NaN     NaN  \n",
       "3     76.85         3.79       NaN        NaN        NaN     NaN  \n",
       "4     76.47         3.84       NaN        NaN        NaN     NaN  "
      ]
     },
     "execution_count": 10,
     "metadata": {},
     "output_type": "execute_result"
    }
   ],
   "source": [
    "df.head()"
   ]
  },
  {
   "cell_type": "code",
   "execution_count": 11,
   "metadata": {},
   "outputs": [],
   "source": [
    "dfplt=df[[\"Time_Stamp\",\"Temperature\",\"TDS-Voltage\",\"TDSwithoutT\",\"TDSwithT\",\"Water_Level\"]]"
   ]
  },
  {
   "cell_type": "code",
   "execution_count": 12,
   "metadata": {},
   "outputs": [
    {
     "data": {
      "text/html": [
       "<div>\n",
       "<style scoped>\n",
       "    .dataframe tbody tr th:only-of-type {\n",
       "        vertical-align: middle;\n",
       "    }\n",
       "\n",
       "    .dataframe tbody tr th {\n",
       "        vertical-align: top;\n",
       "    }\n",
       "\n",
       "    .dataframe thead th {\n",
       "        text-align: right;\n",
       "    }\n",
       "</style>\n",
       "<table border=\"1\" class=\"dataframe\">\n",
       "  <thead>\n",
       "    <tr style=\"text-align: right;\">\n",
       "      <th></th>\n",
       "      <th>Time_Stamp</th>\n",
       "      <th>Temperature</th>\n",
       "      <th>TDS-Voltage</th>\n",
       "      <th>TDSwithoutT</th>\n",
       "      <th>TDSwithT</th>\n",
       "      <th>Water_Level</th>\n",
       "    </tr>\n",
       "  </thead>\n",
       "  <tbody>\n",
       "    <tr>\n",
       "      <th>0</th>\n",
       "      <td>1970-01-01 05:40:00 IST</td>\n",
       "      <td>22.75</td>\n",
       "      <td>0.00</td>\n",
       "      <td>0.00</td>\n",
       "      <td>0.00</td>\n",
       "      <td>13.12</td>\n",
       "    </tr>\n",
       "    <tr>\n",
       "      <th>1</th>\n",
       "      <td>1970-01-01 05:50:01 IST</td>\n",
       "      <td>22.31</td>\n",
       "      <td>0.00</td>\n",
       "      <td>0.26</td>\n",
       "      <td>0.28</td>\n",
       "      <td>12.73</td>\n",
       "    </tr>\n",
       "    <tr>\n",
       "      <th>2</th>\n",
       "      <td>2020-12-17 00:29:38 IST</td>\n",
       "      <td>22.13</td>\n",
       "      <td>0.18</td>\n",
       "      <td>72.43</td>\n",
       "      <td>76.64</td>\n",
       "      <td>3.74</td>\n",
       "    </tr>\n",
       "    <tr>\n",
       "      <th>3</th>\n",
       "      <td>2020-12-17 00:39:39 IST</td>\n",
       "      <td>22.19</td>\n",
       "      <td>0.18</td>\n",
       "      <td>72.72</td>\n",
       "      <td>76.85</td>\n",
       "      <td>3.79</td>\n",
       "    </tr>\n",
       "    <tr>\n",
       "      <th>4</th>\n",
       "      <td>2020-12-17 00:49:42 IST</td>\n",
       "      <td>22.25</td>\n",
       "      <td>0.18</td>\n",
       "      <td>72.45</td>\n",
       "      <td>76.47</td>\n",
       "      <td>3.84</td>\n",
       "    </tr>\n",
       "    <tr>\n",
       "      <th>...</th>\n",
       "      <td>...</td>\n",
       "      <td>...</td>\n",
       "      <td>...</td>\n",
       "      <td>...</td>\n",
       "      <td>...</td>\n",
       "      <td>...</td>\n",
       "    </tr>\n",
       "    <tr>\n",
       "      <th>1788</th>\n",
       "      <td>2021-01-04 10:56:36 IST</td>\n",
       "      <td>20.75</td>\n",
       "      <td>0.24</td>\n",
       "      <td>96.63</td>\n",
       "      <td>105.05</td>\n",
       "      <td>6.22</td>\n",
       "    </tr>\n",
       "    <tr>\n",
       "      <th>1789</th>\n",
       "      <td>2021-01-04 11:08:56 IST</td>\n",
       "      <td>20.81</td>\n",
       "      <td>0.24</td>\n",
       "      <td>96.78</td>\n",
       "      <td>105.08</td>\n",
       "      <td>6.38</td>\n",
       "    </tr>\n",
       "    <tr>\n",
       "      <th>1790</th>\n",
       "      <td>2021-01-04 11:21:16 IST</td>\n",
       "      <td>20.81</td>\n",
       "      <td>0.24</td>\n",
       "      <td>97.18</td>\n",
       "      <td>105.51</td>\n",
       "      <td>6.48</td>\n",
       "    </tr>\n",
       "    <tr>\n",
       "      <th>1791</th>\n",
       "      <td>2021-01-04 11:33:37 IST</td>\n",
       "      <td>20.88</td>\n",
       "      <td>0.24</td>\n",
       "      <td>96.93</td>\n",
       "      <td>105.11</td>\n",
       "      <td>6.58</td>\n",
       "    </tr>\n",
       "    <tr>\n",
       "      <th>1792</th>\n",
       "      <td>2021-01-04 11:45:57 IST</td>\n",
       "      <td>20.88</td>\n",
       "      <td>0.24</td>\n",
       "      <td>97.08</td>\n",
       "      <td>105.27</td>\n",
       "      <td>7.14</td>\n",
       "    </tr>\n",
       "  </tbody>\n",
       "</table>\n",
       "<p>1793 rows × 6 columns</p>\n",
       "</div>"
      ],
      "text/plain": [
       "                   Time_Stamp  Temperature  TDS-Voltage  TDSwithoutT  \\\n",
       "0     1970-01-01 05:40:00 IST        22.75         0.00         0.00   \n",
       "1     1970-01-01 05:50:01 IST        22.31         0.00         0.26   \n",
       "2     2020-12-17 00:29:38 IST        22.13         0.18        72.43   \n",
       "3     2020-12-17 00:39:39 IST        22.19         0.18        72.72   \n",
       "4     2020-12-17 00:49:42 IST        22.25         0.18        72.45   \n",
       "...                       ...          ...          ...          ...   \n",
       "1788  2021-01-04 10:56:36 IST        20.75         0.24        96.63   \n",
       "1789  2021-01-04 11:08:56 IST        20.81         0.24        96.78   \n",
       "1790  2021-01-04 11:21:16 IST        20.81         0.24        97.18   \n",
       "1791  2021-01-04 11:33:37 IST        20.88         0.24        96.93   \n",
       "1792  2021-01-04 11:45:57 IST        20.88         0.24        97.08   \n",
       "\n",
       "      TDSwithT  Water_Level  \n",
       "0         0.00        13.12  \n",
       "1         0.28        12.73  \n",
       "2        76.64         3.74  \n",
       "3        76.85         3.79  \n",
       "4        76.47         3.84  \n",
       "...        ...          ...  \n",
       "1788    105.05         6.22  \n",
       "1789    105.08         6.38  \n",
       "1790    105.51         6.48  \n",
       "1791    105.11         6.58  \n",
       "1792    105.27         7.14  \n",
       "\n",
       "[1793 rows x 6 columns]"
      ]
     },
     "execution_count": 12,
     "metadata": {},
     "output_type": "execute_result"
    }
   ],
   "source": [
    "dfplt\n"
   ]
  },
  {
   "cell_type": "code",
   "execution_count": 13,
   "metadata": {},
   "outputs": [],
   "source": [
    "df_plot=dfplt[dfplt[\"TDSwithT\"]>40]"
   ]
  },
  {
   "cell_type": "code",
   "execution_count": 14,
   "metadata": {},
   "outputs": [],
   "source": [
    "df_plot=df_plot[df_plot[\"TDSwithT\"]<150]"
   ]
  },
  {
   "cell_type": "code",
   "execution_count": 15,
   "metadata": {},
   "outputs": [],
   "source": [
    "df_plot=df_plot[df_plot[\"Water_Level\"]>3]"
   ]
  },
  {
   "cell_type": "code",
   "execution_count": 16,
   "metadata": {},
   "outputs": [],
   "source": [
    "df_plot=df_plot[df_plot[\"Water_Level\"]<=7]"
   ]
  },
  {
   "cell_type": "code",
   "execution_count": 17,
   "metadata": {},
   "outputs": [],
   "source": [
    "df_plot[\"Temperature\"]=df_plot[\"Temperature\"].astype(\"float\")\n"
   ]
  },
  {
   "cell_type": "code",
   "execution_count": 18,
   "metadata": {},
   "outputs": [],
   "source": [
    "df_plot=df_plot[df_plot[\"Temperature\"]>20]"
   ]
  },
  {
   "cell_type": "code",
   "execution_count": 19,
   "metadata": {},
   "outputs": [],
   "source": [
    "df_plot=df_plot[df_plot[\"Temperature\"]<30]"
   ]
  },
  {
   "cell_type": "markdown",
   "metadata": {},
   "source": [
    "# Plotting the data from last 15 days"
   ]
  },
  {
   "cell_type": "code",
   "execution_count": 20,
   "metadata": {},
   "outputs": [
    {
     "data": {
      "text/plain": [
       "Time_Stamp      object\n",
       "Temperature    float64\n",
       "TDS-Voltage    float64\n",
       "TDSwithoutT    float64\n",
       "TDSwithT       float64\n",
       "Water_Level    float64\n",
       "dtype: object"
      ]
     },
     "execution_count": 20,
     "metadata": {},
     "output_type": "execute_result"
    }
   ],
   "source": [
    "df_plot.dtypes"
   ]
  },
  {
   "cell_type": "code",
   "execution_count": 21,
   "metadata": {},
   "outputs": [
    {
     "name": "stderr",
     "output_type": "stream",
     "text": [
      "C:\\Users\\suhas\\anaconda3\\lib\\site-packages\\dateutil\\parser\\_parser.py:1213: UnknownTimezoneWarning: tzname IST identified but not understood.  Pass `tzinfos` argument in order to correctly return a timezone-aware datetime.  In a future version, this will raise an exception.\n",
      "  warnings.warn(\"tzname {tzname} identified but not understood.  \"\n"
     ]
    }
   ],
   "source": [
    "df_plot[\"Time_Stamp\"]=df_plot[\"Time_Stamp\"].astype('datetime64[ns, US/Eastern]')"
   ]
  },
  {
   "cell_type": "code",
   "execution_count": 22,
   "metadata": {},
   "outputs": [
    {
     "data": {
      "text/plain": [
       "Time_Stamp     datetime64[ns, US/Eastern]\n",
       "Temperature                       float64\n",
       "TDS-Voltage                       float64\n",
       "TDSwithoutT                       float64\n",
       "TDSwithT                          float64\n",
       "Water_Level                       float64\n",
       "dtype: object"
      ]
     },
     "execution_count": 22,
     "metadata": {},
     "output_type": "execute_result"
    }
   ],
   "source": [
    "df_plot.dtypes"
   ]
  },
  {
   "cell_type": "code",
   "execution_count": 23,
   "metadata": {},
   "outputs": [],
   "source": [
    "df_plot.to_csv(\"FFEED_0100.csv\")"
   ]
  },
  {
   "cell_type": "code",
   "execution_count": 24,
   "metadata": {},
   "outputs": [
    {
     "data": {
      "image/png": "[encoded data removed]",
      "text/plain": [
       "<Figure size 432x288 with 2 Axes>"
      ]
     },
     "metadata": {
      "needs_background": "light"
     },
     "output_type": "display_data"
    }
   ],
   "source": [
    "df_plot_main=df_plot.set_index('Time_Stamp')\n",
    "ax1 = df_plot_main[\"TDSwithT\"].plot()\n",
    "plt.ylabel(\"TDS in PPM\")\n",
    "ax2 = ax1.twinx()\n",
    "ax2.spines['right'].set_position(('axes', 1.0))\n",
    "df_plot_main[\"Temperature\"].plot(ax=ax2, color=\"red\")\n",
    "plt.ylabel(\"Temperature\")\n",
    "plt.title(\"WM-WQ-VN01-00\")\n",
    "plt.savefig('WM-WQ-VN01-00', dpi=600)"
   ]
  },
  {
   "cell_type": "code",
   "execution_count": 42,
   "metadata": {},
   "outputs": [
    {
     "data": {
      "text/html": [
       "<div>\n",
       "<style scoped>\n",
       "    .dataframe tbody tr th:only-of-type {\n",
       "        vertical-align: middle;\n",
       "    }\n",
       "\n",
       "    .dataframe tbody tr th {\n",
       "        vertical-align: top;\n",
       "    }\n",
       "\n",
       "    .dataframe thead th {\n",
       "        text-align: right;\n",
       "    }\n",
       "</style>\n",
       "<table border=\"1\" class=\"dataframe\">\n",
       "  <thead>\n",
       "    <tr style=\"text-align: right;\">\n",
       "      <th></th>\n",
       "      <th>Temperature</th>\n",
       "      <th>TDS-Voltage</th>\n",
       "      <th>TDSwithoutT</th>\n",
       "      <th>TDSwithT</th>\n",
       "      <th>Water_Level</th>\n",
       "    </tr>\n",
       "  </thead>\n",
       "  <tbody>\n",
       "    <tr>\n",
       "      <th>count</th>\n",
       "      <td>1243.000000</td>\n",
       "      <td>1243.000000</td>\n",
       "      <td>1243.000000</td>\n",
       "      <td>1243.000000</td>\n",
       "      <td>1243.000000</td>\n",
       "    </tr>\n",
       "    <tr>\n",
       "      <th>mean</th>\n",
       "      <td>22.665736</td>\n",
       "      <td>0.204867</td>\n",
       "      <td>83.011722</td>\n",
       "      <td>86.914819</td>\n",
       "      <td>3.731874</td>\n",
       "    </tr>\n",
       "    <tr>\n",
       "      <th>std</th>\n",
       "      <td>1.008870</td>\n",
       "      <td>0.010466</td>\n",
       "      <td>3.935660</td>\n",
       "      <td>4.853836</td>\n",
       "      <td>0.241760</td>\n",
       "    </tr>\n",
       "    <tr>\n",
       "      <th>min</th>\n",
       "      <td>20.060000</td>\n",
       "      <td>0.180000</td>\n",
       "      <td>72.010000</td>\n",
       "      <td>75.910000</td>\n",
       "      <td>3.330000</td>\n",
       "    </tr>\n",
       "    <tr>\n",
       "      <th>25%</th>\n",
       "      <td>22.130000</td>\n",
       "      <td>0.200000</td>\n",
       "      <td>80.550000</td>\n",
       "      <td>83.675000</td>\n",
       "      <td>3.540000</td>\n",
       "    </tr>\n",
       "    <tr>\n",
       "      <th>50%</th>\n",
       "      <td>22.940000</td>\n",
       "      <td>0.200000</td>\n",
       "      <td>81.910000</td>\n",
       "      <td>85.220000</td>\n",
       "      <td>3.690000</td>\n",
       "    </tr>\n",
       "    <tr>\n",
       "      <th>75%</th>\n",
       "      <td>23.440000</td>\n",
       "      <td>0.210000</td>\n",
       "      <td>85.770000</td>\n",
       "      <td>92.010000</td>\n",
       "      <td>3.890000</td>\n",
       "    </tr>\n",
       "    <tr>\n",
       "      <th>max</th>\n",
       "      <td>24.500000</td>\n",
       "      <td>0.230000</td>\n",
       "      <td>93.760000</td>\n",
       "      <td>98.290000</td>\n",
       "      <td>4.810000</td>\n",
       "    </tr>\n",
       "  </tbody>\n",
       "</table>\n",
       "</div>"
      ],
      "text/plain": [
       "       Temperature  TDS-Voltage  TDSwithoutT     TDSwithT  Water_Level\n",
       "count  1243.000000  1243.000000  1243.000000  1243.000000  1243.000000\n",
       "mean     22.665736     0.204867    83.011722    86.914819     3.731874\n",
       "std       1.008870     0.010466     3.935660     4.853836     0.241760\n",
       "min      20.060000     0.180000    72.010000    75.910000     3.330000\n",
       "25%      22.130000     0.200000    80.550000    83.675000     3.540000\n",
       "50%      22.940000     0.200000    81.910000    85.220000     3.690000\n",
       "75%      23.440000     0.210000    85.770000    92.010000     3.890000\n",
       "max      24.500000     0.230000    93.760000    98.290000     4.810000"
      ]
     },
     "execution_count": 42,
     "metadata": {},
     "output_type": "execute_result"
    }
   ],
   "source": [
    "df_plot.describe()"
   ]
  },
  {
   "cell_type": "markdown",
   "metadata": {},
   "source": [
    "# Plotting 1 Day Data :"
   ]
  },
  {
   "cell_type": "code",
   "execution_count": 54,
   "metadata": {},
   "outputs": [],
   "source": [
    "df_oneday=df_plot_main.tail(173)"
   ]
  },
  {
   "cell_type": "code",
   "execution_count": 55,
   "metadata": {},
   "outputs": [
    {
     "data": {
      "text/html": [
       "<div>\n",
       "<style scoped>\n",
       "    .dataframe tbody tr th:only-of-type {\n",
       "        vertical-align: middle;\n",
       "    }\n",
       "\n",
       "    .dataframe tbody tr th {\n",
       "        vertical-align: top;\n",
       "    }\n",
       "\n",
       "    .dataframe thead th {\n",
       "        text-align: right;\n",
       "    }\n",
       "</style>\n",
       "<table border=\"1\" class=\"dataframe\">\n",
       "  <thead>\n",
       "    <tr style=\"text-align: right;\">\n",
       "      <th></th>\n",
       "      <th>Temperature</th>\n",
       "      <th>TDS-Voltage</th>\n",
       "      <th>TDSwithoutT</th>\n",
       "      <th>TDSwithT</th>\n",
       "      <th>Water_Level</th>\n",
       "    </tr>\n",
       "  </thead>\n",
       "  <tbody>\n",
       "    <tr>\n",
       "      <th>count</th>\n",
       "      <td>173.000000</td>\n",
       "      <td>173.000000</td>\n",
       "      <td>173.000000</td>\n",
       "      <td>173.000000</td>\n",
       "      <td>173.000000</td>\n",
       "    </tr>\n",
       "    <tr>\n",
       "      <th>mean</th>\n",
       "      <td>21.782081</td>\n",
       "      <td>0.234104</td>\n",
       "      <td>94.291908</td>\n",
       "      <td>100.420173</td>\n",
       "      <td>6.249306</td>\n",
       "    </tr>\n",
       "    <tr>\n",
       "      <th>std</th>\n",
       "      <td>1.164421</td>\n",
       "      <td>0.006983</td>\n",
       "      <td>2.534052</td>\n",
       "      <td>2.737199</td>\n",
       "      <td>0.476282</td>\n",
       "    </tr>\n",
       "    <tr>\n",
       "      <th>min</th>\n",
       "      <td>20.060000</td>\n",
       "      <td>0.220000</td>\n",
       "      <td>89.720000</td>\n",
       "      <td>96.390000</td>\n",
       "      <td>4.910000</td>\n",
       "    </tr>\n",
       "    <tr>\n",
       "      <th>25%</th>\n",
       "      <td>20.750000</td>\n",
       "      <td>0.230000</td>\n",
       "      <td>92.270000</td>\n",
       "      <td>98.560000</td>\n",
       "      <td>5.920000</td>\n",
       "    </tr>\n",
       "    <tr>\n",
       "      <th>50%</th>\n",
       "      <td>21.560000</td>\n",
       "      <td>0.240000</td>\n",
       "      <td>94.640000</td>\n",
       "      <td>99.170000</td>\n",
       "      <td>6.320000</td>\n",
       "    </tr>\n",
       "    <tr>\n",
       "      <th>75%</th>\n",
       "      <td>22.940000</td>\n",
       "      <td>0.240000</td>\n",
       "      <td>96.340000</td>\n",
       "      <td>103.070000</td>\n",
       "      <td>6.580000</td>\n",
       "    </tr>\n",
       "    <tr>\n",
       "      <th>max</th>\n",
       "      <td>23.870000</td>\n",
       "      <td>0.250000</td>\n",
       "      <td>100.780000</td>\n",
       "      <td>109.540000</td>\n",
       "      <td>6.990000</td>\n",
       "    </tr>\n",
       "  </tbody>\n",
       "</table>\n",
       "</div>"
      ],
      "text/plain": [
       "       Temperature  TDS-Voltage  TDSwithoutT    TDSwithT  Water_Level\n",
       "count   173.000000   173.000000   173.000000  173.000000   173.000000\n",
       "mean     21.782081     0.234104    94.291908  100.420173     6.249306\n",
       "std       1.164421     0.006983     2.534052    2.737199     0.476282\n",
       "min      20.060000     0.220000    89.720000   96.390000     4.910000\n",
       "25%      20.750000     0.230000    92.270000   98.560000     5.920000\n",
       "50%      21.560000     0.240000    94.640000   99.170000     6.320000\n",
       "75%      22.940000     0.240000    96.340000  103.070000     6.580000\n",
       "max      23.870000     0.250000   100.780000  109.540000     6.990000"
      ]
     },
     "execution_count": 55,
     "metadata": {},
     "output_type": "execute_result"
    }
   ],
   "source": [
    "df_oneday.describe()"
   ]
  },
  {
   "cell_type": "code",
   "execution_count": 56,
   "metadata": {},
   "outputs": [
    {
     "data": {
      "text/plain": [
       "Text(0.5, 1.0, 'TDS Variation in One day')"
      ]
     },
     "execution_count": 56,
     "metadata": {},
     "output_type": "execute_result"
    },
    {
     "data": {
      "image/png": "[encoded data removed]",
      "text/plain": [
       "<Figure size 432x288 with 1 Axes>"
      ]
     },
     "metadata": {
      "needs_background": "light"
     },
     "output_type": "display_data"
    }
   ],
   "source": [
    "df_oneday[\"TDSwithT\"].plot()\n",
    "plt.xlabel(\"Time Stamp\")\n",
    "plt.ylabel(\"TDS in PPM\")\n",
    "plt.title(\"TDS Variation in One day\")"
   ]
  },
  {
   "cell_type": "code",
   "execution_count": 57,
   "metadata": {},
   "outputs": [
    {
     "data": {
      "text/plain": [
       "Text(0.5, 1.0, 'Temperature Variation in One day')"
      ]
     },
     "execution_count": 57,
     "metadata": {},
     "output_type": "execute_result"
    },
    {
     "data": {
      "image/png": "[encoded data removed]",
      "text/plain": [
       "<Figure size 432x288 with 1 Axes>"
      ]
     },
     "metadata": {
      "needs_background": "light"
     },
     "output_type": "display_data"
    }
   ],
   "source": [
    "df_oneday[\"Temperature\"].plot()\n",
    "plt.xlabel(\"Time Stamp\")\n",
    "plt.ylabel(\"Temperature in Degree Centigrade\")\n",
    "plt.title(\"Temperature Variation in One day\")"
   ]
  },
  {
   "cell_type": "code",
   "execution_count": 58,
   "metadata": {},
   "outputs": [
    {
     "data": {
      "image/png": "[encoded data removed]",
      "text/plain": [
       "<Figure size 432x288 with 2 Axes>"
      ]
     },
     "metadata": {
      "needs_background": "light"
     },
     "output_type": "display_data"
    }
   ],
   "source": [
    "\n",
    "ax1 = df_oneday[\"TDSwithT\"].plot()\n",
    "plt.ylabel(\"TDS in PPM\")\n",
    "ax2 = ax1.twinx()\n",
    "ax2.spines['right'].set_position(('axes', 1.0))\n",
    "df_oneday[\"Temperature\"].plot(ax=ax2, color=\"red\")\n",
    "plt.ylabel(\"Temperature\")\n",
    "plt.title(\"WM-WQ-VN-01-00- 1 Day\")\n",
    "plt.savefig('WM-WQ-VN-01-00- 1 Day', dpi=600)"
   ]
  },
  {
   "cell_type": "code",
   "execution_count": 30,
   "metadata": {},
   "outputs": [
    {
     "data": {
      "text/plain": [
       "Text(0.5, 1.0, 'Water Level Variation in One day')"
      ]
     },
     "execution_count": 30,
     "metadata": {},
     "output_type": "execute_result"
    },
    {
     "data": {
      "image/png": "[encoded data removed]",
      "text/plain": [
       "<Figure size 432x288 with 1 Axes>"
      ]
     },
     "metadata": {
      "needs_background": "light"
     },
     "output_type": "display_data"
    }
   ],
   "source": [
    "df_oneday[\"Water_Level\"].plot()\n",
    "plt.xlabel(\"Time Stamp\")\n",
    "plt.ylabel(\"Water Level in Cms\")\n",
    "plt.title(\"Water Level Variation in One day\")"
   ]
  },
  {
   "cell_type": "code",
   "execution_count": 31,
   "metadata": {},
   "outputs": [
    {
     "data": {
      "text/html": [
       "<div>\n",
       "<style scoped>\n",
       "    .dataframe tbody tr th:only-of-type {\n",
       "        vertical-align: middle;\n",
       "    }\n",
       "\n",
       "    .dataframe tbody tr th {\n",
       "        vertical-align: top;\n",
       "    }\n",
       "\n",
       "    .dataframe thead th {\n",
       "        text-align: right;\n",
       "    }\n",
       "</style>\n",
       "<table border=\"1\" class=\"dataframe\">\n",
       "  <thead>\n",
       "    <tr style=\"text-align: right;\">\n",
       "      <th></th>\n",
       "      <th>Temperature</th>\n",
       "      <th>TDS-Voltage</th>\n",
       "      <th>TDSwithoutT</th>\n",
       "      <th>TDSwithT</th>\n",
       "      <th>Water_Level</th>\n",
       "    </tr>\n",
       "  </thead>\n",
       "  <tbody>\n",
       "    <tr>\n",
       "      <th>Temperature</th>\n",
       "      <td>1.000000</td>\n",
       "      <td>0.259738</td>\n",
       "      <td>0.283131</td>\n",
       "      <td>-0.554993</td>\n",
       "      <td>-0.446864</td>\n",
       "    </tr>\n",
       "    <tr>\n",
       "      <th>TDS-Voltage</th>\n",
       "      <td>0.259738</td>\n",
       "      <td>1.000000</td>\n",
       "      <td>0.905823</td>\n",
       "      <td>0.578923</td>\n",
       "      <td>0.300710</td>\n",
       "    </tr>\n",
       "    <tr>\n",
       "      <th>TDSwithoutT</th>\n",
       "      <td>0.283131</td>\n",
       "      <td>0.905823</td>\n",
       "      <td>1.000000</td>\n",
       "      <td>0.640456</td>\n",
       "      <td>0.300183</td>\n",
       "    </tr>\n",
       "    <tr>\n",
       "      <th>TDSwithT</th>\n",
       "      <td>-0.554993</td>\n",
       "      <td>0.578923</td>\n",
       "      <td>0.640456</td>\n",
       "      <td>1.000000</td>\n",
       "      <td>0.613692</td>\n",
       "    </tr>\n",
       "    <tr>\n",
       "      <th>Water_Level</th>\n",
       "      <td>-0.446864</td>\n",
       "      <td>0.300710</td>\n",
       "      <td>0.300183</td>\n",
       "      <td>0.613692</td>\n",
       "      <td>1.000000</td>\n",
       "    </tr>\n",
       "  </tbody>\n",
       "</table>\n",
       "</div>"
      ],
      "text/plain": [
       "             Temperature  TDS-Voltage  TDSwithoutT  TDSwithT  Water_Level\n",
       "Temperature     1.000000     0.259738     0.283131 -0.554993    -0.446864\n",
       "TDS-Voltage     0.259738     1.000000     0.905823  0.578923     0.300710\n",
       "TDSwithoutT     0.283131     0.905823     1.000000  0.640456     0.300183\n",
       "TDSwithT       -0.554993     0.578923     0.640456  1.000000     0.613692\n",
       "Water_Level    -0.446864     0.300710     0.300183  0.613692     1.000000"
      ]
     },
     "execution_count": 31,
     "metadata": {},
     "output_type": "execute_result"
    }
   ],
   "source": [
    "df_oneday.corr()"
   ]
  },
  {
   "cell_type": "code",
   "execution_count": null,
   "metadata": {},
   "outputs": [],
   "source": []
  },
  {
   "cell_type": "code",
   "execution_count": null,
   "metadata": {},
   "outputs": [],
   "source": []
  }
 ],
 "metadata": {
  "kernelspec": {
   "display_name": "Python 3",
   "language": "python",
   "name": "python3"
  },
  "language_info": {
   "codemirror_mode": {
    "name": "ipython",
    "version": 3
   },
   "file_extension": ".py",
   "mimetype": "text/x-python",
   "name": "python",
   "nbconvert_exporter": "python",
   "pygments_lexer": "ipython3",
   "version": "3.8.3"
  }
 },
 "nbformat": 4,
 "nbformat_minor": 4
}
