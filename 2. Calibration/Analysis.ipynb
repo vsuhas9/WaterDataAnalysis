{
 "cells": [
  {
   "cell_type": "markdown",
   "metadata": {},
   "source": [
    "# Analysis of Water Quality Data"
   ]
  },
  {
   "cell_type": "markdown",
   "metadata": {},
   "source": [
    "## Step-1: Installing Packages"
   ]
  },
  {
   "cell_type": "code",
   "execution_count": 2,
   "metadata": {},
   "outputs": [
    {
     "name": "stdout",
     "output_type": "stream",
     "text": [
      "Requirement already satisfied: pandas in c:\\users\\suhas\\anaconda3\\lib\\site-packages (1.0.5)\n",
      "Requirement already satisfied: numpy>=1.13.3 in c:\\users\\suhas\\anaconda3\\lib\\site-packages (from pandas) (1.18.5)\n",
      "Requirement already satisfied: pytz>=2017.2 in c:\\users\\suhas\\anaconda3\\lib\\site-packages (from pandas) (2020.1)\n",
      "Requirement already satisfied: python-dateutil>=2.6.1 in c:\\users\\suhas\\anaconda3\\lib\\site-packages (from pandas) (2.8.1)\n",
      "Requirement already satisfied: six>=1.5 in c:\\users\\suhas\\anaconda3\\lib\\site-packages (from python-dateutil>=2.6.1->pandas) (1.15.0)\n",
      "Note: you may need to restart the kernel to use updated packages.\n"
     ]
    }
   ],
   "source": [
    "pip install pandas"
   ]
  },
  {
   "cell_type": "code",
   "execution_count": 3,
   "metadata": {},
   "outputs": [
    {
     "name": "stdout",
     "output_type": "stream",
     "text": [
      "Requirement already satisfied: matplotlib in c:\\users\\suhas\\anaconda3\\lib\\site-packages (3.2.2)\n",
      "Requirement already satisfied: cycler>=0.10 in c:\\users\\suhas\\anaconda3\\lib\\site-packages (from matplotlib) (0.10.0)\n",
      "Requirement already satisfied: pyparsing!=2.0.4,!=2.1.2,!=2.1.6,>=2.0.1 in c:\\users\\suhas\\anaconda3\\lib\\site-packages (from matplotlib) (2.4.7)\n",
      "Requirement already satisfied: kiwisolver>=1.0.1 in c:\\users\\suhas\\anaconda3\\lib\\site-packages (from matplotlib) (1.2.0)\n",
      "Requirement already satisfied: python-dateutil>=2.1 in c:\\users\\suhas\\anaconda3\\lib\\site-packages (from matplotlib) (2.8.1)\n",
      "Requirement already satisfied: numpy>=1.11 in c:\\users\\suhas\\anaconda3\\lib\\site-packages (from matplotlib) (1.18.5)\n",
      "Requirement already satisfied: six in c:\\users\\suhas\\anaconda3\\lib\\site-packages (from cycler>=0.10->matplotlib) (1.15.0)\n",
      "Note: you may need to restart the kernel to use updated packages.\n"
     ]
    }
   ],
   "source": [
    "pip install matplotlib"
   ]
  },
  {
   "cell_type": "code",
   "execution_count": 4,
   "metadata": {},
   "outputs": [
    {
     "name": "stdout",
     "output_type": "stream",
     "text": [
      "Requirement already satisfied: numpy in c:\\users\\suhas\\anaconda3\\lib\\site-packages (1.18.5)\n",
      "Note: you may need to restart the kernel to use updated packages.\n"
     ]
    }
   ],
   "source": [
    "pip install numpy"
   ]
  },
  {
   "cell_type": "code",
   "execution_count": 5,
   "metadata": {},
   "outputs": [
    {
     "name": "stdout",
     "output_type": "stream",
     "text": [
      "Requirement already satisfied: seaborn in c:\\users\\suhas\\anaconda3\\lib\\site-packages (0.10.1)\n",
      "Requirement already satisfied: numpy>=1.13.3 in c:\\users\\suhas\\anaconda3\\lib\\site-packages (from seaborn) (1.18.5)\n",
      "Requirement already satisfied: matplotlib>=2.1.2 in c:\\users\\suhas\\anaconda3\\lib\\site-packages (from seaborn) (3.2.2)\n",
      "Requirement already satisfied: pandas>=0.22.0 in c:\\users\\suhas\\anaconda3\\lib\\site-packages (from seaborn) (1.0.5)\n",
      "Requirement already satisfied: scipy>=1.0.1 in c:\\users\\suhas\\anaconda3\\lib\\site-packages (from seaborn) (1.5.0)\n",
      "Requirement already satisfied: kiwisolver>=1.0.1 in c:\\users\\suhas\\anaconda3\\lib\\site-packages (from matplotlib>=2.1.2->seaborn) (1.2.0)\n",
      "Requirement already satisfied: python-dateutil>=2.1 in c:\\users\\suhas\\anaconda3\\lib\\site-packages (from matplotlib>=2.1.2->seaborn) (2.8.1)\n",
      "Requirement already satisfied: cycler>=0.10 in c:\\users\\suhas\\anaconda3\\lib\\site-packages (from matplotlib>=2.1.2->seaborn) (0.10.0)\n",
      "Requirement already satisfied: pyparsing!=2.0.4,!=2.1.2,!=2.1.6,>=2.0.1 in c:\\users\\suhas\\anaconda3\\lib\\site-packages (from matplotlib>=2.1.2->seaborn) (2.4.7)\n",
      "Requirement already satisfied: pytz>=2017.2 in c:\\users\\suhas\\anaconda3\\lib\\site-packages (from pandas>=0.22.0->seaborn) (2020.1)\n",
      "Requirement already satisfied: six>=1.5 in c:\\users\\suhas\\anaconda3\\lib\\site-packages (from python-dateutil>=2.1->matplotlib>=2.1.2->seaborn) (1.15.0)\n",
      "Note: you may need to restart the kernel to use updated packages.\n"
     ]
    }
   ],
   "source": [
    "pip install seaborn"
   ]
  },
  {
   "cell_type": "code",
   "execution_count": 6,
   "metadata": {},
   "outputs": [
    {
     "name": "stdout",
     "output_type": "stream",
     "text": [
      "Requirement already satisfied: sklearn in c:\\users\\suhas\\anaconda3\\lib\\site-packages (0.0)\n",
      "Requirement already satisfied: scikit-learn in c:\\users\\suhas\\anaconda3\\lib\\site-packages (from sklearn) (0.23.1)\n",
      "Requirement already satisfied: numpy>=1.13.3 in c:\\users\\suhas\\anaconda3\\lib\\site-packages (from scikit-learn->sklearn) (1.18.5)\n",
      "Requirement already satisfied: threadpoolctl>=2.0.0 in c:\\users\\suhas\\anaconda3\\lib\\site-packages (from scikit-learn->sklearn) (2.1.0)\n",
      "Requirement already satisfied: scipy>=0.19.1 in c:\\users\\suhas\\anaconda3\\lib\\site-packages (from scikit-learn->sklearn) (1.5.0)\n",
      "Requirement already satisfied: joblib>=0.11 in c:\\users\\suhas\\anaconda3\\lib\\site-packages (from scikit-learn->sklearn) (0.16.0)\n",
      "Note: you may need to restart the kernel to use updated packages.\n"
     ]
    }
   ],
   "source": [
    "pip install sklearn"
   ]
  },
  {
   "cell_type": "markdown",
   "metadata": {},
   "source": [
    "## Step-2: Importing the Packages"
   ]
  },
  {
   "cell_type": "code",
   "execution_count": 7,
   "metadata": {},
   "outputs": [],
   "source": [
    "import pandas as pd\n",
    "import matplotlib.pyplot as plt\n",
    "import seaborn as sns\n",
    "import numpy as np\n",
    "from sklearn.linear_model import LinearRegression\n",
    "from sklearn.preprocessing import PolynomialFeatures\n",
    "from sklearn.metrics import mean_squared_error,r2_score\n",
    "from sklearn.model_selection import train_test_split"
   ]
  },
  {
   "cell_type": "markdown",
   "metadata": {},
   "source": [
    "## Step-3: Data Acquisition and Basic Data Insights"
   ]
  },
  {
   "cell_type": "code",
   "execution_count": 8,
   "metadata": {},
   "outputs": [],
   "source": [
    "path=\"TDSV2.csv\""
   ]
  },
  {
   "cell_type": "code",
   "execution_count": 9,
   "metadata": {},
   "outputs": [
    {
     "data": {
      "text/html": [
       "<div>\n",
       "<style scoped>\n",
       "    .dataframe tbody tr th:only-of-type {\n",
       "        vertical-align: middle;\n",
       "    }\n",
       "\n",
       "    .dataframe tbody tr th {\n",
       "        vertical-align: top;\n",
       "    }\n",
       "\n",
       "    .dataframe thead th {\n",
       "        text-align: right;\n",
       "    }\n",
       "</style>\n",
       "<table border=\"1\" class=\"dataframe\">\n",
       "  <thead>\n",
       "    <tr style=\"text-align: right;\">\n",
       "      <th></th>\n",
       "      <th>S. NO</th>\n",
       "      <th>Temperature</th>\n",
       "      <th>AverageVoltage</th>\n",
       "      <th>CompensatedVoltage</th>\n",
       "      <th>TDSwithoutComp</th>\n",
       "      <th>TDSSensor</th>\n",
       "      <th>Meter-1 (Sachin Sir)</th>\n",
       "      <th>Meter-2 (Aftab Sir)</th>\n",
       "      <th>TDSMeter</th>\n",
       "      <th>RO-1(SPCRC ,TDS= 130)</th>\n",
       "      <th>Tap Water(324)</th>\n",
       "      <th>RO-2(Himalaya 70)</th>\n",
       "      <th>Distilled</th>\n",
       "      <th>Theoritical Value</th>\n",
       "    </tr>\n",
       "  </thead>\n",
       "  <tbody>\n",
       "    <tr>\n",
       "      <th>0</th>\n",
       "      <td>1</td>\n",
       "      <td>50</td>\n",
       "      <td>0.201465</td>\n",
       "      <td>0.134310</td>\n",
       "      <td>81.720090</td>\n",
       "      <td>55.0</td>\n",
       "      <td>81.0</td>\n",
       "      <td>94.0</td>\n",
       "      <td>87.5</td>\n",
       "      <td>NaN</td>\n",
       "      <td>NaN</td>\n",
       "      <td>1.0</td>\n",
       "      <td>0.0</td>\n",
       "      <td>70.0</td>\n",
       "    </tr>\n",
       "    <tr>\n",
       "      <th>1</th>\n",
       "      <td>2</td>\n",
       "      <td>48</td>\n",
       "      <td>0.191795</td>\n",
       "      <td>0.131366</td>\n",
       "      <td>77.986266</td>\n",
       "      <td>54.0</td>\n",
       "      <td>91.0</td>\n",
       "      <td>91.0</td>\n",
       "      <td>91.0</td>\n",
       "      <td>NaN</td>\n",
       "      <td>NaN</td>\n",
       "      <td>1.0</td>\n",
       "      <td>0.0</td>\n",
       "      <td>70.0</td>\n",
       "    </tr>\n",
       "    <tr>\n",
       "      <th>2</th>\n",
       "      <td>3</td>\n",
       "      <td>45</td>\n",
       "      <td>0.178095</td>\n",
       "      <td>0.127211</td>\n",
       "      <td>72.667605</td>\n",
       "      <td>53.0</td>\n",
       "      <td>92.0</td>\n",
       "      <td>94.0</td>\n",
       "      <td>93.0</td>\n",
       "      <td>NaN</td>\n",
       "      <td>NaN</td>\n",
       "      <td>1.0</td>\n",
       "      <td>0.0</td>\n",
       "      <td>70.0</td>\n",
       "    </tr>\n",
       "    <tr>\n",
       "      <th>3</th>\n",
       "      <td>4</td>\n",
       "      <td>42</td>\n",
       "      <td>0.163597</td>\n",
       "      <td>0.122087</td>\n",
       "      <td>67.001390</td>\n",
       "      <td>51.0</td>\n",
       "      <td>87.0</td>\n",
       "      <td>89.0</td>\n",
       "      <td>88.0</td>\n",
       "      <td>NaN</td>\n",
       "      <td>NaN</td>\n",
       "      <td>1.0</td>\n",
       "      <td>0.0</td>\n",
       "      <td>70.0</td>\n",
       "    </tr>\n",
       "    <tr>\n",
       "      <th>4</th>\n",
       "      <td>5</td>\n",
       "      <td>40</td>\n",
       "      <td>0.155311</td>\n",
       "      <td>0.119470</td>\n",
       "      <td>63.745103</td>\n",
       "      <td>50.0</td>\n",
       "      <td>88.0</td>\n",
       "      <td>89.0</td>\n",
       "      <td>88.5</td>\n",
       "      <td>NaN</td>\n",
       "      <td>NaN</td>\n",
       "      <td>1.0</td>\n",
       "      <td>0.0</td>\n",
       "      <td>70.0</td>\n",
       "    </tr>\n",
       "  </tbody>\n",
       "</table>\n",
       "</div>"
      ],
      "text/plain": [
       "   S. NO  Temperature  AverageVoltage  CompensatedVoltage  TDSwithoutComp  \\\n",
       "0      1           50        0.201465            0.134310       81.720090   \n",
       "1      2           48        0.191795            0.131366       77.986266   \n",
       "2      3           45        0.178095            0.127211       72.667605   \n",
       "3      4           42        0.163597            0.122087       67.001390   \n",
       "4      5           40        0.155311            0.119470       63.745103   \n",
       "\n",
       "   TDSSensor  Meter-1 (Sachin Sir)  Meter-2 (Aftab Sir)  TDSMeter  \\\n",
       "0       55.0                  81.0                 94.0      87.5   \n",
       "1       54.0                  91.0                 91.0      91.0   \n",
       "2       53.0                  92.0                 94.0      93.0   \n",
       "3       51.0                  87.0                 89.0      88.0   \n",
       "4       50.0                  88.0                 89.0      88.5   \n",
       "\n",
       "   RO-1(SPCRC ,TDS= 130)  Tap Water(324)  RO-2(Himalaya 70)  Distilled  \\\n",
       "0                    NaN             NaN                1.0        0.0   \n",
       "1                    NaN             NaN                1.0        0.0   \n",
       "2                    NaN             NaN                1.0        0.0   \n",
       "3                    NaN             NaN                1.0        0.0   \n",
       "4                    NaN             NaN                1.0        0.0   \n",
       "\n",
       "   Theoritical Value  \n",
       "0               70.0  \n",
       "1               70.0  \n",
       "2               70.0  \n",
       "3               70.0  \n",
       "4               70.0  "
      ]
     },
     "execution_count": 9,
     "metadata": {},
     "output_type": "execute_result"
    }
   ],
   "source": [
    "df=pd.read_csv(path)\n",
    "df.head()"
   ]
  },
  {
   "cell_type": "code",
   "execution_count": 10,
   "metadata": {},
   "outputs": [
    {
     "data": {
      "text/plain": [
       "S. NO                      int64\n",
       "Temperature                int64\n",
       "AverageVoltage           float64\n",
       "CompensatedVoltage       float64\n",
       "TDSwithoutComp           float64\n",
       "TDSSensor                float64\n",
       "Meter-1 (Sachin Sir)     float64\n",
       "Meter-2 (Aftab Sir)      float64\n",
       "TDSMeter                 float64\n",
       "RO-1(SPCRC ,TDS= 130)    float64\n",
       "Tap Water(324)           float64\n",
       "RO-2(Himalaya 70)        float64\n",
       "Distilled                float64\n",
       "Theoritical Value        float64\n",
       "dtype: object"
      ]
     },
     "execution_count": 10,
     "metadata": {},
     "output_type": "execute_result"
    }
   ],
   "source": [
    "df.dtypes"
   ]
  },
  {
   "cell_type": "code",
   "execution_count": 11,
   "metadata": {},
   "outputs": [
    {
     "data": {
      "text/html": [
       "<div>\n",
       "<style scoped>\n",
       "    .dataframe tbody tr th:only-of-type {\n",
       "        vertical-align: middle;\n",
       "    }\n",
       "\n",
       "    .dataframe tbody tr th {\n",
       "        vertical-align: top;\n",
       "    }\n",
       "\n",
       "    .dataframe thead th {\n",
       "        text-align: right;\n",
       "    }\n",
       "</style>\n",
       "<table border=\"1\" class=\"dataframe\">\n",
       "  <thead>\n",
       "    <tr style=\"text-align: right;\">\n",
       "      <th></th>\n",
       "      <th>S. NO</th>\n",
       "      <th>Temperature</th>\n",
       "      <th>AverageVoltage</th>\n",
       "      <th>CompensatedVoltage</th>\n",
       "      <th>TDSwithoutComp</th>\n",
       "      <th>TDSSensor</th>\n",
       "      <th>Meter-1 (Sachin Sir)</th>\n",
       "      <th>Meter-2 (Aftab Sir)</th>\n",
       "      <th>TDSMeter</th>\n",
       "      <th>RO-1(SPCRC ,TDS= 130)</th>\n",
       "      <th>Tap Water(324)</th>\n",
       "      <th>RO-2(Himalaya 70)</th>\n",
       "      <th>Distilled</th>\n",
       "      <th>Theoritical Value</th>\n",
       "    </tr>\n",
       "  </thead>\n",
       "  <tbody>\n",
       "    <tr>\n",
       "      <th>count</th>\n",
       "      <td>308.000000</td>\n",
       "      <td>308.000000</td>\n",
       "      <td>209.000000</td>\n",
       "      <td>297.000000</td>\n",
       "      <td>2.970000e+02</td>\n",
       "      <td>208.000000</td>\n",
       "      <td>209.000000</td>\n",
       "      <td>210.000000</td>\n",
       "      <td>308.000000</td>\n",
       "      <td>198.000000</td>\n",
       "      <td>132.000000</td>\n",
       "      <td>176.000000</td>\n",
       "      <td>110.000000</td>\n",
       "      <td>308.000000</td>\n",
       "    </tr>\n",
       "    <tr>\n",
       "      <th>mean</th>\n",
       "      <td>160.678571</td>\n",
       "      <td>37.545455</td>\n",
       "      <td>979.730574</td>\n",
       "      <td>650.377830</td>\n",
       "      <td>1.926256e+15</td>\n",
       "      <td>105.750000</td>\n",
       "      <td>132.100478</td>\n",
       "      <td>128.619048</td>\n",
       "      <td>88.667208</td>\n",
       "      <td>1.361111</td>\n",
       "      <td>0.895833</td>\n",
       "      <td>1.046875</td>\n",
       "      <td>1.450000</td>\n",
       "      <td>128.738546</td>\n",
       "    </tr>\n",
       "    <tr>\n",
       "      <th>std</th>\n",
       "      <td>98.718947</td>\n",
       "      <td>7.925624</td>\n",
       "      <td>14158.609357</td>\n",
       "      <td>11204.951042</td>\n",
       "      <td>3.319649e+16</td>\n",
       "      <td>113.256858</td>\n",
       "      <td>116.094435</td>\n",
       "      <td>108.251999</td>\n",
       "      <td>110.490978</td>\n",
       "      <td>0.904530</td>\n",
       "      <td>0.239357</td>\n",
       "      <td>0.864955</td>\n",
       "      <td>1.383802</td>\n",
       "      <td>89.156105</td>\n",
       "    </tr>\n",
       "    <tr>\n",
       "      <th>min</th>\n",
       "      <td>1.000000</td>\n",
       "      <td>25.000000</td>\n",
       "      <td>0.000000</td>\n",
       "      <td>0.000000</td>\n",
       "      <td>0.000000e+00</td>\n",
       "      <td>0.000000</td>\n",
       "      <td>19.000000</td>\n",
       "      <td>12.000000</td>\n",
       "      <td>0.000000</td>\n",
       "      <td>0.000000</td>\n",
       "      <td>0.250000</td>\n",
       "      <td>0.000000</td>\n",
       "      <td>0.000000</td>\n",
       "      <td>3.333333</td>\n",
       "    </tr>\n",
       "    <tr>\n",
       "      <th>25%</th>\n",
       "      <td>77.750000</td>\n",
       "      <td>30.000000</td>\n",
       "      <td>0.038681</td>\n",
       "      <td>0.000000</td>\n",
       "      <td>0.000000e+00</td>\n",
       "      <td>12.000000</td>\n",
       "      <td>43.000000</td>\n",
       "      <td>43.000000</td>\n",
       "      <td>0.000000</td>\n",
       "      <td>1.000000</td>\n",
       "      <td>1.000000</td>\n",
       "      <td>0.875000</td>\n",
       "      <td>0.500000</td>\n",
       "      <td>45.000000</td>\n",
       "    </tr>\n",
       "    <tr>\n",
       "      <th>50%</th>\n",
       "      <td>154.500000</td>\n",
       "      <td>38.000000</td>\n",
       "      <td>0.220000</td>\n",
       "      <td>0.037735</td>\n",
       "      <td>2.177881e+01</td>\n",
       "      <td>80.500000</td>\n",
       "      <td>95.000000</td>\n",
       "      <td>97.500000</td>\n",
       "      <td>42.750000</td>\n",
       "      <td>1.000000</td>\n",
       "      <td>1.000000</td>\n",
       "      <td>1.000000</td>\n",
       "      <td>1.125000</td>\n",
       "      <td>113.266667</td>\n",
       "    </tr>\n",
       "    <tr>\n",
       "      <th>75%</th>\n",
       "      <td>232.250000</td>\n",
       "      <td>45.000000</td>\n",
       "      <td>0.448086</td>\n",
       "      <td>0.275656</td>\n",
       "      <td>1.300826e+02</td>\n",
       "      <td>129.250000</td>\n",
       "      <td>154.000000</td>\n",
       "      <td>142.250000</td>\n",
       "      <td>121.000000</td>\n",
       "      <td>1.750000</td>\n",
       "      <td>1.000000</td>\n",
       "      <td>1.000000</td>\n",
       "      <td>1.750000</td>\n",
       "      <td>201.681818</td>\n",
       "    </tr>\n",
       "    <tr>\n",
       "      <th>max</th>\n",
       "      <td>353.000000</td>\n",
       "      <td>50.000000</td>\n",
       "      <td>204689.000000</td>\n",
       "      <td>193102.830200</td>\n",
       "      <td>5.720980e+17</td>\n",
       "      <td>364.000000</td>\n",
       "      <td>461.000000</td>\n",
       "      <td>428.000000</td>\n",
       "      <td>444.500000</td>\n",
       "      <td>3.000000</td>\n",
       "      <td>1.000000</td>\n",
       "      <td>4.000000</td>\n",
       "      <td>5.000000</td>\n",
       "      <td>324.000000</td>\n",
       "    </tr>\n",
       "  </tbody>\n",
       "</table>\n",
       "</div>"
      ],
      "text/plain": [
       "            S. NO  Temperature  AverageVoltage  CompensatedVoltage  \\\n",
       "count  308.000000   308.000000      209.000000          297.000000   \n",
       "mean   160.678571    37.545455      979.730574          650.377830   \n",
       "std     98.718947     7.925624    14158.609357        11204.951042   \n",
       "min      1.000000    25.000000        0.000000            0.000000   \n",
       "25%     77.750000    30.000000        0.038681            0.000000   \n",
       "50%    154.500000    38.000000        0.220000            0.037735   \n",
       "75%    232.250000    45.000000        0.448086            0.275656   \n",
       "max    353.000000    50.000000   204689.000000       193102.830200   \n",
       "\n",
       "       TDSwithoutComp   TDSSensor  Meter-1 (Sachin Sir)  Meter-2 (Aftab Sir)  \\\n",
       "count    2.970000e+02  208.000000            209.000000           210.000000   \n",
       "mean     1.926256e+15  105.750000            132.100478           128.619048   \n",
       "std      3.319649e+16  113.256858            116.094435           108.251999   \n",
       "min      0.000000e+00    0.000000             19.000000            12.000000   \n",
       "25%      0.000000e+00   12.000000             43.000000            43.000000   \n",
       "50%      2.177881e+01   80.500000             95.000000            97.500000   \n",
       "75%      1.300826e+02  129.250000            154.000000           142.250000   \n",
       "max      5.720980e+17  364.000000            461.000000           428.000000   \n",
       "\n",
       "         TDSMeter  RO-1(SPCRC ,TDS= 130)  Tap Water(324)  RO-2(Himalaya 70)  \\\n",
       "count  308.000000             198.000000      132.000000         176.000000   \n",
       "mean    88.667208               1.361111        0.895833           1.046875   \n",
       "std    110.490978               0.904530        0.239357           0.864955   \n",
       "min      0.000000               0.000000        0.250000           0.000000   \n",
       "25%      0.000000               1.000000        1.000000           0.875000   \n",
       "50%     42.750000               1.000000        1.000000           1.000000   \n",
       "75%    121.000000               1.750000        1.000000           1.000000   \n",
       "max    444.500000               3.000000        1.000000           4.000000   \n",
       "\n",
       "        Distilled  Theoritical Value  \n",
       "count  110.000000         308.000000  \n",
       "mean     1.450000         128.738546  \n",
       "std      1.383802          89.156105  \n",
       "min      0.000000           3.333333  \n",
       "25%      0.500000          45.000000  \n",
       "50%      1.125000         113.266667  \n",
       "75%      1.750000         201.681818  \n",
       "max      5.000000         324.000000  "
      ]
     },
     "execution_count": 11,
     "metadata": {},
     "output_type": "execute_result"
    }
   ],
   "source": [
    "df.describe(include=\"all\")"
   ]
  },
  {
   "cell_type": "markdown",
   "metadata": {},
   "source": [
    "## Step-4: Data Wrangling"
   ]
  },
  {
   "cell_type": "code",
   "execution_count": 12,
   "metadata": {},
   "outputs": [],
   "source": [
    "df=df.head(32)"
   ]
  },
  {
   "cell_type": "code",
   "execution_count": 13,
   "metadata": {},
   "outputs": [],
   "source": [
    "df[[\"Temperature\"]]=df[[\"Temperature\"]]/df[[\"Temperature\"]].max()"
   ]
  },
  {
   "cell_type": "code",
   "execution_count": 14,
   "metadata": {},
   "outputs": [
    {
     "data": {
      "text/html": [
       "<div>\n",
       "<style scoped>\n",
       "    .dataframe tbody tr th:only-of-type {\n",
       "        vertical-align: middle;\n",
       "    }\n",
       "\n",
       "    .dataframe tbody tr th {\n",
       "        vertical-align: top;\n",
       "    }\n",
       "\n",
       "    .dataframe thead th {\n",
       "        text-align: right;\n",
       "    }\n",
       "</style>\n",
       "<table border=\"1\" class=\"dataframe\">\n",
       "  <thead>\n",
       "    <tr style=\"text-align: right;\">\n",
       "      <th></th>\n",
       "      <th>S. NO</th>\n",
       "      <th>Temperature</th>\n",
       "      <th>AverageVoltage</th>\n",
       "      <th>CompensatedVoltage</th>\n",
       "      <th>TDSwithoutComp</th>\n",
       "      <th>TDSSensor</th>\n",
       "      <th>Meter-1 (Sachin Sir)</th>\n",
       "      <th>Meter-2 (Aftab Sir)</th>\n",
       "      <th>TDSMeter</th>\n",
       "      <th>RO-1(SPCRC ,TDS= 130)</th>\n",
       "      <th>Tap Water(324)</th>\n",
       "      <th>RO-2(Himalaya 70)</th>\n",
       "      <th>Distilled</th>\n",
       "      <th>Theoritical Value</th>\n",
       "    </tr>\n",
       "  </thead>\n",
       "  <tbody>\n",
       "    <tr>\n",
       "      <th>0</th>\n",
       "      <td>1</td>\n",
       "      <td>1.00</td>\n",
       "      <td>0.201465</td>\n",
       "      <td>0.134310</td>\n",
       "      <td>81.720090</td>\n",
       "      <td>55.0</td>\n",
       "      <td>81.0</td>\n",
       "      <td>94.0</td>\n",
       "      <td>87.5</td>\n",
       "      <td>NaN</td>\n",
       "      <td>NaN</td>\n",
       "      <td>1.0</td>\n",
       "      <td>0.0</td>\n",
       "      <td>70.0</td>\n",
       "    </tr>\n",
       "    <tr>\n",
       "      <th>1</th>\n",
       "      <td>2</td>\n",
       "      <td>0.96</td>\n",
       "      <td>0.191795</td>\n",
       "      <td>0.131366</td>\n",
       "      <td>77.986266</td>\n",
       "      <td>54.0</td>\n",
       "      <td>91.0</td>\n",
       "      <td>91.0</td>\n",
       "      <td>91.0</td>\n",
       "      <td>NaN</td>\n",
       "      <td>NaN</td>\n",
       "      <td>1.0</td>\n",
       "      <td>0.0</td>\n",
       "      <td>70.0</td>\n",
       "    </tr>\n",
       "    <tr>\n",
       "      <th>2</th>\n",
       "      <td>3</td>\n",
       "      <td>0.90</td>\n",
       "      <td>0.178095</td>\n",
       "      <td>0.127211</td>\n",
       "      <td>72.667605</td>\n",
       "      <td>53.0</td>\n",
       "      <td>92.0</td>\n",
       "      <td>94.0</td>\n",
       "      <td>93.0</td>\n",
       "      <td>NaN</td>\n",
       "      <td>NaN</td>\n",
       "      <td>1.0</td>\n",
       "      <td>0.0</td>\n",
       "      <td>70.0</td>\n",
       "    </tr>\n",
       "    <tr>\n",
       "      <th>3</th>\n",
       "      <td>4</td>\n",
       "      <td>0.84</td>\n",
       "      <td>0.163597</td>\n",
       "      <td>0.122087</td>\n",
       "      <td>67.001390</td>\n",
       "      <td>51.0</td>\n",
       "      <td>87.0</td>\n",
       "      <td>89.0</td>\n",
       "      <td>88.0</td>\n",
       "      <td>NaN</td>\n",
       "      <td>NaN</td>\n",
       "      <td>1.0</td>\n",
       "      <td>0.0</td>\n",
       "      <td>70.0</td>\n",
       "    </tr>\n",
       "    <tr>\n",
       "      <th>4</th>\n",
       "      <td>5</td>\n",
       "      <td>0.80</td>\n",
       "      <td>0.155311</td>\n",
       "      <td>0.119470</td>\n",
       "      <td>63.745103</td>\n",
       "      <td>50.0</td>\n",
       "      <td>88.0</td>\n",
       "      <td>89.0</td>\n",
       "      <td>88.5</td>\n",
       "      <td>NaN</td>\n",
       "      <td>NaN</td>\n",
       "      <td>1.0</td>\n",
       "      <td>0.0</td>\n",
       "      <td>70.0</td>\n",
       "    </tr>\n",
       "  </tbody>\n",
       "</table>\n",
       "</div>"
      ],
      "text/plain": [
       "   S. NO  Temperature  AverageVoltage  CompensatedVoltage  TDSwithoutComp  \\\n",
       "0      1         1.00        0.201465            0.134310       81.720090   \n",
       "1      2         0.96        0.191795            0.131366       77.986266   \n",
       "2      3         0.90        0.178095            0.127211       72.667605   \n",
       "3      4         0.84        0.163597            0.122087       67.001390   \n",
       "4      5         0.80        0.155311            0.119470       63.745103   \n",
       "\n",
       "   TDSSensor  Meter-1 (Sachin Sir)  Meter-2 (Aftab Sir)  TDSMeter  \\\n",
       "0       55.0                  81.0                 94.0      87.5   \n",
       "1       54.0                  91.0                 91.0      91.0   \n",
       "2       53.0                  92.0                 94.0      93.0   \n",
       "3       51.0                  87.0                 89.0      88.0   \n",
       "4       50.0                  88.0                 89.0      88.5   \n",
       "\n",
       "   RO-1(SPCRC ,TDS= 130)  Tap Water(324)  RO-2(Himalaya 70)  Distilled  \\\n",
       "0                    NaN             NaN                1.0        0.0   \n",
       "1                    NaN             NaN                1.0        0.0   \n",
       "2                    NaN             NaN                1.0        0.0   \n",
       "3                    NaN             NaN                1.0        0.0   \n",
       "4                    NaN             NaN                1.0        0.0   \n",
       "\n",
       "   Theoritical Value  \n",
       "0               70.0  \n",
       "1               70.0  \n",
       "2               70.0  \n",
       "3               70.0  \n",
       "4               70.0  "
      ]
     },
     "execution_count": 14,
     "metadata": {},
     "output_type": "execute_result"
    }
   ],
   "source": [
    "df.head()"
   ]
  },
  {
   "cell_type": "code",
   "execution_count": 63,
   "metadata": {},
   "outputs": [],
   "source": [
    "#Z=df[[\"Temperature\",\"TDSSensor\"]]\n",
    "Z=df[[\"TDSSensor\"]]\n"
   ]
  },
  {
   "cell_type": "code",
   "execution_count": 64,
   "metadata": {},
   "outputs": [],
   "source": [
    "Y=df[[\"TDSMeter\"]]"
   ]
  },
  {
   "cell_type": "code",
   "execution_count": 65,
   "metadata": {},
   "outputs": [],
   "source": [
    "Z_train, Z_test,Y_train, Y_test= train_test_split(Z,Y,test_size=0.2,random_state=0)\n",
    "#df1=df.head(11)\n",
    "#df2=df.tail(11)\n",
    "#Z_train=df1[[\"Temperature\",\"AverageVoltage\"]]\n",
    "#Z_test=df2[[\"Temperature\",\"AverageVoltage\"]]\n",
    "#Y_train=df1[[\"TDS _Meter\"]]\n",
    "#Y_test=df2[[\"TDS _Meter\"]]"
   ]
  },
  {
   "cell_type": "code",
   "execution_count": null,
   "metadata": {},
   "outputs": [],
   "source": []
  },
  {
   "cell_type": "markdown",
   "metadata": {},
   "source": [
    "## Step-5: Multiple Linear Regression"
   ]
  },
  {
   "cell_type": "code",
   "execution_count": 66,
   "metadata": {},
   "outputs": [],
   "source": [
    "lm=LinearRegression()"
   ]
  },
  {
   "cell_type": "code",
   "execution_count": 67,
   "metadata": {},
   "outputs": [
    {
     "data": {
      "text/plain": [
       "LinearRegression()"
      ]
     },
     "execution_count": 67,
     "metadata": {},
     "output_type": "execute_result"
    }
   ],
   "source": [
    "lm.fit(Z_train,Y_train)"
   ]
  },
  {
   "cell_type": "code",
   "execution_count": 68,
   "metadata": {},
   "outputs": [],
   "source": [
    "Yhat=lm.predict(Z_test)"
   ]
  },
  {
   "cell_type": "code",
   "execution_count": 69,
   "metadata": {},
   "outputs": [
    {
     "data": {
      "text/plain": [
       "array([[81.64952058],\n",
       "       [66.54311153],\n",
       "       [79.13178574],\n",
       "       [89.20272511],\n",
       "       [72.83744863],\n",
       "       [76.6140509 ],\n",
       "       [53.95443732]])"
      ]
     },
     "execution_count": 69,
     "metadata": {},
     "output_type": "execute_result"
    }
   ],
   "source": [
    "Yhat"
   ]
  },
  {
   "cell_type": "markdown",
   "metadata": {},
   "source": [
    "### Distribution Plot"
   ]
  },
  {
   "cell_type": "code",
   "execution_count": 70,
   "metadata": {
    "scrolled": true
   },
   "outputs": [
    {
     "data": {
      "text/plain": [
       "<matplotlib.axes._subplots.AxesSubplot at 0x15603f65b20>"
      ]
     },
     "execution_count": 70,
     "metadata": {},
     "output_type": "execute_result"
    },
    {
     "data": {
      "image/png": "[encoded data removed]",
      "text/plain": [
       "<Figure size 432x288 with 1 Axes>"
      ]
     },
     "metadata": {
      "needs_background": "light"
     },
     "output_type": "display_data"
    }
   ],
   "source": [
    "ax1=sns.distplot(Y_test,hist=False,color=\"r\",label=\"Actual Value\")\n",
    "sns.distplot(Yhat,hist=False,color=\"b\",label=\"Predicted Value\",ax=ax1)\n"
   ]
  },
  {
   "cell_type": "code",
   "execution_count": 71,
   "metadata": {},
   "outputs": [
    {
     "data": {
      "text/plain": [
       "0.8496341552702822"
      ]
     },
     "execution_count": 71,
     "metadata": {},
     "output_type": "execute_result"
    }
   ],
   "source": [
    "r2_score(Y_test,Yhat)"
   ]
  },
  {
   "cell_type": "code",
   "execution_count": 72,
   "metadata": {},
   "outputs": [
    {
     "data": {
      "text/plain": [
       "14.424380676572211"
      ]
     },
     "execution_count": 72,
     "metadata": {},
     "output_type": "execute_result"
    }
   ],
   "source": [
    "mse=mean_squared_error(Y_test,Yhat)\n",
    "mse"
   ]
  },
  {
   "cell_type": "code",
   "execution_count": 73,
   "metadata": {},
   "outputs": [
    {
     "data": {
      "text/plain": [
       "array([[1.25886742]])"
      ]
     },
     "execution_count": 73,
     "metadata": {},
     "output_type": "execute_result"
    }
   ],
   "source": [
    "lm.coef_"
   ]
  },
  {
   "cell_type": "code",
   "execution_count": 74,
   "metadata": {},
   "outputs": [
    {
     "data": {
      "text/plain": [
       "array([22.48275178])"
      ]
     },
     "execution_count": 74,
     "metadata": {},
     "output_type": "execute_result"
    }
   ],
   "source": [
    "lm.intercept_"
   ]
  },
  {
   "cell_type": "markdown",
   "metadata": {},
   "source": [
    "## Step-6: Polynomial  Linear Regression"
   ]
  },
  {
   "cell_type": "markdown",
   "metadata": {},
   "source": [
    "### A. Degree=2:"
   ]
  },
  {
   "cell_type": "code",
   "execution_count": 75,
   "metadata": {},
   "outputs": [
    {
     "data": {
      "text/plain": [
       "<matplotlib.axes._subplots.AxesSubplot at 0x15603fdc580>"
      ]
     },
     "execution_count": 75,
     "metadata": {},
     "output_type": "execute_result"
    },
    {
     "data": {
      "image/png": "[encoded data removed]",
      "text/plain": [
       "<Figure size 432x288 with 1 Axes>"
      ]
     },
     "metadata": {
      "needs_background": "light"
     },
     "output_type": "display_data"
    }
   ],
   "source": [
    "pr=PolynomialFeatures(degree=2,include_bias=False)\n",
    "X_poly=pr.fit_transform(Z_train)\n",
    "lm1=LinearRegression()\n",
    "lm1.fit(X_poly,Y_train)\n",
    "X_test=pr.fit_transform(Z_test)\n",
    "Yhat1=lm1.predict(X_test)\n",
    "ax1=sns.distplot(Y_test,hist=False,color=\"r\",label=\"Actual Value\")\n",
    "sns.distplot(Yhat1,hist=False,color=\"b\",label=\"Predicted Value\",ax=ax1)\n"
   ]
  },
  {
   "cell_type": "code",
   "execution_count": 76,
   "metadata": {},
   "outputs": [
    {
     "data": {
      "text/plain": [
       "0.9057175870571041"
      ]
     },
     "execution_count": 76,
     "metadata": {},
     "output_type": "execute_result"
    }
   ],
   "source": [
    "r2_score(Y_test,Yhat1)"
   ]
  },
  {
   "cell_type": "code",
   "execution_count": 77,
   "metadata": {},
   "outputs": [
    {
     "data": {
      "text/plain": [
       "array([39.32664283])"
      ]
     },
     "execution_count": 77,
     "metadata": {},
     "output_type": "execute_result"
    }
   ],
   "source": [
    "lm1.intercept_"
   ]
  },
  {
   "cell_type": "code",
   "execution_count": 78,
   "metadata": {},
   "outputs": [
    {
     "data": {
      "text/plain": [
       "array([[0.34422389, 0.01169561]])"
      ]
     },
     "execution_count": 78,
     "metadata": {},
     "output_type": "execute_result"
    }
   ],
   "source": [
    "lm1.coef_"
   ]
  },
  {
   "cell_type": "markdown",
   "metadata": {},
   "source": [
    "### B. Degree=3:"
   ]
  },
  {
   "cell_type": "code",
   "execution_count": 79,
   "metadata": {},
   "outputs": [
    {
     "data": {
      "text/plain": [
       "<matplotlib.axes._subplots.AxesSubplot at 0x15603efe130>"
      ]
     },
     "execution_count": 79,
     "metadata": {},
     "output_type": "execute_result"
    },
    {
     "data": {
      "image/png": "[encoded data removed]",
      "text/plain": [
       "<Figure size 432x288 with 1 Axes>"
      ]
     },
     "metadata": {
      "needs_background": "light"
     },
     "output_type": "display_data"
    }
   ],
   "source": [
    "pr=PolynomialFeatures(degree=3,include_bias=False)\n",
    "X_poly=pr.fit_transform(Z_train)\n",
    "lm2=LinearRegression()\n",
    "lm2.fit(X_poly,Y_train)\n",
    "X_test=pr.fit_transform(Z_test)\n",
    "Yhat2=lm2.predict(X_test)\n",
    "ax1=sns.distplot(Y_test,hist=False,color=\"r\",label=\"Actual Value\")\n",
    "sns.distplot(Yhat2,hist=False,color=\"b\",label=\"Predicted Value\",ax=ax1)\n"
   ]
  },
  {
   "cell_type": "code",
   "execution_count": 80,
   "metadata": {},
   "outputs": [
    {
     "data": {
      "text/plain": [
       "0.8507361364525341"
      ]
     },
     "execution_count": 80,
     "metadata": {},
     "output_type": "execute_result"
    }
   ],
   "source": [
    "r2_score(Y_test,Yhat2)"
   ]
  },
  {
   "cell_type": "code",
   "execution_count": 81,
   "metadata": {},
   "outputs": [
    {
     "data": {
      "text/plain": [
       "array([172.37777099])"
      ]
     },
     "execution_count": 81,
     "metadata": {},
     "output_type": "execute_result"
    }
   ],
   "source": [
    "lm2.intercept_"
   ]
  },
  {
   "cell_type": "code",
   "execution_count": 82,
   "metadata": {},
   "outputs": [
    {
     "data": {
      "text/plain": [
       "array([[-1.05833797e+01,  2.99707428e-01, -2.44585700e-03]])"
      ]
     },
     "execution_count": 82,
     "metadata": {},
     "output_type": "execute_result"
    }
   ],
   "source": [
    "lm2.coef_"
   ]
  },
  {
   "cell_type": "markdown",
   "metadata": {},
   "source": [
    "### Degree=4: "
   ]
  },
  {
   "cell_type": "code",
   "execution_count": 83,
   "metadata": {},
   "outputs": [
    {
     "data": {
      "text/plain": [
       "<matplotlib.axes._subplots.AxesSubplot at 0x1560408cf70>"
      ]
     },
     "execution_count": 83,
     "metadata": {},
     "output_type": "execute_result"
    },
    {
     "data": {
      "image/png": "[encoded data removed]",
      "text/plain": [
       "<Figure size 432x288 with 1 Axes>"
      ]
     },
     "metadata": {
      "needs_background": "light"
     },
     "output_type": "display_data"
    }
   ],
   "source": [
    "pr=PolynomialFeatures(degree=4,include_bias=False)\n",
    "X_poly=pr.fit_transform(Z_train)\n",
    "lm3=LinearRegression()\n",
    "lm3.fit(X_poly,Y_train)\n",
    "X_poly=pr.fit_transform(Z_test)\n",
    "Yhat3=lm3.predict(X_poly)\n",
    "ax1=sns.distplot(Y_test,hist=False,color=\"r\",label=\"Actual Value\")\n",
    "sns.distplot(Yhat3,hist=False,color=\"b\",label=\"Predicted Value\",ax=ax1)\n"
   ]
  },
  {
   "cell_type": "code",
   "execution_count": 84,
   "metadata": {},
   "outputs": [
    {
     "data": {
      "text/plain": [
       "0.8592998964445527"
      ]
     },
     "execution_count": 84,
     "metadata": {},
     "output_type": "execute_result"
    }
   ],
   "source": [
    "r2_score(Y_test,Yhat3)"
   ]
  },
  {
   "cell_type": "code",
   "execution_count": 85,
   "metadata": {},
   "outputs": [
    {
     "data": {
      "text/plain": [
       "array([-70.34921442])"
      ]
     },
     "execution_count": 85,
     "metadata": {},
     "output_type": "execute_result"
    }
   ],
   "source": [
    "lm3.intercept_"
   ]
  },
  {
   "cell_type": "code",
   "execution_count": 86,
   "metadata": {},
   "outputs": [
    {
     "data": {
      "text/plain": [
       "array([[ 1.60669651e+01, -7.65887612e-01,  1.59699239e-02,\n",
       "        -1.16328119e-04]])"
      ]
     },
     "execution_count": 86,
     "metadata": {},
     "output_type": "execute_result"
    }
   ],
   "source": [
    "lm3.coef_"
   ]
  },
  {
   "cell_type": "code",
   "execution_count": null,
   "metadata": {},
   "outputs": [],
   "source": []
  },
  {
   "cell_type": "code",
   "execution_count": null,
   "metadata": {},
   "outputs": [],
   "source": []
  },
  {
   "cell_type": "code",
   "execution_count": null,
   "metadata": {},
   "outputs": [],
   "source": []
  }
 ],
 "metadata": {
  "kernelspec": {
   "display_name": "Python 3",
   "language": "python",
   "name": "python3"
  },
  "language_info": {
   "codemirror_mode": {
    "name": "ipython",
    "version": 3
   },
   "file_extension": ".py",
   "mimetype": "text/x-python",
   "name": "python",
   "nbconvert_exporter": "python",
   "pygments_lexer": "ipython3",
   "version": "3.8.3"
  }
 },
 "nbformat": 4,
 "nbformat_minor": 4
}
