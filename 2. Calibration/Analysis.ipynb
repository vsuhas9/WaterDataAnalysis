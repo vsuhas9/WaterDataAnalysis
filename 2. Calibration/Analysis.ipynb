{
 "cells": [
  {
   "cell_type": "markdown",
   "metadata": {},
   "source": [
    "# Analysis of Water Quality Data"
   ]
  },
  {
   "cell_type": "markdown",
   "metadata": {},
   "source": [
    "## Step-1: Installing Packages"
   ]
  },
  {
   "cell_type": "code",
   "execution_count": null,
   "metadata": {},
   "outputs": [],
   "source": [
    "pip install pandas"
   ]
  },
  {
   "cell_type": "code",
   "execution_count": null,
   "metadata": {},
   "outputs": [],
   "source": [
    "pip install matplotlib"
   ]
  },
  {
   "cell_type": "code",
   "execution_count": null,
   "metadata": {},
   "outputs": [],
   "source": [
    "pip install numpy"
   ]
  },
  {
   "cell_type": "code",
   "execution_count": null,
   "metadata": {},
   "outputs": [],
   "source": [
    "pip install seaborn"
   ]
  },
  {
   "cell_type": "code",
   "execution_count": null,
   "metadata": {},
   "outputs": [],
   "source": [
    "pip install sklearn"
   ]
  },
  {
   "cell_type": "markdown",
   "metadata": {},
   "source": [
    "## Step-2: Importing the Packages"
   ]
  },
  {
   "cell_type": "code",
   "execution_count": 124,
   "metadata": {},
   "outputs": [],
   "source": [
    "import pandas as pd\n",
    "import matplotlib.pyplot as plt\n",
    "import seaborn as sns\n",
    "import numpy as np\n",
    "from sklearn.linear_model import LinearRegression\n",
    "from sklearn.preprocessing import PolynomialFeatures\n",
    "from sklearn.metrics import mean_squared_error,r2_score\n",
    "from sklearn.model_selection import train_test_split"
   ]
  },
  {
   "cell_type": "markdown",
   "metadata": {},
   "source": [
    "## Step-3: Data Acquisition and Basic Data Insights"
   ]
  },
  {
   "cell_type": "code",
   "execution_count": 39,
   "metadata": {},
   "outputs": [],
   "source": [
    "path=\"TDS.csv\""
   ]
  },
  {
   "cell_type": "code",
   "execution_count": 40,
   "metadata": {},
   "outputs": [
    {
     "data": {
      "text/html": [
       "<div>\n",
       "<style scoped>\n",
       "    .dataframe tbody tr th:only-of-type {\n",
       "        vertical-align: middle;\n",
       "    }\n",
       "\n",
       "    .dataframe tbody tr th {\n",
       "        vertical-align: top;\n",
       "    }\n",
       "\n",
       "    .dataframe thead th {\n",
       "        text-align: right;\n",
       "    }\n",
       "</style>\n",
       "<table border=\"1\" class=\"dataframe\">\n",
       "  <thead>\n",
       "    <tr style=\"text-align: right;\">\n",
       "      <th></th>\n",
       "      <th>Sno</th>\n",
       "      <th>Temperature</th>\n",
       "      <th>AverageVoltage</th>\n",
       "      <th>Compensated_Voltage</th>\n",
       "      <th>TDS without Comp</th>\n",
       "      <th>TDS_Sensor</th>\n",
       "      <th>Meter-1 (Sachin Sir)</th>\n",
       "      <th>Meter-2 (Aftab Sir)</th>\n",
       "      <th>TDS _Meter</th>\n",
       "      <th>Unnamed: 9</th>\n",
       "      <th>SPCRC ( 130)</th>\n",
       "      <th>Washroom Water(324)</th>\n",
       "      <th>Himalaya (70)</th>\n",
       "      <th>Distilled</th>\n",
       "      <th>Theoritical Value</th>\n",
       "      <th>Temp</th>\n",
       "    </tr>\n",
       "  </thead>\n",
       "  <tbody>\n",
       "    <tr>\n",
       "      <th>0</th>\n",
       "      <td>1</td>\n",
       "      <td>50.0</td>\n",
       "      <td>0.201465</td>\n",
       "      <td>0.034249</td>\n",
       "      <td>82.0</td>\n",
       "      <td>55.0</td>\n",
       "      <td>81.0</td>\n",
       "      <td>94.0</td>\n",
       "      <td>89.0</td>\n",
       "      <td>14.535039</td>\n",
       "      <td>NaN</td>\n",
       "      <td>NaN</td>\n",
       "      <td>1.0</td>\n",
       "      <td>0.0</td>\n",
       "      <td>70.0</td>\n",
       "      <td>NaN</td>\n",
       "    </tr>\n",
       "    <tr>\n",
       "      <th>1</th>\n",
       "      <td>3</td>\n",
       "      <td>45.0</td>\n",
       "      <td>0.178095</td>\n",
       "      <td>0.035619</td>\n",
       "      <td>73.0</td>\n",
       "      <td>53.0</td>\n",
       "      <td>92.0</td>\n",
       "      <td>94.0</td>\n",
       "      <td>88.6</td>\n",
       "      <td>15.110395</td>\n",
       "      <td>NaN</td>\n",
       "      <td>NaN</td>\n",
       "      <td>NaN</td>\n",
       "      <td>NaN</td>\n",
       "      <td>NaN</td>\n",
       "      <td>NaN</td>\n",
       "    </tr>\n",
       "    <tr>\n",
       "      <th>2</th>\n",
       "      <td>4</td>\n",
       "      <td>42.0</td>\n",
       "      <td>0.163597</td>\n",
       "      <td>0.037181</td>\n",
       "      <td>67.0</td>\n",
       "      <td>51.0</td>\n",
       "      <td>87.0</td>\n",
       "      <td>89.0</td>\n",
       "      <td>88.6</td>\n",
       "      <td>15.765941</td>\n",
       "      <td>NaN</td>\n",
       "      <td>NaN</td>\n",
       "      <td>NaN</td>\n",
       "      <td>NaN</td>\n",
       "      <td>NaN</td>\n",
       "      <td>NaN</td>\n",
       "    </tr>\n",
       "    <tr>\n",
       "      <th>3</th>\n",
       "      <td>5</td>\n",
       "      <td>40.0</td>\n",
       "      <td>0.155311</td>\n",
       "      <td>0.038828</td>\n",
       "      <td>64.0</td>\n",
       "      <td>50.0</td>\n",
       "      <td>88.0</td>\n",
       "      <td>89.0</td>\n",
       "      <td>88.5</td>\n",
       "      <td>16.456301</td>\n",
       "      <td>NaN</td>\n",
       "      <td>NaN</td>\n",
       "      <td>NaN</td>\n",
       "      <td>NaN</td>\n",
       "      <td>NaN</td>\n",
       "      <td>NaN</td>\n",
       "    </tr>\n",
       "    <tr>\n",
       "      <th>4</th>\n",
       "      <td>6</td>\n",
       "      <td>38.0</td>\n",
       "      <td>0.147473</td>\n",
       "      <td>0.040965</td>\n",
       "      <td>61.0</td>\n",
       "      <td>49.0</td>\n",
       "      <td>87.0</td>\n",
       "      <td>89.0</td>\n",
       "      <td>88.0</td>\n",
       "      <td>17.351277</td>\n",
       "      <td>NaN</td>\n",
       "      <td>NaN</td>\n",
       "      <td>NaN</td>\n",
       "      <td>NaN</td>\n",
       "      <td>NaN</td>\n",
       "      <td>NaN</td>\n",
       "    </tr>\n",
       "  </tbody>\n",
       "</table>\n",
       "</div>"
      ],
      "text/plain": [
       "   Sno  Temperature  AverageVoltage  Compensated_Voltage  TDS without Comp  \\\n",
       "0    1         50.0        0.201465             0.034249              82.0   \n",
       "1    3         45.0        0.178095             0.035619              73.0   \n",
       "2    4         42.0        0.163597             0.037181              67.0   \n",
       "3    5         40.0        0.155311             0.038828              64.0   \n",
       "4    6         38.0        0.147473             0.040965              61.0   \n",
       "\n",
       "   TDS_Sensor  Meter-1 (Sachin Sir)  Meter-2 (Aftab Sir)  TDS _Meter  \\\n",
       "0        55.0                  81.0                 94.0        89.0   \n",
       "1        53.0                  92.0                 94.0        88.6   \n",
       "2        51.0                  87.0                 89.0        88.6   \n",
       "3        50.0                  88.0                 89.0        88.5   \n",
       "4        49.0                  87.0                 89.0        88.0   \n",
       "\n",
       "   Unnamed: 9  SPCRC ( 130)  Washroom Water(324)  Himalaya (70)  Distilled  \\\n",
       "0   14.535039           NaN                  NaN            1.0        0.0   \n",
       "1   15.110395           NaN                  NaN            NaN        NaN   \n",
       "2   15.765941           NaN                  NaN            NaN        NaN   \n",
       "3   16.456301           NaN                  NaN            NaN        NaN   \n",
       "4   17.351277           NaN                  NaN            NaN        NaN   \n",
       "\n",
       "   Theoritical Value  Temp  \n",
       "0               70.0   NaN  \n",
       "1                NaN   NaN  \n",
       "2                NaN   NaN  \n",
       "3                NaN   NaN  \n",
       "4                NaN   NaN  "
      ]
     },
     "execution_count": 40,
     "metadata": {},
     "output_type": "execute_result"
    }
   ],
   "source": [
    "df=pd.read_csv(path)\n",
    "df.head()"
   ]
  },
  {
   "cell_type": "code",
   "execution_count": 41,
   "metadata": {},
   "outputs": [
    {
     "data": {
      "text/plain": [
       "Sno                       int64\n",
       "Temperature             float64\n",
       "AverageVoltage          float64\n",
       "Compensated_Voltage     float64\n",
       "TDS without Comp        float64\n",
       "TDS_Sensor              float64\n",
       "Meter-1 (Sachin Sir)    float64\n",
       "Meter-2 (Aftab Sir)     float64\n",
       "TDS _Meter              float64\n",
       "Unnamed: 9              float64\n",
       "SPCRC ( 130)            float64\n",
       "Washroom Water(324)     float64\n",
       "Himalaya (70)           float64\n",
       "Distilled               float64\n",
       "Theoritical Value       float64\n",
       "Temp                    float64\n",
       "dtype: object"
      ]
     },
     "execution_count": 41,
     "metadata": {},
     "output_type": "execute_result"
    }
   ],
   "source": [
    "df.dtypes"
   ]
  },
  {
   "cell_type": "code",
   "execution_count": 42,
   "metadata": {},
   "outputs": [
    {
     "data": {
      "text/html": [
       "<div>\n",
       "<style scoped>\n",
       "    .dataframe tbody tr th:only-of-type {\n",
       "        vertical-align: middle;\n",
       "    }\n",
       "\n",
       "    .dataframe tbody tr th {\n",
       "        vertical-align: top;\n",
       "    }\n",
       "\n",
       "    .dataframe thead th {\n",
       "        text-align: right;\n",
       "    }\n",
       "</style>\n",
       "<table border=\"1\" class=\"dataframe\">\n",
       "  <thead>\n",
       "    <tr style=\"text-align: right;\">\n",
       "      <th></th>\n",
       "      <th>Sno</th>\n",
       "      <th>Temperature</th>\n",
       "      <th>AverageVoltage</th>\n",
       "      <th>Compensated_Voltage</th>\n",
       "      <th>TDS without Comp</th>\n",
       "      <th>TDS_Sensor</th>\n",
       "      <th>Meter-1 (Sachin Sir)</th>\n",
       "      <th>Meter-2 (Aftab Sir)</th>\n",
       "      <th>TDS _Meter</th>\n",
       "      <th>Unnamed: 9</th>\n",
       "      <th>SPCRC ( 130)</th>\n",
       "      <th>Washroom Water(324)</th>\n",
       "      <th>Himalaya (70)</th>\n",
       "      <th>Distilled</th>\n",
       "      <th>Theoritical Value</th>\n",
       "      <th>Temp</th>\n",
       "    </tr>\n",
       "  </thead>\n",
       "  <tbody>\n",
       "    <tr>\n",
       "      <th>count</th>\n",
       "      <td>251.000000</td>\n",
       "      <td>32.000000</td>\n",
       "      <td>32.000000</td>\n",
       "      <td>109.000000</td>\n",
       "      <td>43.000000</td>\n",
       "      <td>32.000000</td>\n",
       "      <td>32.000000</td>\n",
       "      <td>32.000000</td>\n",
       "      <td>115.000000</td>\n",
       "      <td>35.000000</td>\n",
       "      <td>0.0</td>\n",
       "      <td>0.0</td>\n",
       "      <td>1.0</td>\n",
       "      <td>1.0</td>\n",
       "      <td>1.0</td>\n",
       "      <td>0.0</td>\n",
       "    </tr>\n",
       "    <tr>\n",
       "      <th>mean</th>\n",
       "      <td>126.996016</td>\n",
       "      <td>37.218750</td>\n",
       "      <td>0.115402</td>\n",
       "      <td>0.011506</td>\n",
       "      <td>35.534884</td>\n",
       "      <td>38.593750</td>\n",
       "      <td>70.500000</td>\n",
       "      <td>71.343750</td>\n",
       "      <td>19.727826</td>\n",
       "      <td>15.147755</td>\n",
       "      <td>NaN</td>\n",
       "      <td>NaN</td>\n",
       "      <td>1.0</td>\n",
       "      <td>0.0</td>\n",
       "      <td>70.0</td>\n",
       "      <td>NaN</td>\n",
       "    </tr>\n",
       "    <tr>\n",
       "      <th>std</th>\n",
       "      <td>72.608567</td>\n",
       "      <td>7.938206</td>\n",
       "      <td>0.038882</td>\n",
       "      <td>0.020653</td>\n",
       "      <td>25.020324</td>\n",
       "      <td>9.510128</td>\n",
       "      <td>11.653603</td>\n",
       "      <td>12.769948</td>\n",
       "      <td>32.499008</td>\n",
       "      <td>8.925532</td>\n",
       "      <td>NaN</td>\n",
       "      <td>NaN</td>\n",
       "      <td>NaN</td>\n",
       "      <td>NaN</td>\n",
       "      <td>NaN</td>\n",
       "      <td>NaN</td>\n",
       "    </tr>\n",
       "    <tr>\n",
       "      <th>min</th>\n",
       "      <td>1.000000</td>\n",
       "      <td>25.000000</td>\n",
       "      <td>0.034400</td>\n",
       "      <td>0.000000</td>\n",
       "      <td>0.000000</td>\n",
       "      <td>22.000000</td>\n",
       "      <td>49.000000</td>\n",
       "      <td>53.000000</td>\n",
       "      <td>0.000000</td>\n",
       "      <td>0.000000</td>\n",
       "      <td>NaN</td>\n",
       "      <td>NaN</td>\n",
       "      <td>1.0</td>\n",
       "      <td>0.0</td>\n",
       "      <td>70.0</td>\n",
       "      <td>NaN</td>\n",
       "    </tr>\n",
       "    <tr>\n",
       "      <th>25%</th>\n",
       "      <td>64.500000</td>\n",
       "      <td>30.000000</td>\n",
       "      <td>0.089853</td>\n",
       "      <td>0.000000</td>\n",
       "      <td>7.500000</td>\n",
       "      <td>31.500000</td>\n",
       "      <td>60.000000</td>\n",
       "      <td>58.000000</td>\n",
       "      <td>0.000000</td>\n",
       "      <td>9.712897</td>\n",
       "      <td>NaN</td>\n",
       "      <td>NaN</td>\n",
       "      <td>1.0</td>\n",
       "      <td>0.0</td>\n",
       "      <td>70.0</td>\n",
       "      <td>NaN</td>\n",
       "    </tr>\n",
       "    <tr>\n",
       "      <th>50%</th>\n",
       "      <td>127.000000</td>\n",
       "      <td>38.000000</td>\n",
       "      <td>0.115641</td>\n",
       "      <td>0.000000</td>\n",
       "      <td>40.000000</td>\n",
       "      <td>39.000000</td>\n",
       "      <td>67.000000</td>\n",
       "      <td>70.500000</td>\n",
       "      <td>0.000000</td>\n",
       "      <td>14.158684</td>\n",
       "      <td>NaN</td>\n",
       "      <td>NaN</td>\n",
       "      <td>1.0</td>\n",
       "      <td>0.0</td>\n",
       "      <td>70.0</td>\n",
       "      <td>NaN</td>\n",
       "    </tr>\n",
       "    <tr>\n",
       "      <th>75%</th>\n",
       "      <td>189.500000</td>\n",
       "      <td>42.750000</td>\n",
       "      <td>0.139680</td>\n",
       "      <td>0.021978</td>\n",
       "      <td>52.500000</td>\n",
       "      <td>46.250000</td>\n",
       "      <td>80.250000</td>\n",
       "      <td>81.250000</td>\n",
       "      <td>55.750000</td>\n",
       "      <td>18.516393</td>\n",
       "      <td>NaN</td>\n",
       "      <td>NaN</td>\n",
       "      <td>1.0</td>\n",
       "      <td>0.0</td>\n",
       "      <td>70.0</td>\n",
       "      <td>NaN</td>\n",
       "    </tr>\n",
       "    <tr>\n",
       "      <th>max</th>\n",
       "      <td>252.000000</td>\n",
       "      <td>50.000000</td>\n",
       "      <td>0.201465</td>\n",
       "      <td>0.107179</td>\n",
       "      <td>82.000000</td>\n",
       "      <td>55.000000</td>\n",
       "      <td>92.000000</td>\n",
       "      <td>94.000000</td>\n",
       "      <td>89.000000</td>\n",
       "      <td>44.559660</td>\n",
       "      <td>NaN</td>\n",
       "      <td>NaN</td>\n",
       "      <td>1.0</td>\n",
       "      <td>0.0</td>\n",
       "      <td>70.0</td>\n",
       "      <td>NaN</td>\n",
       "    </tr>\n",
       "  </tbody>\n",
       "</table>\n",
       "</div>"
      ],
      "text/plain": [
       "              Sno  Temperature  AverageVoltage  Compensated_Voltage  \\\n",
       "count  251.000000    32.000000       32.000000           109.000000   \n",
       "mean   126.996016    37.218750        0.115402             0.011506   \n",
       "std     72.608567     7.938206        0.038882             0.020653   \n",
       "min      1.000000    25.000000        0.034400             0.000000   \n",
       "25%     64.500000    30.000000        0.089853             0.000000   \n",
       "50%    127.000000    38.000000        0.115641             0.000000   \n",
       "75%    189.500000    42.750000        0.139680             0.021978   \n",
       "max    252.000000    50.000000        0.201465             0.107179   \n",
       "\n",
       "       TDS without Comp  TDS_Sensor  Meter-1 (Sachin Sir)  \\\n",
       "count         43.000000   32.000000             32.000000   \n",
       "mean          35.534884   38.593750             70.500000   \n",
       "std           25.020324    9.510128             11.653603   \n",
       "min            0.000000   22.000000             49.000000   \n",
       "25%            7.500000   31.500000             60.000000   \n",
       "50%           40.000000   39.000000             67.000000   \n",
       "75%           52.500000   46.250000             80.250000   \n",
       "max           82.000000   55.000000             92.000000   \n",
       "\n",
       "       Meter-2 (Aftab Sir)  TDS _Meter  Unnamed: 9  SPCRC ( 130)  \\\n",
       "count            32.000000  115.000000   35.000000           0.0   \n",
       "mean             71.343750   19.727826   15.147755           NaN   \n",
       "std              12.769948   32.499008    8.925532           NaN   \n",
       "min              53.000000    0.000000    0.000000           NaN   \n",
       "25%              58.000000    0.000000    9.712897           NaN   \n",
       "50%              70.500000    0.000000   14.158684           NaN   \n",
       "75%              81.250000   55.750000   18.516393           NaN   \n",
       "max              94.000000   89.000000   44.559660           NaN   \n",
       "\n",
       "       Washroom Water(324)  Himalaya (70)  Distilled  Theoritical Value  Temp  \n",
       "count                  0.0            1.0        1.0                1.0   0.0  \n",
       "mean                   NaN            1.0        0.0               70.0   NaN  \n",
       "std                    NaN            NaN        NaN                NaN   NaN  \n",
       "min                    NaN            1.0        0.0               70.0   NaN  \n",
       "25%                    NaN            1.0        0.0               70.0   NaN  \n",
       "50%                    NaN            1.0        0.0               70.0   NaN  \n",
       "75%                    NaN            1.0        0.0               70.0   NaN  \n",
       "max                    NaN            1.0        0.0               70.0   NaN  "
      ]
     },
     "execution_count": 42,
     "metadata": {},
     "output_type": "execute_result"
    }
   ],
   "source": [
    "df.describe(include=\"all\")"
   ]
  },
  {
   "cell_type": "markdown",
   "metadata": {},
   "source": [
    "## Step-4: Data Wrangling"
   ]
  },
  {
   "cell_type": "code",
   "execution_count": 56,
   "metadata": {},
   "outputs": [],
   "source": [
    "df=df.head(32)"
   ]
  },
  {
   "cell_type": "code",
   "execution_count": 57,
   "metadata": {},
   "outputs": [],
   "source": [
    "df[[\"Temperature\"]]=df[[\"Temperature\"]]/df[[\"Temperature\"]].max()"
   ]
  },
  {
   "cell_type": "code",
   "execution_count": 58,
   "metadata": {},
   "outputs": [
    {
     "data": {
      "text/html": [
       "<div>\n",
       "<style scoped>\n",
       "    .dataframe tbody tr th:only-of-type {\n",
       "        vertical-align: middle;\n",
       "    }\n",
       "\n",
       "    .dataframe tbody tr th {\n",
       "        vertical-align: top;\n",
       "    }\n",
       "\n",
       "    .dataframe thead th {\n",
       "        text-align: right;\n",
       "    }\n",
       "</style>\n",
       "<table border=\"1\" class=\"dataframe\">\n",
       "  <thead>\n",
       "    <tr style=\"text-align: right;\">\n",
       "      <th></th>\n",
       "      <th>Sno</th>\n",
       "      <th>Temperature</th>\n",
       "      <th>AverageVoltage</th>\n",
       "      <th>Compensated_Voltage</th>\n",
       "      <th>TDS without Comp</th>\n",
       "      <th>TDS_Sensor</th>\n",
       "      <th>Meter-1 (Sachin Sir)</th>\n",
       "      <th>Meter-2 (Aftab Sir)</th>\n",
       "      <th>TDS _Meter</th>\n",
       "      <th>Unnamed: 9</th>\n",
       "      <th>SPCRC ( 130)</th>\n",
       "      <th>Washroom Water(324)</th>\n",
       "      <th>Himalaya (70)</th>\n",
       "      <th>Distilled</th>\n",
       "      <th>Theoritical Value</th>\n",
       "      <th>Temp</th>\n",
       "    </tr>\n",
       "  </thead>\n",
       "  <tbody>\n",
       "    <tr>\n",
       "      <th>0</th>\n",
       "      <td>1</td>\n",
       "      <td>1.00</td>\n",
       "      <td>0.201465</td>\n",
       "      <td>0.034249</td>\n",
       "      <td>82.0</td>\n",
       "      <td>55.0</td>\n",
       "      <td>81.0</td>\n",
       "      <td>94.0</td>\n",
       "      <td>89.0</td>\n",
       "      <td>14.535039</td>\n",
       "      <td>NaN</td>\n",
       "      <td>NaN</td>\n",
       "      <td>1.0</td>\n",
       "      <td>0.0</td>\n",
       "      <td>70.0</td>\n",
       "      <td>NaN</td>\n",
       "    </tr>\n",
       "    <tr>\n",
       "      <th>1</th>\n",
       "      <td>3</td>\n",
       "      <td>0.90</td>\n",
       "      <td>0.178095</td>\n",
       "      <td>0.035619</td>\n",
       "      <td>73.0</td>\n",
       "      <td>53.0</td>\n",
       "      <td>92.0</td>\n",
       "      <td>94.0</td>\n",
       "      <td>88.6</td>\n",
       "      <td>15.110395</td>\n",
       "      <td>NaN</td>\n",
       "      <td>NaN</td>\n",
       "      <td>NaN</td>\n",
       "      <td>NaN</td>\n",
       "      <td>NaN</td>\n",
       "      <td>NaN</td>\n",
       "    </tr>\n",
       "    <tr>\n",
       "      <th>2</th>\n",
       "      <td>4</td>\n",
       "      <td>0.84</td>\n",
       "      <td>0.163597</td>\n",
       "      <td>0.037181</td>\n",
       "      <td>67.0</td>\n",
       "      <td>51.0</td>\n",
       "      <td>87.0</td>\n",
       "      <td>89.0</td>\n",
       "      <td>88.6</td>\n",
       "      <td>15.765941</td>\n",
       "      <td>NaN</td>\n",
       "      <td>NaN</td>\n",
       "      <td>NaN</td>\n",
       "      <td>NaN</td>\n",
       "      <td>NaN</td>\n",
       "      <td>NaN</td>\n",
       "    </tr>\n",
       "    <tr>\n",
       "      <th>3</th>\n",
       "      <td>5</td>\n",
       "      <td>0.80</td>\n",
       "      <td>0.155311</td>\n",
       "      <td>0.038828</td>\n",
       "      <td>64.0</td>\n",
       "      <td>50.0</td>\n",
       "      <td>88.0</td>\n",
       "      <td>89.0</td>\n",
       "      <td>88.5</td>\n",
       "      <td>16.456301</td>\n",
       "      <td>NaN</td>\n",
       "      <td>NaN</td>\n",
       "      <td>NaN</td>\n",
       "      <td>NaN</td>\n",
       "      <td>NaN</td>\n",
       "      <td>NaN</td>\n",
       "    </tr>\n",
       "    <tr>\n",
       "      <th>4</th>\n",
       "      <td>6</td>\n",
       "      <td>0.76</td>\n",
       "      <td>0.147473</td>\n",
       "      <td>0.040965</td>\n",
       "      <td>61.0</td>\n",
       "      <td>49.0</td>\n",
       "      <td>87.0</td>\n",
       "      <td>89.0</td>\n",
       "      <td>88.0</td>\n",
       "      <td>17.351277</td>\n",
       "      <td>NaN</td>\n",
       "      <td>NaN</td>\n",
       "      <td>NaN</td>\n",
       "      <td>NaN</td>\n",
       "      <td>NaN</td>\n",
       "      <td>NaN</td>\n",
       "    </tr>\n",
       "  </tbody>\n",
       "</table>\n",
       "</div>"
      ],
      "text/plain": [
       "   Sno  Temperature  AverageVoltage  Compensated_Voltage  TDS without Comp  \\\n",
       "0    1         1.00        0.201465             0.034249              82.0   \n",
       "1    3         0.90        0.178095             0.035619              73.0   \n",
       "2    4         0.84        0.163597             0.037181              67.0   \n",
       "3    5         0.80        0.155311             0.038828              64.0   \n",
       "4    6         0.76        0.147473             0.040965              61.0   \n",
       "\n",
       "   TDS_Sensor  Meter-1 (Sachin Sir)  Meter-2 (Aftab Sir)  TDS _Meter  \\\n",
       "0        55.0                  81.0                 94.0        89.0   \n",
       "1        53.0                  92.0                 94.0        88.6   \n",
       "2        51.0                  87.0                 89.0        88.6   \n",
       "3        50.0                  88.0                 89.0        88.5   \n",
       "4        49.0                  87.0                 89.0        88.0   \n",
       "\n",
       "   Unnamed: 9  SPCRC ( 130)  Washroom Water(324)  Himalaya (70)  Distilled  \\\n",
       "0   14.535039           NaN                  NaN            1.0        0.0   \n",
       "1   15.110395           NaN                  NaN            NaN        NaN   \n",
       "2   15.765941           NaN                  NaN            NaN        NaN   \n",
       "3   16.456301           NaN                  NaN            NaN        NaN   \n",
       "4   17.351277           NaN                  NaN            NaN        NaN   \n",
       "\n",
       "   Theoritical Value  Temp  \n",
       "0               70.0   NaN  \n",
       "1                NaN   NaN  \n",
       "2                NaN   NaN  \n",
       "3                NaN   NaN  \n",
       "4                NaN   NaN  "
      ]
     },
     "execution_count": 58,
     "metadata": {},
     "output_type": "execute_result"
    }
   ],
   "source": [
    "df.head()"
   ]
  },
  {
   "cell_type": "code",
   "execution_count": 126,
   "metadata": {},
   "outputs": [],
   "source": [
    "Z=df[[\"Temperature\",\"AverageVoltage\"]]"
   ]
  },
  {
   "cell_type": "code",
   "execution_count": 127,
   "metadata": {},
   "outputs": [],
   "source": [
    "Y=df[[\"TDS _Meter\"]]"
   ]
  },
  {
   "cell_type": "code",
   "execution_count": 182,
   "metadata": {},
   "outputs": [],
   "source": [
    "Z_train, Z_test,Y_train, Y_test= train_test_split(Z,Y,test_size=0.2,random_state=0)\n",
    "#df1=df.head(11)\n",
    "#df2=df.tail(11)\n",
    "#Z_train=df1[[\"Temperature\",\"AverageVoltage\"]]\n",
    "#Z_test=df2[[\"Temperature\",\"AverageVoltage\"]]\n",
    "#Y_train=df1[[\"TDS _Meter\"]]\n",
    "#Y_test=df2[[\"TDS _Meter\"]]"
   ]
  },
  {
   "cell_type": "code",
   "execution_count": null,
   "metadata": {},
   "outputs": [],
   "source": []
  },
  {
   "cell_type": "markdown",
   "metadata": {},
   "source": [
    "## Step-5: Multiple Linear Regression"
   ]
  },
  {
   "cell_type": "code",
   "execution_count": 183,
   "metadata": {},
   "outputs": [],
   "source": [
    "lm=LinearRegression()"
   ]
  },
  {
   "cell_type": "code",
   "execution_count": 184,
   "metadata": {},
   "outputs": [
    {
     "data": {
      "text/plain": [
       "LinearRegression()"
      ]
     },
     "execution_count": 184,
     "metadata": {},
     "output_type": "execute_result"
    }
   ],
   "source": [
    "lm.fit(Z_train,Y_train)"
   ]
  },
  {
   "cell_type": "code",
   "execution_count": 185,
   "metadata": {},
   "outputs": [],
   "source": [
    "Yhat=lm.predict(Z_test)"
   ]
  },
  {
   "cell_type": "code",
   "execution_count": 186,
   "metadata": {},
   "outputs": [
    {
     "data": {
      "text/plain": [
       "array([[80.89677698],\n",
       "       [63.34787326],\n",
       "       [82.04905268],\n",
       "       [85.61104088],\n",
       "       [70.53060177],\n",
       "       [73.86597056],\n",
       "       [57.75809317]])"
      ]
     },
     "execution_count": 186,
     "metadata": {},
     "output_type": "execute_result"
    }
   ],
   "source": [
    "Yhat"
   ]
  },
  {
   "cell_type": "markdown",
   "metadata": {},
   "source": [
    "### Distribution Plot"
   ]
  },
  {
   "cell_type": "code",
   "execution_count": 187,
   "metadata": {
    "scrolled": true
   },
   "outputs": [
    {
     "data": {
      "text/plain": [
       "<matplotlib.axes._subplots.AxesSubplot at 0x1a000d10b50>"
      ]
     },
     "execution_count": 187,
     "metadata": {},
     "output_type": "execute_result"
    },
    {
     "data": {
      "image/png": "[encoded data removed]",
      "text/plain": [
       "<Figure size 432x288 with 1 Axes>"
      ]
     },
     "metadata": {
      "needs_background": "light"
     },
     "output_type": "display_data"
    }
   ],
   "source": [
    "ax1=sns.distplot(Y_test,hist=False,color=\"r\",label=\"Actual Value\")\n",
    "sns.distplot(Yhat,hist=False,color=\"b\",label=\"Predicted Value\",ax=ax1)\n"
   ]
  },
  {
   "cell_type": "code",
   "execution_count": 188,
   "metadata": {},
   "outputs": [
    {
     "data": {
      "text/plain": [
       "0.8870510404616742"
      ]
     },
     "execution_count": 188,
     "metadata": {},
     "output_type": "execute_result"
    }
   ],
   "source": [
    "r2_score(Y_test,Yhat)"
   ]
  },
  {
   "cell_type": "code",
   "execution_count": 189,
   "metadata": {},
   "outputs": [
    {
     "data": {
      "text/plain": [
       "12.64696415193055"
      ]
     },
     "execution_count": 189,
     "metadata": {},
     "output_type": "execute_result"
    }
   ],
   "source": [
    "mse=mean_squared_error(Y_test,Yhat)\n",
    "mse"
   ]
  },
  {
   "cell_type": "code",
   "execution_count": 190,
   "metadata": {},
   "outputs": [
    {
     "data": {
      "text/plain": [
       "array([[-39.26363072, 375.45793173]])"
      ]
     },
     "execution_count": 190,
     "metadata": {},
     "output_type": "execute_result"
    }
   ],
   "source": [
    "lm.coef_"
   ]
  },
  {
   "cell_type": "code",
   "execution_count": 191,
   "metadata": {},
   "outputs": [
    {
     "data": {
      "text/plain": [
       "array([57.16869942])"
      ]
     },
     "execution_count": 191,
     "metadata": {},
     "output_type": "execute_result"
    }
   ],
   "source": [
    "lm.intercept_"
   ]
  },
  {
   "cell_type": "markdown",
   "metadata": {},
   "source": [
    "## Step-6: Polynomial  Linear Regression"
   ]
  },
  {
   "cell_type": "markdown",
   "metadata": {},
   "source": [
    "### A. Degree=2:"
   ]
  },
  {
   "cell_type": "code",
   "execution_count": 192,
   "metadata": {},
   "outputs": [
    {
     "data": {
      "text/plain": [
       "<matplotlib.axes._subplots.AxesSubplot at 0x1a0021ec730>"
      ]
     },
     "execution_count": 192,
     "metadata": {},
     "output_type": "execute_result"
    },
    {
     "data": {
      "image/png": "[encoded data removed]",
      "text/plain": [
       "<Figure size 432x288 with 1 Axes>"
      ]
     },
     "metadata": {
      "needs_background": "light"
     },
     "output_type": "display_data"
    }
   ],
   "source": [
    "pr=PolynomialFeatures(degree=2,include_bias=False)\n",
    "X_poly=pr.fit_transform(Z_train)\n",
    "lm1=LinearRegression()\n",
    "lm1.fit(X_poly,Y_train)\n",
    "X_test=pr.fit_transform(Z_test)\n",
    "Yhat1=lm1.predict(X_test)\n",
    "ax1=sns.distplot(Y_test,hist=False,color=\"r\",label=\"Actual Value\")\n",
    "sns.distplot(Yhat1,hist=False,color=\"b\",label=\"Predicted Value\",ax=ax1)\n"
   ]
  },
  {
   "cell_type": "code",
   "execution_count": 193,
   "metadata": {},
   "outputs": [
    {
     "data": {
      "text/plain": [
       "0.9306548906423715"
      ]
     },
     "execution_count": 193,
     "metadata": {},
     "output_type": "execute_result"
    }
   ],
   "source": [
    "r2_score(Y_test,Yhat1)"
   ]
  },
  {
   "cell_type": "code",
   "execution_count": 194,
   "metadata": {},
   "outputs": [
    {
     "data": {
      "text/plain": [
       "array([18.58425967])"
      ]
     },
     "execution_count": 194,
     "metadata": {},
     "output_type": "execute_result"
    }
   ],
   "source": [
    "lm1.intercept_"
   ]
  },
  {
   "cell_type": "code",
   "execution_count": 195,
   "metadata": {},
   "outputs": [
    {
     "data": {
      "text/plain": [
       "array([[   42.50158199,   531.31583067,    24.86230504, -1100.39587967,\n",
       "         2980.48856494]])"
      ]
     },
     "execution_count": 195,
     "metadata": {},
     "output_type": "execute_result"
    }
   ],
   "source": [
    "lm1.coef_"
   ]
  },
  {
   "cell_type": "markdown",
   "metadata": {},
   "source": [
    "### B. Degree=3:"
   ]
  },
  {
   "cell_type": "code",
   "execution_count": 196,
   "metadata": {},
   "outputs": [
    {
     "data": {
      "text/plain": [
       "<matplotlib.axes._subplots.AxesSubplot at 0x1a00222f280>"
      ]
     },
     "execution_count": 196,
     "metadata": {},
     "output_type": "execute_result"
    },
    {
     "data": {
      "image/png": "[encoded data removed]",
      "text/plain": [
       "<Figure size 432x288 with 1 Axes>"
      ]
     },
     "metadata": {
      "needs_background": "light"
     },
     "output_type": "display_data"
    }
   ],
   "source": [
    "pr=PolynomialFeatures(degree=3,include_bias=False)\n",
    "X_poly=pr.fit_transform(Z_train)\n",
    "lm2=LinearRegression()\n",
    "lm2.fit(X_poly,Y_train)\n",
    "X_test=pr.fit_transform(Z_test)\n",
    "Yhat2=lm2.predict(X_test)\n",
    "ax1=sns.distplot(Y_test,hist=False,color=\"r\",label=\"Actual Value\")\n",
    "sns.distplot(Yhat2,hist=False,color=\"b\",label=\"Predicted Value\",ax=ax1)\n"
   ]
  },
  {
   "cell_type": "code",
   "execution_count": 197,
   "metadata": {},
   "outputs": [
    {
     "data": {
      "text/plain": [
       "0.9207751465798905"
      ]
     },
     "execution_count": 197,
     "metadata": {},
     "output_type": "execute_result"
    }
   ],
   "source": [
    "r2_score(Y_test,Yhat2)"
   ]
  },
  {
   "cell_type": "code",
   "execution_count": 198,
   "metadata": {},
   "outputs": [
    {
     "data": {
      "text/plain": [
       "array([-60.36327428])"
      ]
     },
     "execution_count": 198,
     "metadata": {},
     "output_type": "execute_result"
    }
   ],
   "source": [
    "lm2.intercept_"
   ]
  },
  {
   "cell_type": "code",
   "execution_count": 199,
   "metadata": {},
   "outputs": [
    {
     "data": {
      "text/plain": [
       "array([[   497.18149904,   -208.72116613,   -690.67728054,\n",
       "          -247.73289735,   7129.48584791,    389.54439264,\n",
       "         -1395.74863532,   6856.5735122 , -29418.60294554]])"
      ]
     },
     "execution_count": 199,
     "metadata": {},
     "output_type": "execute_result"
    }
   ],
   "source": [
    "lm2.coef_"
   ]
  },
  {
   "cell_type": "markdown",
   "metadata": {},
   "source": [
    "### Degree=4: "
   ]
  },
  {
   "cell_type": "code",
   "execution_count": 204,
   "metadata": {},
   "outputs": [
    {
     "data": {
      "text/plain": [
       "<matplotlib.axes._subplots.AxesSubplot at 0x1a00231e5e0>"
      ]
     },
     "execution_count": 204,
     "metadata": {},
     "output_type": "execute_result"
    },
    {
     "data": {
      "image/png": "[encoded data removed]",
      "text/plain": [
       "<Figure size 432x288 with 1 Axes>"
      ]
     },
     "metadata": {
      "needs_background": "light"
     },
     "output_type": "display_data"
    }
   ],
   "source": [
    "pr=PolynomialFeatures(degree=4,include_bias=False)\n",
    "X_poly=pr.fit_transform(Z_train)\n",
    "lm3=LinearRegression()\n",
    "lm3.fit(X_poly,Y_train)\n",
    "X_poly=pr.fit_transform(Z_test)\n",
    "Yhat3=lm3.predict(X_poly)\n",
    "ax1=sns.distplot(Y_test,hist=False,color=\"r\",label=\"Actual Value\")\n",
    "sns.distplot(Yhat3,hist=False,color=\"b\",label=\"Predicted Value\",ax=ax1)\n"
   ]
  },
  {
   "cell_type": "code",
   "execution_count": 205,
   "metadata": {},
   "outputs": [
    {
     "data": {
      "text/plain": [
       "-1.700545322497458"
      ]
     },
     "execution_count": 205,
     "metadata": {},
     "output_type": "execute_result"
    }
   ],
   "source": [
    "r2_score(Y_test,Yhat3)"
   ]
  },
  {
   "cell_type": "code",
   "execution_count": 202,
   "metadata": {},
   "outputs": [
    {
     "data": {
      "text/plain": [
       "array([654.34070268])"
      ]
     },
     "execution_count": 202,
     "metadata": {},
     "output_type": "execute_result"
    }
   ],
   "source": [
    "lm3.intercept_"
   ]
  },
  {
   "cell_type": "code",
   "execution_count": 203,
   "metadata": {},
   "outputs": [
    {
     "data": {
      "text/plain": [
       "array([[-4.87340227e+03,  5.72411973e+03,  1.50810989e+04,\n",
       "        -4.47479792e+04,  6.48617506e+04, -2.60634949e+04,\n",
       "         2.05867954e+05, -8.91193563e+05,  1.46864529e+06,\n",
       "         1.85904518e+04, -2.09985615e+05,  8.22315576e+05,\n",
       "         3.04481535e+05, -5.42949813e+06]])"
      ]
     },
     "execution_count": 203,
     "metadata": {},
     "output_type": "execute_result"
    }
   ],
   "source": [
    "lm3.coef_"
   ]
  },
  {
   "cell_type": "code",
   "execution_count": null,
   "metadata": {},
   "outputs": [],
   "source": []
  },
  {
   "cell_type": "code",
   "execution_count": null,
   "metadata": {},
   "outputs": [],
   "source": []
  },
  {
   "cell_type": "code",
   "execution_count": null,
   "metadata": {},
   "outputs": [],
   "source": []
  },
  {
   "cell_type": "code",
   "execution_count": null,
   "metadata": {},
   "outputs": [],
   "source": []
  },
  {
   "cell_type": "code",
   "execution_count": null,
   "metadata": {},
   "outputs": [],
   "source": []
  },
  {
   "cell_type": "code",
   "execution_count": null,
   "metadata": {},
   "outputs": [],
   "source": []
  }
 ],
 "metadata": {
  "kernelspec": {
   "display_name": "Python 3",
   "language": "python",
   "name": "python3"
  },
  "language_info": {
   "codemirror_mode": {
    "name": "ipython",
    "version": 3
   },
   "file_extension": ".py",
   "mimetype": "text/x-python",
   "name": "python",
   "nbconvert_exporter": "python",
   "pygments_lexer": "ipython3",
   "version": "3.8.3"
  }
 },
 "nbformat": 4,
 "nbformat_minor": 4
}
